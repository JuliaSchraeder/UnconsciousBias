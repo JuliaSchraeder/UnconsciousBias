{
 "cells": [
  {
   "cell_type": "code",
   "execution_count": 71,
   "metadata": {},
   "outputs": [],
   "source": [
    "import os\n",
    "import os.path as op\n",
    "import shutil\n",
    "\n",
    "import mne\n",
    "from mne import read_evokeds\n",
    "\n",
    "import matplotlib.pyplot as plt\n",
    "import numpy as np\n",
    "import pandas as pd\n",
    "import glob\n",
    "\n",
    "#https://mne.tools/stable/overview/implementation.html"
   ]
  },
  {
   "cell_type": "code",
   "execution_count": null,
   "metadata": {},
   "outputs": [],
   "source": []
  },
  {
   "cell_type": "markdown",
   "metadata": {},
   "source": [
    "## Extract Epochs for plotting from every subjects"
   ]
  },
  {
   "cell_type": "code",
   "execution_count": 72,
   "metadata": {},
   "outputs": [
    {
     "data": {
      "text/plain": [
       "107"
      ]
     },
     "execution_count": 72,
     "metadata": {},
     "output_type": "execute_result"
    }
   ],
   "source": [
    "subjects = glob.glob('Path/*.edf') "
   ]
  },
  {
   "cell_type": "code",
   "execution_count": 73,
   "metadata": {},
   "outputs": [],
   "source": [
    "#Analysis settings\n",
    "tmin = -0.2\n",
    "tmax = 1\n",
    "baseline = (-0.2, 0)\n",
    "\n",
    "montage = mne.channels.read_custom_montage('Path/BC-MR-64.bvef') #set montage "
   ]
  },
  {
   "cell_type": "code",
   "execution_count": 74,
   "metadata": {},
   "outputs": [
    {
     "name": "stdout",
     "output_type": "stream",
     "text": [
      "Extracting EDF parameters from C:\\Users\\juhoffmann\\Desktop\\EEG_BIDS\\EEG_250Hz\\edf\\sub-004_BackwardMask_Preprocessed.edf...\n",
      "EDF file detected\n",
      "Setting channel info structure...\n",
      "Creating raw.info structure...\n",
      "Reading 0 ... 126749  =      0.000 ...   506.996 secs...\n",
      "Used Annotations descriptions: ['New Segment', 'R', 'R128', 'S 50', 'S 60', 'S 70', 'S120', 'S130', 'S140', 'S150', 'S160', 'S170', 'Time 0', 'h_h_strong', 'h_h_weak', 'h_n_strong', 'h_n_weak', 'h_s_strong', 'h_s_weak', 'n_h_strong', 'n_h_weak', 'n_n_strong', 'n_n_weak', 'n_s_strong', 'n_s_weak', 's_h_strong', 's_h_weak', 's_n_strong', 's_n_weak', 's_s_strong', 's_s_weak']\n",
      "Multiple event values for single event times found. Creating new event value to reflect simultaneous events.\n",
      "Not setting metadata\n",
      "814 matching events found\n",
      "Applying baseline correction (mode: mean)\n",
      "0 projection items activated\n",
      "Using data from preloaded Raw for 814 events and 301 original time points ...\n"
     ]
    },
    {
     "name": "stderr",
     "output_type": "stream",
     "text": [
      "C:\\Users\\juhoffmann\\AppData\\Local\\Temp\\ipykernel_9188\\58317019.py:14: RuntimeWarning: Omitted 1938 annotation(s) that were outside data range.\n",
      "  eeg = mne.io.read_raw_edf(i, preload = True)\n",
      "C:\\Users\\juhoffmann\\AppData\\Local\\Temp\\ipykernel_9188\\58317019.py:17: RuntimeWarning: Fiducial point nasion not found, assuming identity unknown to head transformation\n",
      "  eeg.set_montage(montage, match_case=False) #set montage to raw dataset\n",
      "C:\\Users\\juhoffmann\\AppData\\Local\\Temp\\ipykernel_9188\\58317019.py:17: RuntimeWarning: Not setting position of 1 ecg channel found in montage:\n",
      "['ECG']\n",
      "Consider setting the channel types to be of EEG/sEEG/ECoG/DBS/fNIRS using inst.set_channel_types before calling inst.set_montage, or omit these channels when creating your montage.\n",
      "  eeg.set_montage(montage, match_case=False) #set montage to raw dataset\n"
     ]
    },
    {
     "name": "stdout",
     "output_type": "stream",
     "text": [
      "1 bad epochs dropped\n",
      "NOTE: pick_channels() is a legacy function. New code should use inst.pick(...).\n",
      "NOTE: pick_channels() is a legacy function. New code should use inst.pick(...).\n",
      "NOTE: pick_channels() is a legacy function. New code should use inst.pick(...).\n",
      "NOTE: pick_channels() is a legacy function. New code should use inst.pick(...).\n",
      "NOTE: pick_channels() is a legacy function. New code should use inst.pick(...).\n",
      "NOTE: pick_channels() is a legacy function. New code should use inst.pick(...).\n",
      "NOTE: pick_channels() is a legacy function. New code should use inst.pick(...).\n",
      "NOTE: pick_channels() is a legacy function. New code should use inst.pick(...).\n",
      "NOTE: pick_channels() is a legacy function. New code should use inst.pick(...).\n",
      "Extracting EDF parameters from C:\\Users\\juhoffmann\\Desktop\\EEG_BIDS\\EEG_250Hz\\edf\\sub-006_BackwardMask_Preprocessed.edf...\n",
      "EDF file detected\n",
      "Setting channel info structure...\n",
      "Creating raw.info structure...\n",
      "Reading 0 ... 131999  =      0.000 ...   527.996 secs...\n",
      "Used Annotations descriptions: ['New Segment', 'R', 'R128', 'S 50', 'S 60', 'S 70', 'S120', 'S130', 'S140', 'S150', 'S160', 'S170', 'Time 0', 'h_h_strong', 'h_h_weak', 'h_n_strong', 'h_n_weak', 'h_s_strong', 'h_s_weak', 'n_h_strong', 'n_h_weak', 'n_n_strong', 'n_n_weak', 'n_s_strong', 'n_s_weak', 's_h_strong', 's_h_weak', 's_n_strong', 's_n_weak', 's_s_strong', 's_s_weak']\n",
      "Multiple event values for single event times found. Creating new event value to reflect simultaneous events.\n",
      "Not setting metadata\n",
      "777 matching events found\n",
      "Applying baseline correction (mode: mean)\n",
      "0 projection items activated\n",
      "Using data from preloaded Raw for 777 events and 301 original time points ...\n"
     ]
    },
    {
     "name": "stderr",
     "output_type": "stream",
     "text": [
      "C:\\Users\\juhoffmann\\AppData\\Local\\Temp\\ipykernel_9188\\58317019.py:14: RuntimeWarning: Omitted 1827 annotation(s) that were outside data range.\n",
      "  eeg = mne.io.read_raw_edf(i, preload = True)\n",
      "C:\\Users\\juhoffmann\\AppData\\Local\\Temp\\ipykernel_9188\\58317019.py:17: RuntimeWarning: Fiducial point nasion not found, assuming identity unknown to head transformation\n",
      "  eeg.set_montage(montage, match_case=False) #set montage to raw dataset\n",
      "C:\\Users\\juhoffmann\\AppData\\Local\\Temp\\ipykernel_9188\\58317019.py:17: RuntimeWarning: Not setting position of 1 ecg channel found in montage:\n",
      "['ECG']\n",
      "Consider setting the channel types to be of EEG/sEEG/ECoG/DBS/fNIRS using inst.set_channel_types before calling inst.set_montage, or omit these channels when creating your montage.\n",
      "  eeg.set_montage(montage, match_case=False) #set montage to raw dataset\n"
     ]
    },
    {
     "name": "stdout",
     "output_type": "stream",
     "text": [
      "3 bad epochs dropped\n",
      "NOTE: pick_channels() is a legacy function. New code should use inst.pick(...).\n",
      "NOTE: pick_channels() is a legacy function. New code should use inst.pick(...).\n",
      "NOTE: pick_channels() is a legacy function. New code should use inst.pick(...).\n",
      "NOTE: pick_channels() is a legacy function. New code should use inst.pick(...).\n",
      "NOTE: pick_channels() is a legacy function. New code should use inst.pick(...).\n",
      "NOTE: pick_channels() is a legacy function. New code should use inst.pick(...).\n",
      "NOTE: pick_channels() is a legacy function. New code should use inst.pick(...).\n",
      "NOTE: pick_channels() is a legacy function. New code should use inst.pick(...).\n",
      "NOTE: pick_channels() is a legacy function. New code should use inst.pick(...).\n",
      "Extracting EDF parameters from C:\\Users\\juhoffmann\\Desktop\\EEG_BIDS\\EEG_250Hz\\edf\\sub-007_BackwardMask_Preprocessed.edf...\n",
      "EDF file detected\n",
      "Setting channel info structure...\n",
      "Creating raw.info structure...\n",
      "Reading 0 ... 119999  =      0.000 ...   479.996 secs...\n",
      "Used Annotations descriptions: ['New Segment', 'R', 'R128', 'S120', 'S130', 'S140', 'S150', 'S160', 'S170', 'TEND', 'TPEAK', 'TSTART', 'Time 0', 'h_h_strong', 'h_h_weak', 'h_n_strong', 'h_n_weak', 'h_s_strong', 'h_s_weak', 'n_h_strong', 'n_h_weak', 'n_n_strong', 'n_n_weak', 'n_s_strong', 'n_s_weak', 's_h_strong', 's_h_weak', 's_n_strong', 's_n_weak', 's_s_strong', 's_s_weak']\n",
      "Multiple event values for single event times found. Creating new event value to reflect simultaneous events.\n",
      "Not setting metadata\n",
      "667 matching events found\n",
      "Applying baseline correction (mode: mean)\n",
      "0 projection items activated\n",
      "Using data from preloaded Raw for 667 events and 301 original time points ...\n"
     ]
    },
    {
     "name": "stderr",
     "output_type": "stream",
     "text": [
      "C:\\Users\\juhoffmann\\AppData\\Local\\Temp\\ipykernel_9188\\58317019.py:14: RuntimeWarning: Omitted 1686 annotation(s) that were outside data range.\n",
      "  eeg = mne.io.read_raw_edf(i, preload = True)\n",
      "C:\\Users\\juhoffmann\\AppData\\Local\\Temp\\ipykernel_9188\\58317019.py:17: RuntimeWarning: Fiducial point nasion not found, assuming identity unknown to head transformation\n",
      "  eeg.set_montage(montage, match_case=False) #set montage to raw dataset\n",
      "C:\\Users\\juhoffmann\\AppData\\Local\\Temp\\ipykernel_9188\\58317019.py:17: RuntimeWarning: Not setting position of 1 ecg channel found in montage:\n",
      "['ECG']\n",
      "Consider setting the channel types to be of EEG/sEEG/ECoG/DBS/fNIRS using inst.set_channel_types before calling inst.set_montage, or omit these channels when creating your montage.\n",
      "  eeg.set_montage(montage, match_case=False) #set montage to raw dataset\n"
     ]
    },
    {
     "name": "stdout",
     "output_type": "stream",
     "text": [
      "1 bad epochs dropped\n",
      "NOTE: pick_channels() is a legacy function. New code should use inst.pick(...).\n",
      "NOTE: pick_channels() is a legacy function. New code should use inst.pick(...).\n",
      "NOTE: pick_channels() is a legacy function. New code should use inst.pick(...).\n",
      "NOTE: pick_channels() is a legacy function. New code should use inst.pick(...).\n",
      "NOTE: pick_channels() is a legacy function. New code should use inst.pick(...).\n",
      "NOTE: pick_channels() is a legacy function. New code should use inst.pick(...).\n",
      "NOTE: pick_channels() is a legacy function. New code should use inst.pick(...).\n",
      "NOTE: pick_channels() is a legacy function. New code should use inst.pick(...).\n",
      "NOTE: pick_channels() is a legacy function. New code should use inst.pick(...).\n",
      "Extracting EDF parameters from C:\\Users\\juhoffmann\\Desktop\\EEG_BIDS\\EEG_250Hz\\edf\\sub-008_BackwardMask_Preprocessed.edf...\n",
      "EDF file detected\n",
      "Setting channel info structure...\n",
      "Creating raw.info structure...\n",
      "Reading 0 ... 129749  =      0.000 ...   518.996 secs...\n",
      "Used Annotations descriptions: ['New Segment', 'R', 'R128', 'S 50', 'S 60', 'S 70', 'S120', 'S130', 'S140', 'S150', 'S160', 'S170', 'Time 0', 'h_h_strong', 'h_h_weak', 'h_n_strong', 'h_n_weak', 'h_s_strong', 'h_s_weak', 'n_h_strong', 'n_h_weak', 'n_n_strong', 'n_n_weak', 'n_s_strong', 'n_s_weak', 's_h_strong', 's_h_weak', 's_n_strong', 's_n_weak', 's_s_strong', 's_s_weak']\n",
      "Multiple event values for single event times found. Creating new event value to reflect simultaneous events.\n",
      "Not setting metadata\n",
      "665 matching events found\n",
      "Applying baseline correction (mode: mean)\n",
      "0 projection items activated\n",
      "Using data from preloaded Raw for 665 events and 301 original time points ...\n"
     ]
    },
    {
     "name": "stderr",
     "output_type": "stream",
     "text": [
      "C:\\Users\\juhoffmann\\AppData\\Local\\Temp\\ipykernel_9188\\58317019.py:14: RuntimeWarning: Omitted 1891 annotation(s) that were outside data range.\n",
      "  eeg = mne.io.read_raw_edf(i, preload = True)\n",
      "C:\\Users\\juhoffmann\\AppData\\Local\\Temp\\ipykernel_9188\\58317019.py:17: RuntimeWarning: Fiducial point nasion not found, assuming identity unknown to head transformation\n",
      "  eeg.set_montage(montage, match_case=False) #set montage to raw dataset\n",
      "C:\\Users\\juhoffmann\\AppData\\Local\\Temp\\ipykernel_9188\\58317019.py:17: RuntimeWarning: Not setting position of 1 ecg channel found in montage:\n",
      "['ECG']\n",
      "Consider setting the channel types to be of EEG/sEEG/ECoG/DBS/fNIRS using inst.set_channel_types before calling inst.set_montage, or omit these channels when creating your montage.\n",
      "  eeg.set_montage(montage, match_case=False) #set montage to raw dataset\n"
     ]
    },
    {
     "name": "stdout",
     "output_type": "stream",
     "text": [
      "1 bad epochs dropped\n",
      "NOTE: pick_channels() is a legacy function. New code should use inst.pick(...).\n",
      "NOTE: pick_channels() is a legacy function. New code should use inst.pick(...).\n",
      "NOTE: pick_channels() is a legacy function. New code should use inst.pick(...).\n",
      "NOTE: pick_channels() is a legacy function. New code should use inst.pick(...).\n",
      "NOTE: pick_channels() is a legacy function. New code should use inst.pick(...).\n",
      "NOTE: pick_channels() is a legacy function. New code should use inst.pick(...).\n",
      "NOTE: pick_channels() is a legacy function. New code should use inst.pick(...).\n",
      "NOTE: pick_channels() is a legacy function. New code should use inst.pick(...).\n",
      "NOTE: pick_channels() is a legacy function. New code should use inst.pick(...).\n",
      "Extracting EDF parameters from C:\\Users\\juhoffmann\\Desktop\\EEG_BIDS\\EEG_250Hz\\edf\\sub-009_BackwardMask_Preprocessed.edf...\n",
      "EDF file detected\n",
      "Setting channel info structure...\n",
      "Creating raw.info structure...\n",
      "Reading 0 ... 118124  =      0.000 ...   472.496 secs...\n",
      "Used Annotations descriptions: ['New Segment', 'R', 'R128', 'S 50', 'S 60', 'S 70', 'S120', 'S130', 'S140', 'S150', 'S160', 'S170', 'Time 0', 'h_h_strong', 'h_h_weak', 'h_n_strong', 'h_n_weak', 'h_s_strong', 'h_s_weak', 'n_h_strong', 'n_h_weak', 'n_n_strong', 'n_n_weak', 'n_s_strong', 'n_s_weak', 's_h_strong', 's_h_weak', 's_n_strong', 's_n_weak', 's_s_strong', 's_s_weak']\n",
      "Multiple event values for single event times found. Creating new event value to reflect simultaneous events.\n",
      "Not setting metadata\n",
      "672 matching events found\n",
      "Applying baseline correction (mode: mean)\n",
      "0 projection items activated\n",
      "Using data from preloaded Raw for 672 events and 301 original time points ...\n"
     ]
    },
    {
     "name": "stderr",
     "output_type": "stream",
     "text": [
      "C:\\Users\\juhoffmann\\AppData\\Local\\Temp\\ipykernel_9188\\58317019.py:14: RuntimeWarning: Omitted 1809 annotation(s) that were outside data range.\n",
      "  eeg = mne.io.read_raw_edf(i, preload = True)\n",
      "C:\\Users\\juhoffmann\\AppData\\Local\\Temp\\ipykernel_9188\\58317019.py:17: RuntimeWarning: Fiducial point nasion not found, assuming identity unknown to head transformation\n",
      "  eeg.set_montage(montage, match_case=False) #set montage to raw dataset\n",
      "C:\\Users\\juhoffmann\\AppData\\Local\\Temp\\ipykernel_9188\\58317019.py:17: RuntimeWarning: Not setting position of 1 ecg channel found in montage:\n",
      "['ECG']\n",
      "Consider setting the channel types to be of EEG/sEEG/ECoG/DBS/fNIRS using inst.set_channel_types before calling inst.set_montage, or omit these channels when creating your montage.\n",
      "  eeg.set_montage(montage, match_case=False) #set montage to raw dataset\n"
     ]
    },
    {
     "name": "stdout",
     "output_type": "stream",
     "text": [
      "3 bad epochs dropped\n",
      "NOTE: pick_channels() is a legacy function. New code should use inst.pick(...).\n",
      "NOTE: pick_channels() is a legacy function. New code should use inst.pick(...).\n",
      "NOTE: pick_channels() is a legacy function. New code should use inst.pick(...).\n",
      "NOTE: pick_channels() is a legacy function. New code should use inst.pick(...).\n",
      "NOTE: pick_channels() is a legacy function. New code should use inst.pick(...).\n",
      "NOTE: pick_channels() is a legacy function. New code should use inst.pick(...).\n",
      "NOTE: pick_channels() is a legacy function. New code should use inst.pick(...).\n",
      "NOTE: pick_channels() is a legacy function. New code should use inst.pick(...).\n",
      "NOTE: pick_channels() is a legacy function. New code should use inst.pick(...).\n",
      "Extracting EDF parameters from C:\\Users\\juhoffmann\\Desktop\\EEG_BIDS\\EEG_250Hz\\edf\\sub-010_BackwardMask_Preprocessed.edf...\n",
      "EDF file detected\n",
      "Setting channel info structure...\n",
      "Creating raw.info structure...\n",
      "Reading 0 ... 81374  =      0.000 ...   325.496 secs...\n",
      "Used Annotations descriptions: ['New Segment', 'R', 'R128', 'S 50', 'S 60', 'S 70', 'S120', 'S130', 'S140', 'S150', 'S160', 'S170', 'TEND', 'TPEAK', 'TSTART', 'Time 0', 'h_h_strong', 'h_h_weak', 'h_n_strong', 'h_s_strong', 'h_s_weak', 'n_n_strong', 'n_n_weak', 'n_s_strong', 'n_s_weak', 's_h_strong', 's_h_weak', 's_n_strong', 's_n_weak', 's_s_strong', 's_s_weak']\n",
      "Multiple event values for single event times found. Creating new event value to reflect simultaneous events.\n",
      "Not setting metadata\n",
      "221 matching events found\n",
      "Applying baseline correction (mode: mean)\n",
      "0 projection items activated\n",
      "Using data from preloaded Raw for 221 events and 301 original time points ...\n",
      "1 bad epochs dropped\n",
      "NOTE: pick_channels() is a legacy function. New code should use inst.pick(...).\n",
      "NOTE: pick_channels() is a legacy function. New code should use inst.pick(...).\n",
      "NOTE: pick_channels() is a legacy function. New code should use inst.pick(...).\n",
      "NOTE: pick_channels() is a legacy function. New code should use inst.pick(...).\n",
      "NOTE: pick_channels() is a legacy function. New code should use inst.pick(...).\n",
      "NOTE: pick_channels() is a legacy function. New code should use inst.pick(...).\n",
      "NOTE: pick_channels() is a legacy function. New code should use inst.pick(...).\n",
      "NOTE: pick_channels() is a legacy function. New code should use inst.pick(...).\n",
      "NOTE: pick_channels() is a legacy function. New code should use inst.pick(...).\n",
      "Extracting EDF parameters from C:\\Users\\juhoffmann\\Desktop\\EEG_BIDS\\EEG_250Hz\\edf\\sub-011_BackwardMask_Preprocessed.edf...\n",
      "EDF file detected\n",
      "Setting channel info structure...\n",
      "Creating raw.info structure...\n",
      "Reading 0 ... 127499  =      0.000 ...   509.996 secs...\n"
     ]
    },
    {
     "name": "stderr",
     "output_type": "stream",
     "text": [
      "C:\\Users\\juhoffmann\\AppData\\Local\\Temp\\ipykernel_9188\\58317019.py:14: RuntimeWarning: Omitted 1454 annotation(s) that were outside data range.\n",
      "  eeg = mne.io.read_raw_edf(i, preload = True)\n",
      "C:\\Users\\juhoffmann\\AppData\\Local\\Temp\\ipykernel_9188\\58317019.py:17: RuntimeWarning: Fiducial point nasion not found, assuming identity unknown to head transformation\n",
      "  eeg.set_montage(montage, match_case=False) #set montage to raw dataset\n",
      "C:\\Users\\juhoffmann\\AppData\\Local\\Temp\\ipykernel_9188\\58317019.py:17: RuntimeWarning: Not setting position of 1 ecg channel found in montage:\n",
      "['ECG']\n",
      "Consider setting the channel types to be of EEG/sEEG/ECoG/DBS/fNIRS using inst.set_channel_types before calling inst.set_montage, or omit these channels when creating your montage.\n",
      "  eeg.set_montage(montage, match_case=False) #set montage to raw dataset\n"
     ]
    },
    {
     "name": "stdout",
     "output_type": "stream",
     "text": [
      "Used Annotations descriptions: ['New Segment', 'R', 'R128', 'S 50', 'S 60', 'S 70', 'S120', 'S130', 'S140', 'S150', 'S160', 'S170', 'TPEAK', 'TSTART', 'Time 0', 'h_h_strong', 'h_h_weak', 'h_n_strong', 'h_n_weak', 'h_s_strong', 'h_s_weak', 'n_h_strong', 'n_h_weak', 'n_n_strong', 'n_n_weak', 'n_s_strong', 'n_s_weak', 's_h_strong', 's_h_weak', 's_n_strong', 's_n_weak', 's_s_strong', 's_s_weak']\n",
      "Multiple event values for single event times found. Creating new event value to reflect simultaneous events.\n",
      "Not setting metadata\n",
      "639 matching events found\n",
      "Applying baseline correction (mode: mean)\n",
      "0 projection items activated\n",
      "Using data from preloaded Raw for 639 events and 301 original time points ...\n",
      "2 bad epochs dropped\n"
     ]
    },
    {
     "name": "stderr",
     "output_type": "stream",
     "text": [
      "C:\\Users\\juhoffmann\\AppData\\Local\\Temp\\ipykernel_9188\\58317019.py:14: RuntimeWarning: Omitted 1795 annotation(s) that were outside data range.\n",
      "  eeg = mne.io.read_raw_edf(i, preload = True)\n",
      "C:\\Users\\juhoffmann\\AppData\\Local\\Temp\\ipykernel_9188\\58317019.py:17: RuntimeWarning: Fiducial point nasion not found, assuming identity unknown to head transformation\n",
      "  eeg.set_montage(montage, match_case=False) #set montage to raw dataset\n",
      "C:\\Users\\juhoffmann\\AppData\\Local\\Temp\\ipykernel_9188\\58317019.py:17: RuntimeWarning: Not setting position of 1 ecg channel found in montage:\n",
      "['ECG']\n",
      "Consider setting the channel types to be of EEG/sEEG/ECoG/DBS/fNIRS using inst.set_channel_types before calling inst.set_montage, or omit these channels when creating your montage.\n",
      "  eeg.set_montage(montage, match_case=False) #set montage to raw dataset\n"
     ]
    },
    {
     "name": "stdout",
     "output_type": "stream",
     "text": [
      "NOTE: pick_channels() is a legacy function. New code should use inst.pick(...).\n",
      "NOTE: pick_channels() is a legacy function. New code should use inst.pick(...).\n",
      "NOTE: pick_channels() is a legacy function. New code should use inst.pick(...).\n",
      "NOTE: pick_channels() is a legacy function. New code should use inst.pick(...).\n",
      "NOTE: pick_channels() is a legacy function. New code should use inst.pick(...).\n",
      "NOTE: pick_channels() is a legacy function. New code should use inst.pick(...).\n",
      "NOTE: pick_channels() is a legacy function. New code should use inst.pick(...).\n",
      "NOTE: pick_channels() is a legacy function. New code should use inst.pick(...).\n",
      "NOTE: pick_channels() is a legacy function. New code should use inst.pick(...).\n",
      "Extracting EDF parameters from C:\\Users\\juhoffmann\\Desktop\\EEG_BIDS\\EEG_250Hz\\edf\\sub-012_BackwardMask_Preprocessed.edf...\n",
      "EDF file detected\n",
      "Setting channel info structure...\n",
      "Creating raw.info structure...\n",
      "Reading 0 ... 126749  =      0.000 ...   506.996 secs...\n",
      "Used Annotations descriptions: ['New Segment', 'R', 'R128', 'S 50', 'S 60', 'S 70', 'S120', 'S130', 'S140', 'S150', 'S160', 'S170', 'Time 0', 'h_h_strong', 'h_h_weak', 'h_n_strong', 'h_n_weak', 'h_s_strong', 'h_s_weak', 'n_h_strong', 'n_h_weak', 'n_n_strong', 'n_n_weak', 'n_s_strong', 'n_s_weak', 's_h_strong', 's_h_weak', 's_n_strong', 's_n_weak', 's_s_strong', 's_s_weak']\n",
      "Multiple event values for single event times found. Creating new event value to reflect simultaneous events.\n",
      "Not setting metadata\n",
      "711 matching events found\n",
      "Applying baseline correction (mode: mean)\n",
      "0 projection items activated\n",
      "Using data from preloaded Raw for 711 events and 301 original time points ...\n"
     ]
    },
    {
     "name": "stderr",
     "output_type": "stream",
     "text": [
      "C:\\Users\\juhoffmann\\AppData\\Local\\Temp\\ipykernel_9188\\58317019.py:14: RuntimeWarning: Omitted 1917 annotation(s) that were outside data range.\n",
      "  eeg = mne.io.read_raw_edf(i, preload = True)\n",
      "C:\\Users\\juhoffmann\\AppData\\Local\\Temp\\ipykernel_9188\\58317019.py:17: RuntimeWarning: Fiducial point nasion not found, assuming identity unknown to head transformation\n",
      "  eeg.set_montage(montage, match_case=False) #set montage to raw dataset\n",
      "C:\\Users\\juhoffmann\\AppData\\Local\\Temp\\ipykernel_9188\\58317019.py:17: RuntimeWarning: Not setting position of 1 ecg channel found in montage:\n",
      "['ECG']\n",
      "Consider setting the channel types to be of EEG/sEEG/ECoG/DBS/fNIRS using inst.set_channel_types before calling inst.set_montage, or omit these channels when creating your montage.\n",
      "  eeg.set_montage(montage, match_case=False) #set montage to raw dataset\n"
     ]
    },
    {
     "name": "stdout",
     "output_type": "stream",
     "text": [
      "2 bad epochs dropped\n",
      "NOTE: pick_channels() is a legacy function. New code should use inst.pick(...).\n",
      "NOTE: pick_channels() is a legacy function. New code should use inst.pick(...).\n",
      "NOTE: pick_channels() is a legacy function. New code should use inst.pick(...).\n",
      "NOTE: pick_channels() is a legacy function. New code should use inst.pick(...).\n",
      "NOTE: pick_channels() is a legacy function. New code should use inst.pick(...).\n",
      "NOTE: pick_channels() is a legacy function. New code should use inst.pick(...).\n",
      "NOTE: pick_channels() is a legacy function. New code should use inst.pick(...).\n",
      "NOTE: pick_channels() is a legacy function. New code should use inst.pick(...).\n",
      "NOTE: pick_channels() is a legacy function. New code should use inst.pick(...).\n",
      "Extracting EDF parameters from C:\\Users\\juhoffmann\\Desktop\\EEG_BIDS\\EEG_250Hz\\edf\\sub-014_BackwardMask_Preprocessed.edf...\n",
      "EDF file detected\n",
      "Setting channel info structure...\n",
      "Creating raw.info structure...\n",
      "Reading 0 ... 125624  =      0.000 ...   502.496 secs...\n",
      "Used Annotations descriptions: ['New Segment', 'R', 'R128', 'S 50', 'S 60', 'S 70', 'S120', 'S130', 'S140', 'S150', 'S160', 'S170', 'Time 0', 'h_h_strong', 'h_h_weak', 'h_n_strong', 'h_n_weak', 'h_s_strong', 'h_s_weak', 'n_h_strong', 'n_h_weak', 'n_n_strong', 'n_n_weak', 'n_s_strong', 'n_s_weak', 's_h_strong', 's_h_weak', 's_n_weak', 's_s_strong', 's_s_weak']\n",
      "Multiple event values for single event times found. Creating new event value to reflect simultaneous events.\n",
      "Not setting metadata\n",
      "732 matching events found\n",
      "Applying baseline correction (mode: mean)\n",
      "0 projection items activated\n",
      "Using data from preloaded Raw for 732 events and 301 original time points ...\n"
     ]
    },
    {
     "name": "stderr",
     "output_type": "stream",
     "text": [
      "C:\\Users\\juhoffmann\\AppData\\Local\\Temp\\ipykernel_9188\\58317019.py:14: RuntimeWarning: Omitted 1845 annotation(s) that were outside data range.\n",
      "  eeg = mne.io.read_raw_edf(i, preload = True)\n",
      "C:\\Users\\juhoffmann\\AppData\\Local\\Temp\\ipykernel_9188\\58317019.py:17: RuntimeWarning: Fiducial point nasion not found, assuming identity unknown to head transformation\n",
      "  eeg.set_montage(montage, match_case=False) #set montage to raw dataset\n",
      "C:\\Users\\juhoffmann\\AppData\\Local\\Temp\\ipykernel_9188\\58317019.py:17: RuntimeWarning: Not setting position of 1 ecg channel found in montage:\n",
      "['ECG']\n",
      "Consider setting the channel types to be of EEG/sEEG/ECoG/DBS/fNIRS using inst.set_channel_types before calling inst.set_montage, or omit these channels when creating your montage.\n",
      "  eeg.set_montage(montage, match_case=False) #set montage to raw dataset\n"
     ]
    },
    {
     "name": "stdout",
     "output_type": "stream",
     "text": [
      "2 bad epochs dropped\n",
      "NOTE: pick_channels() is a legacy function. New code should use inst.pick(...).\n",
      "NOTE: pick_channels() is a legacy function. New code should use inst.pick(...).\n",
      "NOTE: pick_channels() is a legacy function. New code should use inst.pick(...).\n",
      "NOTE: pick_channels() is a legacy function. New code should use inst.pick(...).\n",
      "NOTE: pick_channels() is a legacy function. New code should use inst.pick(...).\n",
      "NOTE: pick_channels() is a legacy function. New code should use inst.pick(...).\n",
      "NOTE: pick_channels() is a legacy function. New code should use inst.pick(...).\n",
      "NOTE: pick_channels() is a legacy function. New code should use inst.pick(...).\n",
      "NOTE: pick_channels() is a legacy function. New code should use inst.pick(...).\n",
      "Extracting EDF parameters from C:\\Users\\juhoffmann\\Desktop\\EEG_BIDS\\EEG_250Hz\\edf\\sub-015_BackwardMask_Preprocessed.edf...\n",
      "EDF file detected\n",
      "Setting channel info structure...\n",
      "Creating raw.info structure...\n",
      "Reading 0 ... 131249  =      0.000 ...   524.996 secs...\n",
      "Used Annotations descriptions: ['New Segment', 'R', 'R128', 'S 50', 'S 60', 'S 70', 'S120', 'S130', 'S140', 'S150', 'S160', 'S170', 'Time 0', 'h_h_strong', 'h_h_weak', 'h_n_strong', 'h_n_weak', 'h_s_strong', 'h_s_weak', 'n_h_strong', 'n_h_weak', 'n_n_strong', 'n_n_weak', 'n_s_strong', 'n_s_weak', 's_h_strong', 's_h_weak', 's_n_strong', 's_n_weak', 's_s_strong', 's_s_weak']\n",
      "Multiple event values for single event times found. Creating new event value to reflect simultaneous events.\n",
      "Not setting metadata\n",
      "770 matching events found\n",
      "Applying baseline correction (mode: mean)\n",
      "0 projection items activated\n",
      "Using data from preloaded Raw for 770 events and 301 original time points ...\n"
     ]
    },
    {
     "name": "stderr",
     "output_type": "stream",
     "text": [
      "C:\\Users\\juhoffmann\\AppData\\Local\\Temp\\ipykernel_9188\\58317019.py:14: RuntimeWarning: Omitted 1839 annotation(s) that were outside data range.\n",
      "  eeg = mne.io.read_raw_edf(i, preload = True)\n",
      "C:\\Users\\juhoffmann\\AppData\\Local\\Temp\\ipykernel_9188\\58317019.py:17: RuntimeWarning: Fiducial point nasion not found, assuming identity unknown to head transformation\n",
      "  eeg.set_montage(montage, match_case=False) #set montage to raw dataset\n",
      "C:\\Users\\juhoffmann\\AppData\\Local\\Temp\\ipykernel_9188\\58317019.py:17: RuntimeWarning: Not setting position of 1 ecg channel found in montage:\n",
      "['ECG']\n",
      "Consider setting the channel types to be of EEG/sEEG/ECoG/DBS/fNIRS using inst.set_channel_types before calling inst.set_montage, or omit these channels when creating your montage.\n",
      "  eeg.set_montage(montage, match_case=False) #set montage to raw dataset\n"
     ]
    },
    {
     "name": "stdout",
     "output_type": "stream",
     "text": [
      "2 bad epochs dropped\n",
      "NOTE: pick_channels() is a legacy function. New code should use inst.pick(...).\n",
      "NOTE: pick_channels() is a legacy function. New code should use inst.pick(...).\n",
      "NOTE: pick_channels() is a legacy function. New code should use inst.pick(...).\n",
      "NOTE: pick_channels() is a legacy function. New code should use inst.pick(...).\n",
      "NOTE: pick_channels() is a legacy function. New code should use inst.pick(...).\n",
      "NOTE: pick_channels() is a legacy function. New code should use inst.pick(...).\n",
      "NOTE: pick_channels() is a legacy function. New code should use inst.pick(...).\n",
      "NOTE: pick_channels() is a legacy function. New code should use inst.pick(...).\n",
      "NOTE: pick_channels() is a legacy function. New code should use inst.pick(...).\n",
      "Extracting EDF parameters from C:\\Users\\juhoffmann\\Desktop\\EEG_BIDS\\EEG_250Hz\\edf\\sub-017_BackwardMask_Preprocessed.edf...\n",
      "EDF file detected\n",
      "Setting channel info structure...\n",
      "Creating raw.info structure...\n",
      "Reading 0 ... 133124  =      0.000 ...   532.496 secs...\n",
      "Used Annotations descriptions: ['New Segment', 'R', 'R128', 'S 50', 'S 60', 'S 70', 'S120', 'S130', 'S140', 'S150', 'S160', 'S170', 'Time 0', 'h_h_strong', 'h_h_weak', 'h_n_strong', 'h_n_weak', 'h_s_strong', 'h_s_weak', 'n_h_strong', 'n_h_weak', 'n_n_strong', 'n_n_weak', 'n_s_strong', 'n_s_weak', 's_h_strong', 's_h_weak', 's_n_strong', 's_n_weak', 's_s_strong', 's_s_weak']\n",
      "Multiple event values for single event times found. Creating new event value to reflect simultaneous events.\n",
      "Not setting metadata\n",
      "801 matching events found\n",
      "Applying baseline correction (mode: mean)\n",
      "0 projection items activated\n",
      "Using data from preloaded Raw for 801 events and 301 original time points ...\n"
     ]
    },
    {
     "name": "stderr",
     "output_type": "stream",
     "text": [
      "C:\\Users\\juhoffmann\\AppData\\Local\\Temp\\ipykernel_9188\\58317019.py:14: RuntimeWarning: Omitted 1854 annotation(s) that were outside data range.\n",
      "  eeg = mne.io.read_raw_edf(i, preload = True)\n",
      "C:\\Users\\juhoffmann\\AppData\\Local\\Temp\\ipykernel_9188\\58317019.py:17: RuntimeWarning: Fiducial point nasion not found, assuming identity unknown to head transformation\n",
      "  eeg.set_montage(montage, match_case=False) #set montage to raw dataset\n",
      "C:\\Users\\juhoffmann\\AppData\\Local\\Temp\\ipykernel_9188\\58317019.py:17: RuntimeWarning: Not setting position of 1 ecg channel found in montage:\n",
      "['ECG']\n",
      "Consider setting the channel types to be of EEG/sEEG/ECoG/DBS/fNIRS using inst.set_channel_types before calling inst.set_montage, or omit these channels when creating your montage.\n",
      "  eeg.set_montage(montage, match_case=False) #set montage to raw dataset\n"
     ]
    },
    {
     "name": "stdout",
     "output_type": "stream",
     "text": [
      "2 bad epochs dropped\n",
      "NOTE: pick_channels() is a legacy function. New code should use inst.pick(...).\n",
      "NOTE: pick_channels() is a legacy function. New code should use inst.pick(...).\n",
      "NOTE: pick_channels() is a legacy function. New code should use inst.pick(...).\n",
      "NOTE: pick_channels() is a legacy function. New code should use inst.pick(...).\n",
      "NOTE: pick_channels() is a legacy function. New code should use inst.pick(...).\n",
      "NOTE: pick_channels() is a legacy function. New code should use inst.pick(...).\n",
      "NOTE: pick_channels() is a legacy function. New code should use inst.pick(...).\n",
      "NOTE: pick_channels() is a legacy function. New code should use inst.pick(...).\n",
      "NOTE: pick_channels() is a legacy function. New code should use inst.pick(...).\n",
      "Extracting EDF parameters from C:\\Users\\juhoffmann\\Desktop\\EEG_BIDS\\EEG_250Hz\\edf\\sub-018_BackwardMask_Preprocessed.edf...\n",
      "EDF file detected\n",
      "Setting channel info structure...\n",
      "Creating raw.info structure...\n",
      "Reading 0 ... 97124  =      0.000 ...   388.496 secs...\n",
      "Used Annotations descriptions: ['New Segment', 'R', 'R128', 'S 60', 'S 70', 'S120', 'S130', 'S140', 'S150', 'S160', 'S170', 'Time 0', 'h_h_strong', 'h_h_weak', 'h_n_strong', 'h_n_weak', 'h_s_strong', 'h_s_weak', 'n_h_strong', 'n_h_weak', 'n_n_strong', 'n_n_weak', 'n_s_strong', 'n_s_weak', 's_h_strong', 's_h_weak', 's_n_strong', 's_n_weak', 's_s_strong', 's_s_weak']\n",
      "Multiple event values for single event times found. Creating new event value to reflect simultaneous events.\n",
      "Not setting metadata\n",
      "410 matching events found\n",
      "Applying baseline correction (mode: mean)\n",
      "0 projection items activated\n",
      "Using data from preloaded Raw for 410 events and 301 original time points ...\n",
      "3 bad epochs dropped\n",
      "NOTE: pick_channels() is a legacy function. New code should use inst.pick(...).\n",
      "NOTE: pick_channels() is a legacy function. New code should use inst.pick(...).\n",
      "NOTE: pick_channels() is a legacy function. New code should use inst.pick(...).\n",
      "NOTE: pick_channels() is a legacy function. New code should use inst.pick(...).\n",
      "NOTE: pick_channels() is a legacy function. New code should use inst.pick(...).\n",
      "NOTE: pick_channels() is a legacy function. New code should use inst.pick(...).\n",
      "NOTE: pick_channels() is a legacy function. New code should use inst.pick(...).\n"
     ]
    },
    {
     "name": "stderr",
     "output_type": "stream",
     "text": [
      "C:\\Users\\juhoffmann\\AppData\\Local\\Temp\\ipykernel_9188\\58317019.py:14: RuntimeWarning: Omitted 1655 annotation(s) that were outside data range.\n",
      "  eeg = mne.io.read_raw_edf(i, preload = True)\n",
      "C:\\Users\\juhoffmann\\AppData\\Local\\Temp\\ipykernel_9188\\58317019.py:17: RuntimeWarning: Fiducial point nasion not found, assuming identity unknown to head transformation\n",
      "  eeg.set_montage(montage, match_case=False) #set montage to raw dataset\n",
      "C:\\Users\\juhoffmann\\AppData\\Local\\Temp\\ipykernel_9188\\58317019.py:17: RuntimeWarning: Not setting position of 1 ecg channel found in montage:\n",
      "['ECG']\n",
      "Consider setting the channel types to be of EEG/sEEG/ECoG/DBS/fNIRS using inst.set_channel_types before calling inst.set_montage, or omit these channels when creating your montage.\n",
      "  eeg.set_montage(montage, match_case=False) #set montage to raw dataset\n"
     ]
    },
    {
     "name": "stdout",
     "output_type": "stream",
     "text": [
      "NOTE: pick_channels() is a legacy function. New code should use inst.pick(...).\n",
      "NOTE: pick_channels() is a legacy function. New code should use inst.pick(...).\n",
      "Extracting EDF parameters from C:\\Users\\juhoffmann\\Desktop\\EEG_BIDS\\EEG_250Hz\\edf\\sub-019_BackwardMask_Preprocessed.edf...\n",
      "EDF file detected\n",
      "Setting channel info structure...\n",
      "Creating raw.info structure...\n",
      "Reading 0 ... 129749  =      0.000 ...   518.996 secs...\n",
      "Used Annotations descriptions: ['New Segment', 'R', 'R128', 'S 50', 'S 60', 'S 70', 'S120', 'S130', 'S140', 'S150', 'S160', 'S170', 'TEND', 'TPEAK', 'TSTART', 'Time 0', 'h_h_strong', 'h_h_weak', 'h_n_strong', 'h_n_weak', 'h_s_strong', 'h_s_weak', 'n_h_strong', 'n_h_weak', 'n_n_strong', 'n_n_weak', 'n_s_strong', 'n_s_weak', 's_h_strong', 's_h_weak', 's_n_strong', 's_n_weak', 's_s_strong', 's_s_weak']\n",
      "Multiple event values for single event times found. Creating new event value to reflect simultaneous events.\n",
      "Not setting metadata\n",
      "751 matching events found\n",
      "Applying baseline correction (mode: mean)\n",
      "0 projection items activated\n",
      "Using data from preloaded Raw for 751 events and 301 original time points ...\n"
     ]
    },
    {
     "name": "stderr",
     "output_type": "stream",
     "text": [
      "C:\\Users\\juhoffmann\\AppData\\Local\\Temp\\ipykernel_9188\\58317019.py:14: RuntimeWarning: Omitted 1869 annotation(s) that were outside data range.\n",
      "  eeg = mne.io.read_raw_edf(i, preload = True)\n",
      "C:\\Users\\juhoffmann\\AppData\\Local\\Temp\\ipykernel_9188\\58317019.py:17: RuntimeWarning: Fiducial point nasion not found, assuming identity unknown to head transformation\n",
      "  eeg.set_montage(montage, match_case=False) #set montage to raw dataset\n",
      "C:\\Users\\juhoffmann\\AppData\\Local\\Temp\\ipykernel_9188\\58317019.py:17: RuntimeWarning: Not setting position of 1 ecg channel found in montage:\n",
      "['ECG']\n",
      "Consider setting the channel types to be of EEG/sEEG/ECoG/DBS/fNIRS using inst.set_channel_types before calling inst.set_montage, or omit these channels when creating your montage.\n",
      "  eeg.set_montage(montage, match_case=False) #set montage to raw dataset\n"
     ]
    },
    {
     "name": "stdout",
     "output_type": "stream",
     "text": [
      "7 bad epochs dropped\n",
      "NOTE: pick_channels() is a legacy function. New code should use inst.pick(...).\n",
      "NOTE: pick_channels() is a legacy function. New code should use inst.pick(...).\n",
      "NOTE: pick_channels() is a legacy function. New code should use inst.pick(...).\n",
      "NOTE: pick_channels() is a legacy function. New code should use inst.pick(...).\n",
      "NOTE: pick_channels() is a legacy function. New code should use inst.pick(...).\n",
      "NOTE: pick_channels() is a legacy function. New code should use inst.pick(...).\n",
      "NOTE: pick_channels() is a legacy function. New code should use inst.pick(...).\n",
      "NOTE: pick_channels() is a legacy function. New code should use inst.pick(...).\n",
      "NOTE: pick_channels() is a legacy function. New code should use inst.pick(...).\n",
      "Extracting EDF parameters from C:\\Users\\juhoffmann\\Desktop\\EEG_BIDS\\EEG_250Hz\\edf\\sub-020_BackwardMask_Preprocessed.edf...\n",
      "EDF file detected\n",
      "Setting channel info structure...\n",
      "Creating raw.info structure...\n",
      "Reading 0 ... 94874  =      0.000 ...   379.496 secs...\n",
      "Used Annotations descriptions: ['New Segment', 'R', 'R128', 'S 50', 'S 60', 'S 70', 'S120', 'S130', 'S140', 'S150', 'S160', 'S170', 'TEND', 'TPEAK', 'TSTART', 'Time 0', 'h_h_strong', 'h_h_weak', 'h_n_strong', 'h_n_weak', 'h_s_strong', 'h_s_weak', 'n_h_strong', 'n_h_weak', 'n_n_strong', 'n_n_weak', 'n_s_strong', 'n_s_weak', 's_h_strong', 's_h_weak', 's_n_strong', 's_n_weak', 's_s_strong', 's_s_weak']\n",
      "Multiple event values for single event times found. Creating new event value to reflect simultaneous events.\n",
      "Not setting metadata\n",
      "548 matching events found\n",
      "Applying baseline correction (mode: mean)\n",
      "0 projection items activated\n",
      "Using data from preloaded Raw for 548 events and 301 original time points ...\n",
      "3 bad epochs dropped\n",
      "NOTE: pick_channels() is a legacy function. New code should use inst.pick(...).\n"
     ]
    },
    {
     "name": "stderr",
     "output_type": "stream",
     "text": [
      "C:\\Users\\juhoffmann\\AppData\\Local\\Temp\\ipykernel_9188\\58317019.py:14: RuntimeWarning: Omitted 1419 annotation(s) that were outside data range.\n",
      "  eeg = mne.io.read_raw_edf(i, preload = True)\n",
      "C:\\Users\\juhoffmann\\AppData\\Local\\Temp\\ipykernel_9188\\58317019.py:17: RuntimeWarning: Fiducial point nasion not found, assuming identity unknown to head transformation\n",
      "  eeg.set_montage(montage, match_case=False) #set montage to raw dataset\n",
      "C:\\Users\\juhoffmann\\AppData\\Local\\Temp\\ipykernel_9188\\58317019.py:17: RuntimeWarning: Not setting position of 1 ecg channel found in montage:\n",
      "['ECG']\n",
      "Consider setting the channel types to be of EEG/sEEG/ECoG/DBS/fNIRS using inst.set_channel_types before calling inst.set_montage, or omit these channels when creating your montage.\n",
      "  eeg.set_montage(montage, match_case=False) #set montage to raw dataset\n"
     ]
    },
    {
     "name": "stdout",
     "output_type": "stream",
     "text": [
      "NOTE: pick_channels() is a legacy function. New code should use inst.pick(...).\n",
      "NOTE: pick_channels() is a legacy function. New code should use inst.pick(...).\n",
      "NOTE: pick_channels() is a legacy function. New code should use inst.pick(...).\n",
      "NOTE: pick_channels() is a legacy function. New code should use inst.pick(...).\n",
      "NOTE: pick_channels() is a legacy function. New code should use inst.pick(...).\n",
      "NOTE: pick_channels() is a legacy function. New code should use inst.pick(...).\n",
      "NOTE: pick_channels() is a legacy function. New code should use inst.pick(...).\n",
      "NOTE: pick_channels() is a legacy function. New code should use inst.pick(...).\n",
      "Extracting EDF parameters from C:\\Users\\juhoffmann\\Desktop\\EEG_BIDS\\EEG_250Hz\\edf\\sub-021_BackwardMask_Preprocessed.edf...\n",
      "EDF file detected\n",
      "Setting channel info structure...\n",
      "Creating raw.info structure...\n",
      "Reading 0 ... 107999  =      0.000 ...   431.996 secs...\n",
      "Used Annotations descriptions: ['New Segment', 'R', 'R128', 'S 50', 'S 60', 'S 70', 'S120', 'S130', 'S140', 'S150', 'S160', 'S170', 'TEND', 'TPEAK', 'TSTART', 'Time 0', 'h_h_strong', 'h_h_weak', 'h_n_strong', 'h_n_weak', 'h_s_strong', 'h_s_weak', 'n_h_strong', 'n_h_weak', 'n_n_strong', 'n_n_weak', 'n_s_strong', 'n_s_weak', 's_h_strong', 's_h_weak', 's_n_strong', 's_n_weak', 's_s_strong', 's_s_weak']\n",
      "Multiple event values for single event times found. Creating new event value to reflect simultaneous events.\n",
      "Not setting metadata\n",
      "464 matching events found\n",
      "Applying baseline correction (mode: mean)\n",
      "0 projection items activated\n",
      "Using data from preloaded Raw for 464 events and 301 original time points ...\n",
      "6 bad epochs dropped\n",
      "NOTE: pick_channels() is a legacy function. New code should use inst.pick(...).\n",
      "NOTE: pick_channels() is a legacy function. New code should use inst.pick(...).\n",
      "NOTE: pick_channels() is a legacy function. New code should use inst.pick(...).\n",
      "NOTE: pick_channels() is a legacy function. New code should use inst.pick(...).\n",
      "NOTE: pick_channels() is a legacy function. New code should use inst.pick(...).\n",
      "NOTE: pick_channels() is a legacy function. New code should use inst.pick(...).\n"
     ]
    },
    {
     "name": "stderr",
     "output_type": "stream",
     "text": [
      "C:\\Users\\juhoffmann\\AppData\\Local\\Temp\\ipykernel_9188\\58317019.py:14: RuntimeWarning: Omitted 1683 annotation(s) that were outside data range.\n",
      "  eeg = mne.io.read_raw_edf(i, preload = True)\n",
      "C:\\Users\\juhoffmann\\AppData\\Local\\Temp\\ipykernel_9188\\58317019.py:17: RuntimeWarning: Fiducial point nasion not found, assuming identity unknown to head transformation\n",
      "  eeg.set_montage(montage, match_case=False) #set montage to raw dataset\n",
      "C:\\Users\\juhoffmann\\AppData\\Local\\Temp\\ipykernel_9188\\58317019.py:17: RuntimeWarning: Not setting position of 1 ecg channel found in montage:\n",
      "['ECG']\n",
      "Consider setting the channel types to be of EEG/sEEG/ECoG/DBS/fNIRS using inst.set_channel_types before calling inst.set_montage, or omit these channels when creating your montage.\n",
      "  eeg.set_montage(montage, match_case=False) #set montage to raw dataset\n"
     ]
    },
    {
     "name": "stdout",
     "output_type": "stream",
     "text": [
      "NOTE: pick_channels() is a legacy function. New code should use inst.pick(...).\n",
      "NOTE: pick_channels() is a legacy function. New code should use inst.pick(...).\n",
      "NOTE: pick_channels() is a legacy function. New code should use inst.pick(...).\n",
      "Extracting EDF parameters from C:\\Users\\juhoffmann\\Desktop\\EEG_BIDS\\EEG_250Hz\\edf\\sub-022_BackwardMask_Preprocessed.edf...\n",
      "EDF file detected\n",
      "Setting channel info structure...\n",
      "Creating raw.info structure...\n",
      "Reading 0 ... 134249  =      0.000 ...   536.996 secs...\n",
      "Used Annotations descriptions: ['New Segment', 'R', 'R128', 'S 50', 'S 60', 'S 70', 'S120', 'S130', 'S140', 'S150', 'S160', 'S170', 'Time 0', 'h_h_strong', 'h_h_weak', 'h_n_strong', 'h_n_weak', 'h_s_strong', 'h_s_weak', 'n_h_strong', 'n_h_weak', 'n_n_strong', 'n_n_weak', 'n_s_strong', 'n_s_weak', 's_h_strong', 's_h_weak', 's_n_strong', 's_n_weak', 's_s_strong', 's_s_weak']\n",
      "Multiple event values for single event times found. Creating new event value to reflect simultaneous events.\n",
      "Not setting metadata\n",
      "838 matching events found\n",
      "Applying baseline correction (mode: mean)\n",
      "0 projection items activated\n",
      "Using data from preloaded Raw for 838 events and 301 original time points ...\n"
     ]
    },
    {
     "name": "stderr",
     "output_type": "stream",
     "text": [
      "C:\\Users\\juhoffmann\\AppData\\Local\\Temp\\ipykernel_9188\\58317019.py:14: RuntimeWarning: Omitted 1970 annotation(s) that were outside data range.\n",
      "  eeg = mne.io.read_raw_edf(i, preload = True)\n",
      "C:\\Users\\juhoffmann\\AppData\\Local\\Temp\\ipykernel_9188\\58317019.py:17: RuntimeWarning: Fiducial point nasion not found, assuming identity unknown to head transformation\n",
      "  eeg.set_montage(montage, match_case=False) #set montage to raw dataset\n",
      "C:\\Users\\juhoffmann\\AppData\\Local\\Temp\\ipykernel_9188\\58317019.py:17: RuntimeWarning: Not setting position of 1 ecg channel found in montage:\n",
      "['ECG']\n",
      "Consider setting the channel types to be of EEG/sEEG/ECoG/DBS/fNIRS using inst.set_channel_types before calling inst.set_montage, or omit these channels when creating your montage.\n",
      "  eeg.set_montage(montage, match_case=False) #set montage to raw dataset\n"
     ]
    },
    {
     "name": "stdout",
     "output_type": "stream",
     "text": [
      "4 bad epochs dropped\n",
      "NOTE: pick_channels() is a legacy function. New code should use inst.pick(...).\n",
      "NOTE: pick_channels() is a legacy function. New code should use inst.pick(...).\n",
      "NOTE: pick_channels() is a legacy function. New code should use inst.pick(...).\n",
      "NOTE: pick_channels() is a legacy function. New code should use inst.pick(...).\n",
      "NOTE: pick_channels() is a legacy function. New code should use inst.pick(...).\n",
      "NOTE: pick_channels() is a legacy function. New code should use inst.pick(...).\n",
      "NOTE: pick_channels() is a legacy function. New code should use inst.pick(...).\n",
      "NOTE: pick_channels() is a legacy function. New code should use inst.pick(...).\n",
      "NOTE: pick_channels() is a legacy function. New code should use inst.pick(...).\n",
      "Extracting EDF parameters from C:\\Users\\juhoffmann\\Desktop\\EEG_BIDS\\EEG_250Hz\\edf\\sub-024_BackwardMask_Preprocessed.edf...\n",
      "EDF file detected\n",
      "Setting channel info structure...\n",
      "Creating raw.info structure...\n",
      "Reading 0 ... 129374  =      0.000 ...   517.496 secs...\n",
      "Used Annotations descriptions: ['New Segment', 'R', 'R128', 'S 50', 'S 60', 'S 70', 'S120', 'S130', 'S140', 'S150', 'S160', 'S170', 'TPEAK', 'TSTART', 'Time 0', 'h_h_strong', 'h_h_weak', 'h_n_strong', 'h_n_weak', 'h_s_strong', 'h_s_weak', 'n_h_strong', 'n_h_weak', 'n_n_strong', 'n_n_weak', 'n_s_strong', 'n_s_weak', 's_h_strong', 's_h_weak', 's_n_strong', 's_n_weak', 's_s_strong', 's_s_weak']\n",
      "Multiple event values for single event times found. Creating new event value to reflect simultaneous events.\n",
      "Not setting metadata\n",
      "731 matching events found\n",
      "Applying baseline correction (mode: mean)\n",
      "0 projection items activated\n",
      "Using data from preloaded Raw for 731 events and 301 original time points ...\n"
     ]
    },
    {
     "name": "stderr",
     "output_type": "stream",
     "text": [
      "C:\\Users\\juhoffmann\\AppData\\Local\\Temp\\ipykernel_9188\\58317019.py:14: RuntimeWarning: Omitted 1850 annotation(s) that were outside data range.\n",
      "  eeg = mne.io.read_raw_edf(i, preload = True)\n",
      "C:\\Users\\juhoffmann\\AppData\\Local\\Temp\\ipykernel_9188\\58317019.py:17: RuntimeWarning: Fiducial point nasion not found, assuming identity unknown to head transformation\n",
      "  eeg.set_montage(montage, match_case=False) #set montage to raw dataset\n",
      "C:\\Users\\juhoffmann\\AppData\\Local\\Temp\\ipykernel_9188\\58317019.py:17: RuntimeWarning: Not setting position of 1 ecg channel found in montage:\n",
      "['ECG']\n",
      "Consider setting the channel types to be of EEG/sEEG/ECoG/DBS/fNIRS using inst.set_channel_types before calling inst.set_montage, or omit these channels when creating your montage.\n",
      "  eeg.set_montage(montage, match_case=False) #set montage to raw dataset\n"
     ]
    },
    {
     "name": "stdout",
     "output_type": "stream",
     "text": [
      "1 bad epochs dropped\n",
      "NOTE: pick_channels() is a legacy function. New code should use inst.pick(...).\n",
      "NOTE: pick_channels() is a legacy function. New code should use inst.pick(...).\n",
      "NOTE: pick_channels() is a legacy function. New code should use inst.pick(...).\n",
      "NOTE: pick_channels() is a legacy function. New code should use inst.pick(...).\n",
      "NOTE: pick_channels() is a legacy function. New code should use inst.pick(...).\n",
      "NOTE: pick_channels() is a legacy function. New code should use inst.pick(...).\n",
      "NOTE: pick_channels() is a legacy function. New code should use inst.pick(...).\n",
      "NOTE: pick_channels() is a legacy function. New code should use inst.pick(...).\n",
      "NOTE: pick_channels() is a legacy function. New code should use inst.pick(...).\n",
      "Extracting EDF parameters from C:\\Users\\juhoffmann\\Desktop\\EEG_BIDS\\EEG_250Hz\\edf\\sub-025_BackwardMask_Preprocessed.edf...\n",
      "EDF file detected\n",
      "Setting channel info structure...\n",
      "Creating raw.info structure...\n",
      "Reading 0 ... 132749  =      0.000 ...   530.996 secs...\n",
      "Used Annotations descriptions: ['New Segment', 'R', 'R128', 'S 50', 'S 60', 'S 70', 'S120', 'S130', 'S140', 'S150', 'S160', 'S170', 'Time 0', 'h_h_strong', 'h_h_weak', 'h_n_strong', 'h_n_weak', 'h_s_strong', 'h_s_weak', 'n_h_strong', 'n_h_weak', 'n_n_strong', 'n_n_weak', 'n_s_strong', 'n_s_weak', 's_h_strong', 's_h_weak', 's_n_strong', 's_n_weak', 's_s_strong', 's_s_weak']\n",
      "Multiple event values for single event times found. Creating new event value to reflect simultaneous events.\n",
      "Not setting metadata\n",
      "771 matching events found\n",
      "Applying baseline correction (mode: mean)\n",
      "0 projection items activated\n",
      "Using data from preloaded Raw for 771 events and 301 original time points ...\n"
     ]
    },
    {
     "name": "stderr",
     "output_type": "stream",
     "text": [
      "C:\\Users\\juhoffmann\\AppData\\Local\\Temp\\ipykernel_9188\\58317019.py:14: RuntimeWarning: Omitted 1955 annotation(s) that were outside data range.\n",
      "  eeg = mne.io.read_raw_edf(i, preload = True)\n",
      "C:\\Users\\juhoffmann\\AppData\\Local\\Temp\\ipykernel_9188\\58317019.py:17: RuntimeWarning: Fiducial point nasion not found, assuming identity unknown to head transformation\n",
      "  eeg.set_montage(montage, match_case=False) #set montage to raw dataset\n",
      "C:\\Users\\juhoffmann\\AppData\\Local\\Temp\\ipykernel_9188\\58317019.py:17: RuntimeWarning: Not setting position of 1 ecg channel found in montage:\n",
      "['ECG']\n",
      "Consider setting the channel types to be of EEG/sEEG/ECoG/DBS/fNIRS using inst.set_channel_types before calling inst.set_montage, or omit these channels when creating your montage.\n",
      "  eeg.set_montage(montage, match_case=False) #set montage to raw dataset\n"
     ]
    },
    {
     "name": "stdout",
     "output_type": "stream",
     "text": [
      "1 bad epochs dropped\n",
      "NOTE: pick_channels() is a legacy function. New code should use inst.pick(...).\n",
      "NOTE: pick_channels() is a legacy function. New code should use inst.pick(...).\n",
      "NOTE: pick_channels() is a legacy function. New code should use inst.pick(...).\n",
      "NOTE: pick_channels() is a legacy function. New code should use inst.pick(...).\n",
      "NOTE: pick_channels() is a legacy function. New code should use inst.pick(...).\n",
      "NOTE: pick_channels() is a legacy function. New code should use inst.pick(...).\n",
      "NOTE: pick_channels() is a legacy function. New code should use inst.pick(...).\n",
      "NOTE: pick_channels() is a legacy function. New code should use inst.pick(...).\n",
      "NOTE: pick_channels() is a legacy function. New code should use inst.pick(...).\n",
      "Extracting EDF parameters from C:\\Users\\juhoffmann\\Desktop\\EEG_BIDS\\EEG_250Hz\\edf\\sub-026_BackwardMask_Preprocessed.edf...\n",
      "EDF file detected\n",
      "Setting channel info structure...\n",
      "Creating raw.info structure...\n",
      "Reading 0 ... 125999  =      0.000 ...   503.996 secs...\n",
      "Used Annotations descriptions: ['New Segment', 'R', 'R128', 'S 50', 'S 60', 'S 70', 'S120', 'S130', 'S140', 'S150', 'S160', 'S170', 'TEND', 'TPEAK', 'TSTART', 'Time 0', 'h_h_strong', 'h_h_weak', 'h_n_strong', 'h_n_weak', 'h_s_strong', 'h_s_weak', 'n_h_strong', 'n_h_weak', 'n_n_strong', 'n_n_weak', 'n_s_strong', 'n_s_weak', 's_h_strong', 's_h_weak', 's_n_strong', 's_n_weak', 's_s_strong', 's_s_weak']\n",
      "Multiple event values for single event times found. Creating new event value to reflect simultaneous events.\n",
      "Not setting metadata\n",
      "666 matching events found\n",
      "Applying baseline correction (mode: mean)\n",
      "0 projection items activated\n",
      "Using data from preloaded Raw for 666 events and 301 original time points ...\n",
      "1 bad epochs dropped\n"
     ]
    },
    {
     "name": "stderr",
     "output_type": "stream",
     "text": [
      "C:\\Users\\juhoffmann\\AppData\\Local\\Temp\\ipykernel_9188\\58317019.py:14: RuntimeWarning: Omitted 1651 annotation(s) that were outside data range.\n",
      "  eeg = mne.io.read_raw_edf(i, preload = True)\n",
      "C:\\Users\\juhoffmann\\AppData\\Local\\Temp\\ipykernel_9188\\58317019.py:17: RuntimeWarning: Fiducial point nasion not found, assuming identity unknown to head transformation\n",
      "  eeg.set_montage(montage, match_case=False) #set montage to raw dataset\n",
      "C:\\Users\\juhoffmann\\AppData\\Local\\Temp\\ipykernel_9188\\58317019.py:17: RuntimeWarning: Not setting position of 1 ecg channel found in montage:\n",
      "['ECG']\n",
      "Consider setting the channel types to be of EEG/sEEG/ECoG/DBS/fNIRS using inst.set_channel_types before calling inst.set_montage, or omit these channels when creating your montage.\n",
      "  eeg.set_montage(montage, match_case=False) #set montage to raw dataset\n"
     ]
    },
    {
     "name": "stdout",
     "output_type": "stream",
     "text": [
      "NOTE: pick_channels() is a legacy function. New code should use inst.pick(...).\n",
      "NOTE: pick_channels() is a legacy function. New code should use inst.pick(...).\n",
      "NOTE: pick_channels() is a legacy function. New code should use inst.pick(...).\n",
      "NOTE: pick_channels() is a legacy function. New code should use inst.pick(...).\n",
      "NOTE: pick_channels() is a legacy function. New code should use inst.pick(...).\n",
      "NOTE: pick_channels() is a legacy function. New code should use inst.pick(...).\n",
      "NOTE: pick_channels() is a legacy function. New code should use inst.pick(...).\n",
      "NOTE: pick_channels() is a legacy function. New code should use inst.pick(...).\n",
      "NOTE: pick_channels() is a legacy function. New code should use inst.pick(...).\n",
      "Extracting EDF parameters from C:\\Users\\juhoffmann\\Desktop\\EEG_BIDS\\EEG_250Hz\\edf\\sub-027_BackwardMask_Preprocessed.edf...\n",
      "EDF file detected\n",
      "Setting channel info structure...\n",
      "Creating raw.info structure...\n",
      "Reading 0 ... 133124  =      0.000 ...   532.496 secs...\n",
      "Used Annotations descriptions: ['New Segment', 'R', 'R128', 'S 50', 'S 60', 'S 70', 'S120', 'S130', 'S140', 'S150', 'S160', 'S170', 'Time 0', 'h_h_strong', 'h_h_weak', 'h_n_strong', 'h_n_weak', 'h_s_strong', 'h_s_weak', 'n_h_strong', 'n_h_weak', 'n_n_strong', 'n_n_weak', 'n_s_strong', 'n_s_weak', 's_h_strong', 's_h_weak', 's_n_strong', 's_n_weak', 's_s_strong', 's_s_weak']\n",
      "Multiple event values for single event times found. Creating new event value to reflect simultaneous events.\n",
      "Not setting metadata\n",
      "826 matching events found\n",
      "Applying baseline correction (mode: mean)\n",
      "0 projection items activated\n",
      "Using data from preloaded Raw for 826 events and 301 original time points ...\n"
     ]
    },
    {
     "name": "stderr",
     "output_type": "stream",
     "text": [
      "C:\\Users\\juhoffmann\\AppData\\Local\\Temp\\ipykernel_9188\\58317019.py:14: RuntimeWarning: Omitted 1986 annotation(s) that were outside data range.\n",
      "  eeg = mne.io.read_raw_edf(i, preload = True)\n",
      "C:\\Users\\juhoffmann\\AppData\\Local\\Temp\\ipykernel_9188\\58317019.py:17: RuntimeWarning: Fiducial point nasion not found, assuming identity unknown to head transformation\n",
      "  eeg.set_montage(montage, match_case=False) #set montage to raw dataset\n",
      "C:\\Users\\juhoffmann\\AppData\\Local\\Temp\\ipykernel_9188\\58317019.py:17: RuntimeWarning: Not setting position of 1 ecg channel found in montage:\n",
      "['ECG']\n",
      "Consider setting the channel types to be of EEG/sEEG/ECoG/DBS/fNIRS using inst.set_channel_types before calling inst.set_montage, or omit these channels when creating your montage.\n",
      "  eeg.set_montage(montage, match_case=False) #set montage to raw dataset\n"
     ]
    },
    {
     "name": "stdout",
     "output_type": "stream",
     "text": [
      "3 bad epochs dropped\n",
      "NOTE: pick_channels() is a legacy function. New code should use inst.pick(...).\n",
      "NOTE: pick_channels() is a legacy function. New code should use inst.pick(...).\n",
      "NOTE: pick_channels() is a legacy function. New code should use inst.pick(...).\n",
      "NOTE: pick_channels() is a legacy function. New code should use inst.pick(...).\n",
      "NOTE: pick_channels() is a legacy function. New code should use inst.pick(...).\n",
      "NOTE: pick_channels() is a legacy function. New code should use inst.pick(...).\n",
      "NOTE: pick_channels() is a legacy function. New code should use inst.pick(...).\n",
      "NOTE: pick_channels() is a legacy function. New code should use inst.pick(...).\n",
      "NOTE: pick_channels() is a legacy function. New code should use inst.pick(...).\n",
      "Extracting EDF parameters from C:\\Users\\juhoffmann\\Desktop\\EEG_BIDS\\EEG_250Hz\\edf\\sub-031_BackwardMask_Preprocessed.edf...\n",
      "EDF file detected\n",
      "Setting channel info structure...\n",
      "Creating raw.info structure...\n",
      "Reading 0 ... 134999  =      0.000 ...   539.996 secs...\n",
      "Used Annotations descriptions: ['New Segment', 'R', 'R128', 'S 30', 'S120', 'S130', 'S140', 'S150', 'S160', 'S170', 'TEND', 'Time 0', 'h_h_strong', 'h_h_weak', 'h_n_strong', 'h_n_weak', 'h_s_strong', 'h_s_weak', 'n_h_strong', 'n_h_weak', 'n_n_strong', 'n_n_weak', 'n_s_strong', 'n_s_weak', 's_h_strong', 's_h_weak', 's_n_strong', 's_n_weak', 's_s_strong', 's_s_weak']\n",
      "Multiple event values for single event times found. Creating new event value to reflect simultaneous events.\n",
      "Not setting metadata\n",
      "808 matching events found\n",
      "Applying baseline correction (mode: mean)\n",
      "0 projection items activated\n",
      "Using data from preloaded Raw for 808 events and 301 original time points ...\n"
     ]
    },
    {
     "name": "stderr",
     "output_type": "stream",
     "text": [
      "C:\\Users\\juhoffmann\\AppData\\Local\\Temp\\ipykernel_9188\\58317019.py:14: RuntimeWarning: Omitted 1885 annotation(s) that were outside data range.\n",
      "  eeg = mne.io.read_raw_edf(i, preload = True)\n",
      "C:\\Users\\juhoffmann\\AppData\\Local\\Temp\\ipykernel_9188\\58317019.py:17: RuntimeWarning: Fiducial point nasion not found, assuming identity unknown to head transformation\n",
      "  eeg.set_montage(montage, match_case=False) #set montage to raw dataset\n",
      "C:\\Users\\juhoffmann\\AppData\\Local\\Temp\\ipykernel_9188\\58317019.py:17: RuntimeWarning: Not setting position of 1 ecg channel found in montage:\n",
      "['ECG']\n",
      "Consider setting the channel types to be of EEG/sEEG/ECoG/DBS/fNIRS using inst.set_channel_types before calling inst.set_montage, or omit these channels when creating your montage.\n",
      "  eeg.set_montage(montage, match_case=False) #set montage to raw dataset\n"
     ]
    },
    {
     "name": "stdout",
     "output_type": "stream",
     "text": [
      "1 bad epochs dropped\n",
      "NOTE: pick_channels() is a legacy function. New code should use inst.pick(...).\n",
      "NOTE: pick_channels() is a legacy function. New code should use inst.pick(...).\n",
      "NOTE: pick_channels() is a legacy function. New code should use inst.pick(...).\n",
      "NOTE: pick_channels() is a legacy function. New code should use inst.pick(...).\n",
      "NOTE: pick_channels() is a legacy function. New code should use inst.pick(...).\n",
      "NOTE: pick_channels() is a legacy function. New code should use inst.pick(...).\n",
      "NOTE: pick_channels() is a legacy function. New code should use inst.pick(...).\n",
      "NOTE: pick_channels() is a legacy function. New code should use inst.pick(...).\n",
      "NOTE: pick_channels() is a legacy function. New code should use inst.pick(...).\n",
      "Extracting EDF parameters from C:\\Users\\juhoffmann\\Desktop\\EEG_BIDS\\EEG_250Hz\\edf\\sub-032_BackwardMask_Preprocessed.edf...\n",
      "EDF file detected\n",
      "Setting channel info structure...\n",
      "Creating raw.info structure...\n",
      "Reading 0 ... 122999  =      0.000 ...   491.996 secs...\n",
      "Used Annotations descriptions: ['New Segment', 'R', 'R128', 'S 30', 'S120', 'S130', 'S140', 'S150', 'S160', 'S170', 'Time 0', 'h_h_strong', 'h_h_weak', 'h_n_strong', 'h_n_weak', 'h_s_strong', 'h_s_weak', 'n_h_strong', 'n_h_weak', 'n_n_strong', 'n_n_weak', 'n_s_strong', 'n_s_weak', 's_h_strong', 's_h_weak', 's_n_strong', 's_n_weak', 's_s_strong', 's_s_weak']\n",
      "Multiple event values for single event times found. Creating new event value to reflect simultaneous events.\n",
      "Not setting metadata\n",
      "714 matching events found\n",
      "Applying baseline correction (mode: mean)\n",
      "0 projection items activated\n",
      "Using data from preloaded Raw for 714 events and 301 original time points ...\n"
     ]
    },
    {
     "name": "stderr",
     "output_type": "stream",
     "text": [
      "C:\\Users\\juhoffmann\\AppData\\Local\\Temp\\ipykernel_9188\\58317019.py:14: RuntimeWarning: Omitted 1846 annotation(s) that were outside data range.\n",
      "  eeg = mne.io.read_raw_edf(i, preload = True)\n",
      "C:\\Users\\juhoffmann\\AppData\\Local\\Temp\\ipykernel_9188\\58317019.py:17: RuntimeWarning: Fiducial point nasion not found, assuming identity unknown to head transformation\n",
      "  eeg.set_montage(montage, match_case=False) #set montage to raw dataset\n",
      "C:\\Users\\juhoffmann\\AppData\\Local\\Temp\\ipykernel_9188\\58317019.py:17: RuntimeWarning: Not setting position of 1 ecg channel found in montage:\n",
      "['ECG']\n",
      "Consider setting the channel types to be of EEG/sEEG/ECoG/DBS/fNIRS using inst.set_channel_types before calling inst.set_montage, or omit these channels when creating your montage.\n",
      "  eeg.set_montage(montage, match_case=False) #set montage to raw dataset\n"
     ]
    },
    {
     "name": "stdout",
     "output_type": "stream",
     "text": [
      "1 bad epochs dropped\n",
      "NOTE: pick_channels() is a legacy function. New code should use inst.pick(...).\n",
      "NOTE: pick_channels() is a legacy function. New code should use inst.pick(...).\n",
      "NOTE: pick_channels() is a legacy function. New code should use inst.pick(...).\n",
      "NOTE: pick_channels() is a legacy function. New code should use inst.pick(...).\n",
      "NOTE: pick_channels() is a legacy function. New code should use inst.pick(...).\n",
      "NOTE: pick_channels() is a legacy function. New code should use inst.pick(...).\n",
      "NOTE: pick_channels() is a legacy function. New code should use inst.pick(...).\n",
      "NOTE: pick_channels() is a legacy function. New code should use inst.pick(...).\n",
      "NOTE: pick_channels() is a legacy function. New code should use inst.pick(...).\n",
      "Extracting EDF parameters from C:\\Users\\juhoffmann\\Desktop\\EEG_BIDS\\EEG_250Hz\\edf\\sub-033_BackwardMask_Preprocessed.edf...\n",
      "EDF file detected\n",
      "Setting channel info structure...\n",
      "Creating raw.info structure...\n",
      "Reading 0 ... 134624  =      0.000 ...   538.496 secs...\n",
      "Used Annotations descriptions: ['New Segment', 'R', 'R128', 'S 30', 'S120', 'S130', 'S140', 'S150', 'S160', 'S170', 'TEND', 'TPEAK', 'TSTART', 'Time 0', 'h_h_strong', 'h_h_weak', 'h_n_strong', 'h_n_weak', 'h_s_strong', 'h_s_weak', 'n_h_strong', 'n_h_weak', 'n_n_strong', 'n_n_weak', 'n_s_strong', 'n_s_weak', 's_h_strong', 's_h_weak', 's_n_strong', 's_n_weak', 's_s_strong', 's_s_weak']\n",
      "Multiple event values for single event times found. Creating new event value to reflect simultaneous events.\n",
      "Not setting metadata\n",
      "815 matching events found\n",
      "Applying baseline correction (mode: mean)\n",
      "0 projection items activated\n",
      "Using data from preloaded Raw for 815 events and 301 original time points ...\n"
     ]
    },
    {
     "name": "stderr",
     "output_type": "stream",
     "text": [
      "C:\\Users\\juhoffmann\\AppData\\Local\\Temp\\ipykernel_9188\\58317019.py:14: RuntimeWarning: Omitted 1905 annotation(s) that were outside data range.\n",
      "  eeg = mne.io.read_raw_edf(i, preload = True)\n",
      "C:\\Users\\juhoffmann\\AppData\\Local\\Temp\\ipykernel_9188\\58317019.py:17: RuntimeWarning: Fiducial point nasion not found, assuming identity unknown to head transformation\n",
      "  eeg.set_montage(montage, match_case=False) #set montage to raw dataset\n",
      "C:\\Users\\juhoffmann\\AppData\\Local\\Temp\\ipykernel_9188\\58317019.py:17: RuntimeWarning: Not setting position of 1 ecg channel found in montage:\n",
      "['ECG']\n",
      "Consider setting the channel types to be of EEG/sEEG/ECoG/DBS/fNIRS using inst.set_channel_types before calling inst.set_montage, or omit these channels when creating your montage.\n",
      "  eeg.set_montage(montage, match_case=False) #set montage to raw dataset\n"
     ]
    },
    {
     "name": "stdout",
     "output_type": "stream",
     "text": [
      "2 bad epochs dropped\n",
      "NOTE: pick_channels() is a legacy function. New code should use inst.pick(...).\n",
      "NOTE: pick_channels() is a legacy function. New code should use inst.pick(...).\n",
      "NOTE: pick_channels() is a legacy function. New code should use inst.pick(...).\n",
      "NOTE: pick_channels() is a legacy function. New code should use inst.pick(...).\n",
      "NOTE: pick_channels() is a legacy function. New code should use inst.pick(...).\n",
      "NOTE: pick_channels() is a legacy function. New code should use inst.pick(...).\n",
      "NOTE: pick_channels() is a legacy function. New code should use inst.pick(...).\n",
      "NOTE: pick_channels() is a legacy function. New code should use inst.pick(...).\n",
      "NOTE: pick_channels() is a legacy function. New code should use inst.pick(...).\n",
      "Extracting EDF parameters from C:\\Users\\juhoffmann\\Desktop\\EEG_BIDS\\EEG_250Hz\\edf\\sub-034_BackwardMask_Preprocessed.edf...\n",
      "EDF file detected\n",
      "Setting channel info structure...\n",
      "Creating raw.info structure...\n",
      "Reading 0 ... 131999  =      0.000 ...   527.996 secs...\n",
      "Used Annotations descriptions: ['New Segment', 'R', 'R128', 'S 50', 'S 60', 'S 70', 'S120', 'S130', 'S140', 'S150', 'S160', 'S170', 'Time 0', 'h_h_strong', 'h_h_weak', 'h_n_strong', 'h_n_weak', 'h_s_strong', 'h_s_weak', 'n_h_strong', 'n_h_weak', 'n_n_strong', 'n_n_weak', 'n_s_strong', 'n_s_weak', 's_h_strong', 's_h_weak', 's_n_strong', 's_n_weak', 's_s_strong', 's_s_weak']\n",
      "Multiple event values for single event times found. Creating new event value to reflect simultaneous events.\n",
      "Not setting metadata\n",
      "774 matching events found\n",
      "Applying baseline correction (mode: mean)\n",
      "0 projection items activated\n",
      "Using data from preloaded Raw for 774 events and 301 original time points ...\n"
     ]
    },
    {
     "name": "stderr",
     "output_type": "stream",
     "text": [
      "C:\\Users\\juhoffmann\\AppData\\Local\\Temp\\ipykernel_9188\\58317019.py:14: RuntimeWarning: Omitted 1905 annotation(s) that were outside data range.\n",
      "  eeg = mne.io.read_raw_edf(i, preload = True)\n",
      "C:\\Users\\juhoffmann\\AppData\\Local\\Temp\\ipykernel_9188\\58317019.py:17: RuntimeWarning: Fiducial point nasion not found, assuming identity unknown to head transformation\n",
      "  eeg.set_montage(montage, match_case=False) #set montage to raw dataset\n",
      "C:\\Users\\juhoffmann\\AppData\\Local\\Temp\\ipykernel_9188\\58317019.py:17: RuntimeWarning: Not setting position of 1 ecg channel found in montage:\n",
      "['ECG']\n",
      "Consider setting the channel types to be of EEG/sEEG/ECoG/DBS/fNIRS using inst.set_channel_types before calling inst.set_montage, or omit these channels when creating your montage.\n",
      "  eeg.set_montage(montage, match_case=False) #set montage to raw dataset\n"
     ]
    },
    {
     "name": "stdout",
     "output_type": "stream",
     "text": [
      "2 bad epochs dropped\n",
      "NOTE: pick_channels() is a legacy function. New code should use inst.pick(...).\n",
      "NOTE: pick_channels() is a legacy function. New code should use inst.pick(...).\n",
      "NOTE: pick_channels() is a legacy function. New code should use inst.pick(...).\n",
      "NOTE: pick_channels() is a legacy function. New code should use inst.pick(...).\n",
      "NOTE: pick_channels() is a legacy function. New code should use inst.pick(...).\n",
      "NOTE: pick_channels() is a legacy function. New code should use inst.pick(...).\n",
      "NOTE: pick_channels() is a legacy function. New code should use inst.pick(...).\n",
      "NOTE: pick_channels() is a legacy function. New code should use inst.pick(...).\n",
      "NOTE: pick_channels() is a legacy function. New code should use inst.pick(...).\n",
      "Extracting EDF parameters from C:\\Users\\juhoffmann\\Desktop\\EEG_BIDS\\EEG_250Hz\\edf\\sub-035_BackwardMask_Preprocessed.edf...\n",
      "EDF file detected\n",
      "Setting channel info structure...\n",
      "Creating raw.info structure...\n",
      "Reading 0 ... 133874  =      0.000 ...   535.496 secs...\n",
      "Used Annotations descriptions: ['New Segment', 'R', 'R128', 'S 50', 'S 60', 'S 70', 'S120', 'S130', 'S140', 'S150', 'S160', 'S170', 'Time 0', 'h_h_strong', 'h_h_weak', 'h_n_strong', 'h_n_weak', 'h_s_strong', 'h_s_weak', 'n_h_strong', 'n_h_weak', 'n_n_strong', 'n_n_weak', 'n_s_strong', 'n_s_weak', 's_h_strong', 's_h_weak', 's_n_strong', 's_n_weak', 's_s_strong', 's_s_weak']\n",
      "Multiple event values for single event times found. Creating new event value to reflect simultaneous events.\n",
      "Not setting metadata\n",
      "822 matching events found\n",
      "Applying baseline correction (mode: mean)\n",
      "0 projection items activated\n",
      "Using data from preloaded Raw for 822 events and 301 original time points ...\n"
     ]
    },
    {
     "name": "stderr",
     "output_type": "stream",
     "text": [
      "C:\\Users\\juhoffmann\\AppData\\Local\\Temp\\ipykernel_9188\\58317019.py:14: RuntimeWarning: Omitted 1918 annotation(s) that were outside data range.\n",
      "  eeg = mne.io.read_raw_edf(i, preload = True)\n",
      "C:\\Users\\juhoffmann\\AppData\\Local\\Temp\\ipykernel_9188\\58317019.py:17: RuntimeWarning: Fiducial point nasion not found, assuming identity unknown to head transformation\n",
      "  eeg.set_montage(montage, match_case=False) #set montage to raw dataset\n",
      "C:\\Users\\juhoffmann\\AppData\\Local\\Temp\\ipykernel_9188\\58317019.py:17: RuntimeWarning: Not setting position of 1 ecg channel found in montage:\n",
      "['ECG']\n",
      "Consider setting the channel types to be of EEG/sEEG/ECoG/DBS/fNIRS using inst.set_channel_types before calling inst.set_montage, or omit these channels when creating your montage.\n",
      "  eeg.set_montage(montage, match_case=False) #set montage to raw dataset\n"
     ]
    },
    {
     "name": "stdout",
     "output_type": "stream",
     "text": [
      "3 bad epochs dropped\n",
      "NOTE: pick_channels() is a legacy function. New code should use inst.pick(...).\n",
      "NOTE: pick_channels() is a legacy function. New code should use inst.pick(...).\n",
      "NOTE: pick_channels() is a legacy function. New code should use inst.pick(...).\n",
      "NOTE: pick_channels() is a legacy function. New code should use inst.pick(...).\n",
      "NOTE: pick_channels() is a legacy function. New code should use inst.pick(...).\n",
      "NOTE: pick_channels() is a legacy function. New code should use inst.pick(...).\n",
      "NOTE: pick_channels() is a legacy function. New code should use inst.pick(...).\n",
      "NOTE: pick_channels() is a legacy function. New code should use inst.pick(...).\n",
      "NOTE: pick_channels() is a legacy function. New code should use inst.pick(...).\n",
      "Extracting EDF parameters from C:\\Users\\juhoffmann\\Desktop\\EEG_BIDS\\EEG_250Hz\\edf\\sub-036_BackwardMask_Preprocessed.edf...\n",
      "EDF file detected\n",
      "Setting channel info structure...\n",
      "Creating raw.info structure...\n",
      "Reading 0 ... 134249  =      0.000 ...   536.996 secs...\n",
      "Used Annotations descriptions: ['New Segment', 'R', 'R128', 'S 50', 'S 60', 'S 70', 'S120', 'S130', 'S140', 'S150', 'S160', 'S170', 'Time 0', 'h_h_strong', 'h_h_weak', 'h_n_strong', 'h_n_weak', 'h_s_strong', 'h_s_weak', 'n_h_strong', 'n_h_weak', 'n_n_strong', 'n_n_weak', 'n_s_strong', 'n_s_weak', 's_h_strong', 's_h_weak', 's_n_strong', 's_n_weak', 's_s_strong', 's_s_weak']\n",
      "Multiple event values for single event times found. Creating new event value to reflect simultaneous events.\n",
      "Not setting metadata\n",
      "744 matching events found\n",
      "Applying baseline correction (mode: mean)\n",
      "0 projection items activated\n",
      "Using data from preloaded Raw for 744 events and 301 original time points ...\n"
     ]
    },
    {
     "name": "stderr",
     "output_type": "stream",
     "text": [
      "C:\\Users\\juhoffmann\\AppData\\Local\\Temp\\ipykernel_9188\\58317019.py:14: RuntimeWarning: Omitted 1846 annotation(s) that were outside data range.\n",
      "  eeg = mne.io.read_raw_edf(i, preload = True)\n",
      "C:\\Users\\juhoffmann\\AppData\\Local\\Temp\\ipykernel_9188\\58317019.py:17: RuntimeWarning: Fiducial point nasion not found, assuming identity unknown to head transformation\n",
      "  eeg.set_montage(montage, match_case=False) #set montage to raw dataset\n",
      "C:\\Users\\juhoffmann\\AppData\\Local\\Temp\\ipykernel_9188\\58317019.py:17: RuntimeWarning: Not setting position of 1 ecg channel found in montage:\n",
      "['ECG']\n",
      "Consider setting the channel types to be of EEG/sEEG/ECoG/DBS/fNIRS using inst.set_channel_types before calling inst.set_montage, or omit these channels when creating your montage.\n",
      "  eeg.set_montage(montage, match_case=False) #set montage to raw dataset\n"
     ]
    },
    {
     "name": "stdout",
     "output_type": "stream",
     "text": [
      "1 bad epochs dropped\n",
      "NOTE: pick_channels() is a legacy function. New code should use inst.pick(...).\n",
      "NOTE: pick_channels() is a legacy function. New code should use inst.pick(...).\n",
      "NOTE: pick_channels() is a legacy function. New code should use inst.pick(...).\n",
      "NOTE: pick_channels() is a legacy function. New code should use inst.pick(...).\n",
      "NOTE: pick_channels() is a legacy function. New code should use inst.pick(...).\n",
      "NOTE: pick_channels() is a legacy function. New code should use inst.pick(...).\n",
      "NOTE: pick_channels() is a legacy function. New code should use inst.pick(...).\n",
      "NOTE: pick_channels() is a legacy function. New code should use inst.pick(...).\n",
      "NOTE: pick_channels() is a legacy function. New code should use inst.pick(...).\n",
      "Extracting EDF parameters from C:\\Users\\juhoffmann\\Desktop\\EEG_BIDS\\EEG_250Hz\\edf\\sub-037_BackwardMask_Preprocessed.edf...\n",
      "EDF file detected\n",
      "Setting channel info structure...\n",
      "Creating raw.info structure...\n",
      "Reading 0 ... 128624  =      0.000 ...   514.496 secs...\n",
      "Used Annotations descriptions: ['New Segment', 'R', 'R128', 'S 50', 'S 60', 'S 70', 'S120', 'S130', 'S140', 'S150', 'S160', 'S170', 'TEND', 'TPEAK', 'TSTART', 'Time 0', 'h_h_strong', 'h_h_weak', 'h_n_strong', 'h_n_weak', 'h_s_strong', 'h_s_weak', 'n_h_strong', 'n_h_weak', 'n_n_strong', 'n_n_weak', 'n_s_strong', 'n_s_weak', 's_h_strong', 's_h_weak', 's_n_strong', 's_n_weak', 's_s_strong', 's_s_weak']\n",
      "Multiple event values for single event times found. Creating new event value to reflect simultaneous events.\n",
      "Not setting metadata\n",
      "726 matching events found\n",
      "Applying baseline correction (mode: mean)\n",
      "0 projection items activated\n",
      "Using data from preloaded Raw for 726 events and 301 original time points ...\n",
      "1 bad epochs dropped\n"
     ]
    },
    {
     "name": "stderr",
     "output_type": "stream",
     "text": [
      "C:\\Users\\juhoffmann\\AppData\\Local\\Temp\\ipykernel_9188\\58317019.py:14: RuntimeWarning: Omitted 1927 annotation(s) that were outside data range.\n",
      "  eeg = mne.io.read_raw_edf(i, preload = True)\n",
      "C:\\Users\\juhoffmann\\AppData\\Local\\Temp\\ipykernel_9188\\58317019.py:17: RuntimeWarning: Fiducial point nasion not found, assuming identity unknown to head transformation\n",
      "  eeg.set_montage(montage, match_case=False) #set montage to raw dataset\n",
      "C:\\Users\\juhoffmann\\AppData\\Local\\Temp\\ipykernel_9188\\58317019.py:17: RuntimeWarning: Not setting position of 1 ecg channel found in montage:\n",
      "['ECG']\n",
      "Consider setting the channel types to be of EEG/sEEG/ECoG/DBS/fNIRS using inst.set_channel_types before calling inst.set_montage, or omit these channels when creating your montage.\n",
      "  eeg.set_montage(montage, match_case=False) #set montage to raw dataset\n"
     ]
    },
    {
     "name": "stdout",
     "output_type": "stream",
     "text": [
      "NOTE: pick_channels() is a legacy function. New code should use inst.pick(...).\n",
      "NOTE: pick_channels() is a legacy function. New code should use inst.pick(...).\n",
      "NOTE: pick_channels() is a legacy function. New code should use inst.pick(...).\n",
      "NOTE: pick_channels() is a legacy function. New code should use inst.pick(...).\n",
      "NOTE: pick_channels() is a legacy function. New code should use inst.pick(...).\n",
      "NOTE: pick_channels() is a legacy function. New code should use inst.pick(...).\n",
      "NOTE: pick_channels() is a legacy function. New code should use inst.pick(...).\n",
      "NOTE: pick_channels() is a legacy function. New code should use inst.pick(...).\n",
      "NOTE: pick_channels() is a legacy function. New code should use inst.pick(...).\n",
      "Extracting EDF parameters from C:\\Users\\juhoffmann\\Desktop\\EEG_BIDS\\EEG_250Hz\\edf\\sub-038_BackwardMask_Preprocessed.edf...\n",
      "EDF file detected\n",
      "Setting channel info structure...\n",
      "Creating raw.info structure...\n",
      "Reading 0 ... 125249  =      0.000 ...   500.996 secs...\n",
      "Used Annotations descriptions: ['New Segment', 'R', 'R128', 'S 50', 'S 60', 'S 70', 'S120', 'S130', 'S140', 'S150', 'S160', 'S170', 'TEND', 'TPEAK', 'TSTART', 'Time 0', 'h_h_strong', 'h_h_weak', 'h_n_strong', 'h_n_weak', 'h_s_strong', 'h_s_weak', 'n_h_strong', 'n_h_weak', 'n_n_strong', 'n_n_weak', 'n_s_strong', 'n_s_weak', 's_h_strong', 's_h_weak', 's_n_strong', 's_n_weak', 's_s_strong', 's_s_weak']\n",
      "Multiple event values for single event times found. Creating new event value to reflect simultaneous events.\n",
      "Not setting metadata\n",
      "661 matching events found\n",
      "Applying baseline correction (mode: mean)\n",
      "0 projection items activated\n",
      "Using data from preloaded Raw for 661 events and 301 original time points ...\n"
     ]
    },
    {
     "name": "stderr",
     "output_type": "stream",
     "text": [
      "C:\\Users\\juhoffmann\\AppData\\Local\\Temp\\ipykernel_9188\\58317019.py:14: RuntimeWarning: Omitted 1839 annotation(s) that were outside data range.\n",
      "  eeg = mne.io.read_raw_edf(i, preload = True)\n",
      "C:\\Users\\juhoffmann\\AppData\\Local\\Temp\\ipykernel_9188\\58317019.py:17: RuntimeWarning: Fiducial point nasion not found, assuming identity unknown to head transformation\n",
      "  eeg.set_montage(montage, match_case=False) #set montage to raw dataset\n",
      "C:\\Users\\juhoffmann\\AppData\\Local\\Temp\\ipykernel_9188\\58317019.py:17: RuntimeWarning: Not setting position of 1 ecg channel found in montage:\n",
      "['ECG']\n",
      "Consider setting the channel types to be of EEG/sEEG/ECoG/DBS/fNIRS using inst.set_channel_types before calling inst.set_montage, or omit these channels when creating your montage.\n",
      "  eeg.set_montage(montage, match_case=False) #set montage to raw dataset\n"
     ]
    },
    {
     "name": "stdout",
     "output_type": "stream",
     "text": [
      "2 bad epochs dropped\n",
      "NOTE: pick_channels() is a legacy function. New code should use inst.pick(...).\n",
      "NOTE: pick_channels() is a legacy function. New code should use inst.pick(...).\n",
      "NOTE: pick_channels() is a legacy function. New code should use inst.pick(...).\n",
      "NOTE: pick_channels() is a legacy function. New code should use inst.pick(...).\n",
      "NOTE: pick_channels() is a legacy function. New code should use inst.pick(...).\n",
      "NOTE: pick_channels() is a legacy function. New code should use inst.pick(...).\n",
      "NOTE: pick_channels() is a legacy function. New code should use inst.pick(...).\n",
      "NOTE: pick_channels() is a legacy function. New code should use inst.pick(...).\n",
      "NOTE: pick_channels() is a legacy function. New code should use inst.pick(...).\n",
      "Extracting EDF parameters from C:\\Users\\juhoffmann\\Desktop\\EEG_BIDS\\EEG_250Hz\\edf\\sub-039_BackwardMask_Preprocessed.edf...\n",
      "EDF file detected\n",
      "Setting channel info structure...\n",
      "Creating raw.info structure...\n",
      "Reading 0 ... 134624  =      0.000 ...   538.496 secs...\n",
      "Used Annotations descriptions: ['New Segment', 'R', 'R128', 'S 50', 'S 60', 'S 70', 'S120', 'S130', 'S140', 'S150', 'S160', 'S170', 'Time 0', 'h_h_strong', 'h_h_weak', 'h_n_strong', 'h_n_weak', 'h_s_strong', 'h_s_weak', 'n_h_strong', 'n_h_weak', 'n_n_strong', 'n_n_weak', 'n_s_strong', 'n_s_weak', 's_h_strong', 's_h_weak', 's_n_strong', 's_n_weak', 's_s_strong', 's_s_weak']\n",
      "Multiple event values for single event times found. Creating new event value to reflect simultaneous events.\n",
      "Not setting metadata\n",
      "769 matching events found\n",
      "Applying baseline correction (mode: mean)\n",
      "0 projection items activated\n",
      "Using data from preloaded Raw for 769 events and 301 original time points ...\n"
     ]
    },
    {
     "name": "stderr",
     "output_type": "stream",
     "text": [
      "C:\\Users\\juhoffmann\\AppData\\Local\\Temp\\ipykernel_9188\\58317019.py:14: RuntimeWarning: Omitted 1862 annotation(s) that were outside data range.\n",
      "  eeg = mne.io.read_raw_edf(i, preload = True)\n",
      "C:\\Users\\juhoffmann\\AppData\\Local\\Temp\\ipykernel_9188\\58317019.py:17: RuntimeWarning: Fiducial point nasion not found, assuming identity unknown to head transformation\n",
      "  eeg.set_montage(montage, match_case=False) #set montage to raw dataset\n",
      "C:\\Users\\juhoffmann\\AppData\\Local\\Temp\\ipykernel_9188\\58317019.py:17: RuntimeWarning: Not setting position of 1 ecg channel found in montage:\n",
      "['ECG']\n",
      "Consider setting the channel types to be of EEG/sEEG/ECoG/DBS/fNIRS using inst.set_channel_types before calling inst.set_montage, or omit these channels when creating your montage.\n",
      "  eeg.set_montage(montage, match_case=False) #set montage to raw dataset\n"
     ]
    },
    {
     "name": "stdout",
     "output_type": "stream",
     "text": [
      "1 bad epochs dropped\n",
      "NOTE: pick_channels() is a legacy function. New code should use inst.pick(...).\n",
      "NOTE: pick_channels() is a legacy function. New code should use inst.pick(...).\n",
      "NOTE: pick_channels() is a legacy function. New code should use inst.pick(...).\n",
      "NOTE: pick_channels() is a legacy function. New code should use inst.pick(...).\n",
      "NOTE: pick_channels() is a legacy function. New code should use inst.pick(...).\n",
      "NOTE: pick_channels() is a legacy function. New code should use inst.pick(...).\n",
      "NOTE: pick_channels() is a legacy function. New code should use inst.pick(...).\n",
      "NOTE: pick_channels() is a legacy function. New code should use inst.pick(...).\n",
      "NOTE: pick_channels() is a legacy function. New code should use inst.pick(...).\n",
      "Extracting EDF parameters from C:\\Users\\juhoffmann\\Desktop\\EEG_BIDS\\EEG_250Hz\\edf\\sub-040_BackwardMask_Preprocessed.edf...\n",
      "EDF file detected\n",
      "Setting channel info structure...\n",
      "Creating raw.info structure...\n",
      "Reading 0 ... 133499  =      0.000 ...   533.996 secs...\n",
      "Used Annotations descriptions: ['New Segment', 'R', 'R128', 'S 50', 'S 60', 'S 70', 'S120', 'S130', 'S140', 'S150', 'S160', 'S170', 'TEND', 'TPEAK', 'TSTART', 'Time 0', 'h_h_strong', 'h_h_weak', 'h_n_strong', 'h_n_weak', 'h_s_strong', 'h_s_weak', 'n_h_strong', 'n_h_weak', 'n_n_strong', 'n_n_weak', 'n_s_strong', 'n_s_weak', 's_h_strong', 's_h_weak', 's_n_strong', 's_n_weak', 's_s_strong', 's_s_weak']\n",
      "Multiple event values for single event times found. Creating new event value to reflect simultaneous events.\n",
      "Not setting metadata\n",
      "785 matching events found\n",
      "Applying baseline correction (mode: mean)\n",
      "0 projection items activated\n",
      "Using data from preloaded Raw for 785 events and 301 original time points ...\n"
     ]
    },
    {
     "name": "stderr",
     "output_type": "stream",
     "text": [
      "C:\\Users\\juhoffmann\\AppData\\Local\\Temp\\ipykernel_9188\\58317019.py:14: RuntimeWarning: Omitted 1868 annotation(s) that were outside data range.\n",
      "  eeg = mne.io.read_raw_edf(i, preload = True)\n",
      "C:\\Users\\juhoffmann\\AppData\\Local\\Temp\\ipykernel_9188\\58317019.py:17: RuntimeWarning: Fiducial point nasion not found, assuming identity unknown to head transformation\n",
      "  eeg.set_montage(montage, match_case=False) #set montage to raw dataset\n",
      "C:\\Users\\juhoffmann\\AppData\\Local\\Temp\\ipykernel_9188\\58317019.py:17: RuntimeWarning: Not setting position of 1 ecg channel found in montage:\n",
      "['ECG']\n",
      "Consider setting the channel types to be of EEG/sEEG/ECoG/DBS/fNIRS using inst.set_channel_types before calling inst.set_montage, or omit these channels when creating your montage.\n",
      "  eeg.set_montage(montage, match_case=False) #set montage to raw dataset\n"
     ]
    },
    {
     "name": "stdout",
     "output_type": "stream",
     "text": [
      "4 bad epochs dropped\n",
      "NOTE: pick_channels() is a legacy function. New code should use inst.pick(...).\n",
      "NOTE: pick_channels() is a legacy function. New code should use inst.pick(...).\n",
      "NOTE: pick_channels() is a legacy function. New code should use inst.pick(...).\n",
      "NOTE: pick_channels() is a legacy function. New code should use inst.pick(...).\n",
      "NOTE: pick_channels() is a legacy function. New code should use inst.pick(...).\n",
      "NOTE: pick_channels() is a legacy function. New code should use inst.pick(...).\n",
      "NOTE: pick_channels() is a legacy function. New code should use inst.pick(...).\n",
      "NOTE: pick_channels() is a legacy function. New code should use inst.pick(...).\n",
      "NOTE: pick_channels() is a legacy function. New code should use inst.pick(...).\n",
      "Extracting EDF parameters from C:\\Users\\juhoffmann\\Desktop\\EEG_BIDS\\EEG_250Hz\\edf\\sub-041_BackwardMask_Preprocessed.edf...\n",
      "EDF file detected\n",
      "Setting channel info structure...\n",
      "Creating raw.info structure...\n",
      "Reading 0 ... 134249  =      0.000 ...   536.996 secs...\n",
      "Used Annotations descriptions: ['New Segment', 'R', 'R128', 'S 50', 'S 60', 'S 70', 'S120', 'S130', 'S140', 'S150', 'S160', 'S170', 'TEND', 'Time 0', 'h_h_strong', 'h_h_weak', 'h_n_strong', 'h_n_weak', 'h_s_strong', 'h_s_weak', 'n_h_strong', 'n_h_weak', 'n_n_strong', 'n_n_weak', 'n_s_strong', 'n_s_weak', 's_h_strong', 's_h_weak', 's_n_strong', 's_n_weak', 's_s_strong', 's_s_weak']\n",
      "Multiple event values for single event times found. Creating new event value to reflect simultaneous events.\n",
      "Not setting metadata\n",
      "758 matching events found\n",
      "Applying baseline correction (mode: mean)\n",
      "0 projection items activated\n",
      "Using data from preloaded Raw for 758 events and 301 original time points ...\n"
     ]
    },
    {
     "name": "stderr",
     "output_type": "stream",
     "text": [
      "C:\\Users\\juhoffmann\\AppData\\Local\\Temp\\ipykernel_9188\\58317019.py:14: RuntimeWarning: Omitted 1937 annotation(s) that were outside data range.\n",
      "  eeg = mne.io.read_raw_edf(i, preload = True)\n",
      "C:\\Users\\juhoffmann\\AppData\\Local\\Temp\\ipykernel_9188\\58317019.py:17: RuntimeWarning: Fiducial point nasion not found, assuming identity unknown to head transformation\n",
      "  eeg.set_montage(montage, match_case=False) #set montage to raw dataset\n",
      "C:\\Users\\juhoffmann\\AppData\\Local\\Temp\\ipykernel_9188\\58317019.py:17: RuntimeWarning: Not setting position of 1 ecg channel found in montage:\n",
      "['ECG']\n",
      "Consider setting the channel types to be of EEG/sEEG/ECoG/DBS/fNIRS using inst.set_channel_types before calling inst.set_montage, or omit these channels when creating your montage.\n",
      "  eeg.set_montage(montage, match_case=False) #set montage to raw dataset\n"
     ]
    },
    {
     "name": "stdout",
     "output_type": "stream",
     "text": [
      "1 bad epochs dropped\n",
      "NOTE: pick_channels() is a legacy function. New code should use inst.pick(...).\n",
      "NOTE: pick_channels() is a legacy function. New code should use inst.pick(...).\n",
      "NOTE: pick_channels() is a legacy function. New code should use inst.pick(...).\n",
      "NOTE: pick_channels() is a legacy function. New code should use inst.pick(...).\n",
      "NOTE: pick_channels() is a legacy function. New code should use inst.pick(...).\n",
      "NOTE: pick_channels() is a legacy function. New code should use inst.pick(...).\n",
      "NOTE: pick_channels() is a legacy function. New code should use inst.pick(...).\n",
      "NOTE: pick_channels() is a legacy function. New code should use inst.pick(...).\n",
      "NOTE: pick_channels() is a legacy function. New code should use inst.pick(...).\n",
      "Extracting EDF parameters from C:\\Users\\juhoffmann\\Desktop\\EEG_BIDS\\EEG_250Hz\\edf\\sub-042_BackwardMask_Preprocessed.edf...\n",
      "EDF file detected\n",
      "Setting channel info structure...\n",
      "Creating raw.info structure...\n",
      "Reading 0 ... 95624  =      0.000 ...   382.496 secs...\n",
      "Used Annotations descriptions: ['New Segment', 'R', 'R128', 'S 50', 'S 60', 'S 70', 'S120', 'S130', 'S140', 'S150', 'S160', 'S170', 'TEND', 'TPEAK', 'Time 0', 'h_h_strong', 'h_h_weak', 'h_n_strong', 'h_n_weak', 'h_s_strong', 'h_s_weak', 'n_h_strong', 'n_h_weak', 'n_n_strong', 'n_n_weak', 'n_s_strong', 'n_s_weak', 's_h_strong', 's_h_weak', 's_n_strong', 's_n_weak', 's_s_strong', 's_s_weak']\n",
      "Multiple event values for single event times found. Creating new event value to reflect simultaneous events.\n",
      "Not setting metadata\n",
      "574 matching events found\n",
      "Applying baseline correction (mode: mean)\n",
      "0 projection items activated\n",
      "Using data from preloaded Raw for 574 events and 301 original time points ...\n",
      "8 bad epochs dropped\n"
     ]
    },
    {
     "name": "stderr",
     "output_type": "stream",
     "text": [
      "C:\\Users\\juhoffmann\\AppData\\Local\\Temp\\ipykernel_9188\\58317019.py:14: RuntimeWarning: Omitted 1280 annotation(s) that were outside data range.\n",
      "  eeg = mne.io.read_raw_edf(i, preload = True)\n",
      "C:\\Users\\juhoffmann\\AppData\\Local\\Temp\\ipykernel_9188\\58317019.py:17: RuntimeWarning: Fiducial point nasion not found, assuming identity unknown to head transformation\n",
      "  eeg.set_montage(montage, match_case=False) #set montage to raw dataset\n",
      "C:\\Users\\juhoffmann\\AppData\\Local\\Temp\\ipykernel_9188\\58317019.py:17: RuntimeWarning: Not setting position of 1 ecg channel found in montage:\n",
      "['ECG']\n",
      "Consider setting the channel types to be of EEG/sEEG/ECoG/DBS/fNIRS using inst.set_channel_types before calling inst.set_montage, or omit these channels when creating your montage.\n",
      "  eeg.set_montage(montage, match_case=False) #set montage to raw dataset\n"
     ]
    },
    {
     "name": "stdout",
     "output_type": "stream",
     "text": [
      "NOTE: pick_channels() is a legacy function. New code should use inst.pick(...).\n",
      "NOTE: pick_channels() is a legacy function. New code should use inst.pick(...).\n",
      "NOTE: pick_channels() is a legacy function. New code should use inst.pick(...).\n",
      "NOTE: pick_channels() is a legacy function. New code should use inst.pick(...).\n",
      "NOTE: pick_channels() is a legacy function. New code should use inst.pick(...).\n",
      "NOTE: pick_channels() is a legacy function. New code should use inst.pick(...).\n",
      "NOTE: pick_channels() is a legacy function. New code should use inst.pick(...).\n",
      "NOTE: pick_channels() is a legacy function. New code should use inst.pick(...).\n",
      "NOTE: pick_channels() is a legacy function. New code should use inst.pick(...).\n",
      "Extracting EDF parameters from C:\\Users\\juhoffmann\\Desktop\\EEG_BIDS\\EEG_250Hz\\edf\\sub-043_BackwardMask_Preprocessed.edf...\n",
      "EDF file detected\n",
      "Setting channel info structure...\n",
      "Creating raw.info structure...\n",
      "Reading 0 ... 132374  =      0.000 ...   529.496 secs...\n",
      "Used Annotations descriptions: ['New Segment', 'R', 'R128', 'S 50', 'S 60', 'S 70', 'S120', 'S130', 'S140', 'S150', 'S160', 'S170', 'Time 0', 'h_h_strong', 'h_h_weak', 'h_n_strong', 'h_n_weak', 'h_s_strong', 'h_s_weak', 'n_h_strong', 'n_h_weak', 'n_n_strong', 'n_n_weak', 'n_s_strong', 'n_s_weak', 's_h_strong', 's_h_weak', 's_n_strong', 's_n_weak', 's_s_strong', 's_s_weak']\n",
      "Multiple event values for single event times found. Creating new event value to reflect simultaneous events.\n",
      "Not setting metadata\n",
      "709 matching events found\n",
      "Applying baseline correction (mode: mean)\n",
      "0 projection items activated\n",
      "Using data from preloaded Raw for 709 events and 301 original time points ...\n"
     ]
    },
    {
     "name": "stderr",
     "output_type": "stream",
     "text": [
      "C:\\Users\\juhoffmann\\AppData\\Local\\Temp\\ipykernel_9188\\58317019.py:14: RuntimeWarning: Omitted 1820 annotation(s) that were outside data range.\n",
      "  eeg = mne.io.read_raw_edf(i, preload = True)\n",
      "C:\\Users\\juhoffmann\\AppData\\Local\\Temp\\ipykernel_9188\\58317019.py:17: RuntimeWarning: Fiducial point nasion not found, assuming identity unknown to head transformation\n",
      "  eeg.set_montage(montage, match_case=False) #set montage to raw dataset\n",
      "C:\\Users\\juhoffmann\\AppData\\Local\\Temp\\ipykernel_9188\\58317019.py:17: RuntimeWarning: Not setting position of 1 ecg channel found in montage:\n",
      "['ECG']\n",
      "Consider setting the channel types to be of EEG/sEEG/ECoG/DBS/fNIRS using inst.set_channel_types before calling inst.set_montage, or omit these channels when creating your montage.\n",
      "  eeg.set_montage(montage, match_case=False) #set montage to raw dataset\n"
     ]
    },
    {
     "name": "stdout",
     "output_type": "stream",
     "text": [
      "4 bad epochs dropped\n",
      "NOTE: pick_channels() is a legacy function. New code should use inst.pick(...).\n",
      "NOTE: pick_channels() is a legacy function. New code should use inst.pick(...).\n",
      "NOTE: pick_channels() is a legacy function. New code should use inst.pick(...).\n",
      "NOTE: pick_channels() is a legacy function. New code should use inst.pick(...).\n",
      "NOTE: pick_channels() is a legacy function. New code should use inst.pick(...).\n",
      "NOTE: pick_channels() is a legacy function. New code should use inst.pick(...).\n",
      "NOTE: pick_channels() is a legacy function. New code should use inst.pick(...).\n",
      "NOTE: pick_channels() is a legacy function. New code should use inst.pick(...).\n",
      "NOTE: pick_channels() is a legacy function. New code should use inst.pick(...).\n",
      "Extracting EDF parameters from C:\\Users\\juhoffmann\\Desktop\\EEG_BIDS\\EEG_250Hz\\edf\\sub-044_BackwardMask_Preprocessed.edf...\n",
      "EDF file detected\n",
      "Setting channel info structure...\n",
      "Creating raw.info structure...\n",
      "Reading 0 ... 130874  =      0.000 ...   523.496 secs...\n",
      "Used Annotations descriptions: ['New Segment', 'R', 'R128', 'S 50', 'S 60', 'S 70', 'S120', 'S130', 'S140', 'S150', 'S160', 'S170', 'Time 0', 'h_h_strong', 'h_h_weak', 'h_n_strong', 'h_n_weak', 'h_s_strong', 'h_s_weak', 'n_h_strong', 'n_h_weak', 'n_n_strong', 'n_n_weak', 'n_s_strong', 'n_s_weak', 's_h_strong', 's_h_weak', 's_n_strong', 's_n_weak', 's_s_strong', 's_s_weak']\n",
      "Multiple event values for single event times found. Creating new event value to reflect simultaneous events.\n",
      "Not setting metadata\n",
      "732 matching events found\n",
      "Applying baseline correction (mode: mean)\n",
      "0 projection items activated\n",
      "Using data from preloaded Raw for 732 events and 301 original time points ...\n"
     ]
    },
    {
     "name": "stderr",
     "output_type": "stream",
     "text": [
      "C:\\Users\\juhoffmann\\AppData\\Local\\Temp\\ipykernel_9188\\58317019.py:14: RuntimeWarning: Omitted 1979 annotation(s) that were outside data range.\n",
      "  eeg = mne.io.read_raw_edf(i, preload = True)\n",
      "C:\\Users\\juhoffmann\\AppData\\Local\\Temp\\ipykernel_9188\\58317019.py:17: RuntimeWarning: Fiducial point nasion not found, assuming identity unknown to head transformation\n",
      "  eeg.set_montage(montage, match_case=False) #set montage to raw dataset\n",
      "C:\\Users\\juhoffmann\\AppData\\Local\\Temp\\ipykernel_9188\\58317019.py:17: RuntimeWarning: Not setting position of 1 ecg channel found in montage:\n",
      "['ECG']\n",
      "Consider setting the channel types to be of EEG/sEEG/ECoG/DBS/fNIRS using inst.set_channel_types before calling inst.set_montage, or omit these channels when creating your montage.\n",
      "  eeg.set_montage(montage, match_case=False) #set montage to raw dataset\n"
     ]
    },
    {
     "name": "stdout",
     "output_type": "stream",
     "text": [
      "3 bad epochs dropped\n",
      "NOTE: pick_channels() is a legacy function. New code should use inst.pick(...).\n",
      "NOTE: pick_channels() is a legacy function. New code should use inst.pick(...).\n",
      "NOTE: pick_channels() is a legacy function. New code should use inst.pick(...).\n",
      "NOTE: pick_channels() is a legacy function. New code should use inst.pick(...).\n",
      "NOTE: pick_channels() is a legacy function. New code should use inst.pick(...).\n",
      "NOTE: pick_channels() is a legacy function. New code should use inst.pick(...).\n",
      "NOTE: pick_channels() is a legacy function. New code should use inst.pick(...).\n",
      "NOTE: pick_channels() is a legacy function. New code should use inst.pick(...).\n",
      "NOTE: pick_channels() is a legacy function. New code should use inst.pick(...).\n",
      "Extracting EDF parameters from C:\\Users\\juhoffmann\\Desktop\\EEG_BIDS\\EEG_250Hz\\edf\\sub-045_BackwardMask_Preprocessed.edf...\n",
      "EDF file detected\n",
      "Setting channel info structure...\n",
      "Creating raw.info structure...\n",
      "Reading 0 ... 134999  =      0.000 ...   539.996 secs...\n",
      "Used Annotations descriptions: ['New Segment', 'R', 'R128', 'S 50', 'S 60', 'S 70', 'S120', 'S130', 'S140', 'S150', 'S160', 'S170', 'Time 0', 'h_h_strong', 'h_h_weak', 'h_n_strong', 'h_n_weak', 'h_s_strong', 'h_s_weak', 'n_h_strong', 'n_h_weak', 'n_n_strong', 'n_n_weak', 'n_s_strong', 'n_s_weak', 's_h_strong', 's_h_weak', 's_n_strong', 's_n_weak', 's_s_strong', 's_s_weak']\n",
      "Multiple event values for single event times found. Creating new event value to reflect simultaneous events.\n",
      "Not setting metadata\n",
      "922 matching events found\n",
      "Applying baseline correction (mode: mean)\n",
      "0 projection items activated\n",
      "Using data from preloaded Raw for 922 events and 301 original time points ...\n"
     ]
    },
    {
     "name": "stderr",
     "output_type": "stream",
     "text": [
      "C:\\Users\\juhoffmann\\AppData\\Local\\Temp\\ipykernel_9188\\58317019.py:14: RuntimeWarning: Omitted 2088 annotation(s) that were outside data range.\n",
      "  eeg = mne.io.read_raw_edf(i, preload = True)\n",
      "C:\\Users\\juhoffmann\\AppData\\Local\\Temp\\ipykernel_9188\\58317019.py:17: RuntimeWarning: Fiducial point nasion not found, assuming identity unknown to head transformation\n",
      "  eeg.set_montage(montage, match_case=False) #set montage to raw dataset\n",
      "C:\\Users\\juhoffmann\\AppData\\Local\\Temp\\ipykernel_9188\\58317019.py:17: RuntimeWarning: Not setting position of 1 ecg channel found in montage:\n",
      "['ECG']\n",
      "Consider setting the channel types to be of EEG/sEEG/ECoG/DBS/fNIRS using inst.set_channel_types before calling inst.set_montage, or omit these channels when creating your montage.\n",
      "  eeg.set_montage(montage, match_case=False) #set montage to raw dataset\n"
     ]
    },
    {
     "name": "stdout",
     "output_type": "stream",
     "text": [
      "3 bad epochs dropped\n",
      "NOTE: pick_channels() is a legacy function. New code should use inst.pick(...).\n",
      "NOTE: pick_channels() is a legacy function. New code should use inst.pick(...).\n",
      "NOTE: pick_channels() is a legacy function. New code should use inst.pick(...).\n",
      "NOTE: pick_channels() is a legacy function. New code should use inst.pick(...).\n",
      "NOTE: pick_channels() is a legacy function. New code should use inst.pick(...).\n",
      "NOTE: pick_channels() is a legacy function. New code should use inst.pick(...).\n",
      "NOTE: pick_channels() is a legacy function. New code should use inst.pick(...).\n",
      "NOTE: pick_channels() is a legacy function. New code should use inst.pick(...).\n",
      "NOTE: pick_channels() is a legacy function. New code should use inst.pick(...).\n",
      "Extracting EDF parameters from C:\\Users\\juhoffmann\\Desktop\\EEG_BIDS\\EEG_250Hz\\edf\\sub-046_BackwardMask_Preprocessed.edf...\n",
      "EDF file detected\n",
      "Setting channel info structure...\n",
      "Creating raw.info structure...\n",
      "Reading 0 ... 132749  =      0.000 ...   530.996 secs...\n",
      "Used Annotations descriptions: ['New Segment', 'R', 'R128', 'S 50', 'S 60', 'S 70', 'S120', 'S130', 'S140', 'S150', 'S160', 'S170', 'Time 0', 'h_h_strong', 'h_h_weak', 'h_n_strong', 'h_n_weak', 'h_s_strong', 'h_s_weak', 'n_h_strong', 'n_h_weak', 'n_n_strong', 'n_n_weak', 'n_s_strong', 'n_s_weak', 's_h_strong', 's_h_weak', 's_n_strong', 's_n_weak', 's_s_strong', 's_s_weak']\n",
      "Multiple event values for single event times found. Creating new event value to reflect simultaneous events.\n",
      "Not setting metadata\n",
      "818 matching events found\n",
      "Applying baseline correction (mode: mean)\n",
      "0 projection items activated\n",
      "Using data from preloaded Raw for 818 events and 301 original time points ...\n"
     ]
    },
    {
     "name": "stderr",
     "output_type": "stream",
     "text": [
      "C:\\Users\\juhoffmann\\AppData\\Local\\Temp\\ipykernel_9188\\58317019.py:14: RuntimeWarning: Omitted 2033 annotation(s) that were outside data range.\n",
      "  eeg = mne.io.read_raw_edf(i, preload = True)\n",
      "C:\\Users\\juhoffmann\\AppData\\Local\\Temp\\ipykernel_9188\\58317019.py:17: RuntimeWarning: Fiducial point nasion not found, assuming identity unknown to head transformation\n",
      "  eeg.set_montage(montage, match_case=False) #set montage to raw dataset\n",
      "C:\\Users\\juhoffmann\\AppData\\Local\\Temp\\ipykernel_9188\\58317019.py:17: RuntimeWarning: Not setting position of 1 ecg channel found in montage:\n",
      "['ECG']\n",
      "Consider setting the channel types to be of EEG/sEEG/ECoG/DBS/fNIRS using inst.set_channel_types before calling inst.set_montage, or omit these channels when creating your montage.\n",
      "  eeg.set_montage(montage, match_case=False) #set montage to raw dataset\n"
     ]
    },
    {
     "name": "stdout",
     "output_type": "stream",
     "text": [
      "5 bad epochs dropped\n",
      "NOTE: pick_channels() is a legacy function. New code should use inst.pick(...).\n",
      "NOTE: pick_channels() is a legacy function. New code should use inst.pick(...).\n",
      "NOTE: pick_channels() is a legacy function. New code should use inst.pick(...).\n",
      "NOTE: pick_channels() is a legacy function. New code should use inst.pick(...).\n",
      "NOTE: pick_channels() is a legacy function. New code should use inst.pick(...).\n",
      "NOTE: pick_channels() is a legacy function. New code should use inst.pick(...).\n",
      "NOTE: pick_channels() is a legacy function. New code should use inst.pick(...).\n",
      "NOTE: pick_channels() is a legacy function. New code should use inst.pick(...).\n",
      "NOTE: pick_channels() is a legacy function. New code should use inst.pick(...).\n",
      "Extracting EDF parameters from C:\\Users\\juhoffmann\\Desktop\\EEG_BIDS\\EEG_250Hz\\edf\\sub-047_BackwardMask_Preprocessed.edf...\n",
      "EDF file detected\n",
      "Setting channel info structure...\n",
      "Creating raw.info structure...\n",
      "Reading 0 ... 133124  =      0.000 ...   532.496 secs...\n",
      "Used Annotations descriptions: ['New Segment', 'R', 'R128', 'S 50', 'S 60', 'S 70', 'S120', 'S130', 'S140', 'S150', 'S160', 'S170', 'TEND', 'TPEAK', 'TSTART', 'Time 0', 'h_h_strong', 'h_h_weak', 'h_n_strong', 'h_n_weak', 'h_s_strong', 'h_s_weak', 'n_h_strong', 'n_h_weak', 'n_n_strong', 'n_n_weak', 'n_s_strong', 'n_s_weak', 's_h_strong', 's_h_weak', 's_n_strong', 's_n_weak', 's_s_strong', 's_s_weak']\n",
      "Multiple event values for single event times found. Creating new event value to reflect simultaneous events.\n",
      "Not setting metadata\n",
      "808 matching events found\n",
      "Applying baseline correction (mode: mean)\n",
      "0 projection items activated\n",
      "Using data from preloaded Raw for 808 events and 301 original time points ...\n"
     ]
    },
    {
     "name": "stderr",
     "output_type": "stream",
     "text": [
      "C:\\Users\\juhoffmann\\AppData\\Local\\Temp\\ipykernel_9188\\58317019.py:14: RuntimeWarning: Omitted 2060 annotation(s) that were outside data range.\n",
      "  eeg = mne.io.read_raw_edf(i, preload = True)\n",
      "C:\\Users\\juhoffmann\\AppData\\Local\\Temp\\ipykernel_9188\\58317019.py:17: RuntimeWarning: Fiducial point nasion not found, assuming identity unknown to head transformation\n",
      "  eeg.set_montage(montage, match_case=False) #set montage to raw dataset\n",
      "C:\\Users\\juhoffmann\\AppData\\Local\\Temp\\ipykernel_9188\\58317019.py:17: RuntimeWarning: Not setting position of 1 ecg channel found in montage:\n",
      "['ECG']\n",
      "Consider setting the channel types to be of EEG/sEEG/ECoG/DBS/fNIRS using inst.set_channel_types before calling inst.set_montage, or omit these channels when creating your montage.\n",
      "  eeg.set_montage(montage, match_case=False) #set montage to raw dataset\n"
     ]
    },
    {
     "name": "stdout",
     "output_type": "stream",
     "text": [
      "3 bad epochs dropped\n",
      "NOTE: pick_channels() is a legacy function. New code should use inst.pick(...).\n",
      "NOTE: pick_channels() is a legacy function. New code should use inst.pick(...).\n",
      "NOTE: pick_channels() is a legacy function. New code should use inst.pick(...).\n",
      "NOTE: pick_channels() is a legacy function. New code should use inst.pick(...).\n",
      "NOTE: pick_channels() is a legacy function. New code should use inst.pick(...).\n",
      "NOTE: pick_channels() is a legacy function. New code should use inst.pick(...).\n",
      "NOTE: pick_channels() is a legacy function. New code should use inst.pick(...).\n",
      "NOTE: pick_channels() is a legacy function. New code should use inst.pick(...).\n",
      "NOTE: pick_channels() is a legacy function. New code should use inst.pick(...).\n",
      "Extracting EDF parameters from C:\\Users\\juhoffmann\\Desktop\\EEG_BIDS\\EEG_250Hz\\edf\\sub-049_BackwardMask_Preprocessed.edf...\n",
      "EDF file detected\n",
      "Setting channel info structure...\n",
      "Creating raw.info structure...\n",
      "Reading 0 ... 134999  =      0.000 ...   539.996 secs...\n",
      "Used Annotations descriptions: ['New Segment', 'R', 'R128', 'S 50', 'S 60', 'S 70', 'S120', 'S130', 'S140', 'S150', 'S160', 'S170', 'TEND', 'TPEAK', 'TSTART', 'Time 0', 'h_h_strong', 'h_h_weak', 'h_n_strong', 'h_n_weak', 'h_s_strong', 'h_s_weak', 'n_h_strong', 'n_h_weak', 'n_n_strong', 'n_n_weak', 'n_s_strong', 'n_s_weak', 's_h_strong', 's_h_weak', 's_n_strong', 's_n_weak', 's_s_strong', 's_s_weak']\n",
      "Multiple event values for single event times found. Creating new event value to reflect simultaneous events.\n",
      "Not setting metadata\n",
      "858 matching events found\n",
      "Applying baseline correction (mode: mean)\n",
      "0 projection items activated\n",
      "Using data from preloaded Raw for 858 events and 301 original time points ...\n"
     ]
    },
    {
     "name": "stderr",
     "output_type": "stream",
     "text": [
      "C:\\Users\\juhoffmann\\AppData\\Local\\Temp\\ipykernel_9188\\58317019.py:14: RuntimeWarning: Omitted 2013 annotation(s) that were outside data range.\n",
      "  eeg = mne.io.read_raw_edf(i, preload = True)\n",
      "C:\\Users\\juhoffmann\\AppData\\Local\\Temp\\ipykernel_9188\\58317019.py:17: RuntimeWarning: Fiducial point nasion not found, assuming identity unknown to head transformation\n",
      "  eeg.set_montage(montage, match_case=False) #set montage to raw dataset\n",
      "C:\\Users\\juhoffmann\\AppData\\Local\\Temp\\ipykernel_9188\\58317019.py:17: RuntimeWarning: Not setting position of 1 ecg channel found in montage:\n",
      "['ECG']\n",
      "Consider setting the channel types to be of EEG/sEEG/ECoG/DBS/fNIRS using inst.set_channel_types before calling inst.set_montage, or omit these channels when creating your montage.\n",
      "  eeg.set_montage(montage, match_case=False) #set montage to raw dataset\n"
     ]
    },
    {
     "name": "stdout",
     "output_type": "stream",
     "text": [
      "1 bad epochs dropped\n",
      "NOTE: pick_channels() is a legacy function. New code should use inst.pick(...).\n",
      "NOTE: pick_channels() is a legacy function. New code should use inst.pick(...).\n",
      "NOTE: pick_channels() is a legacy function. New code should use inst.pick(...).\n",
      "NOTE: pick_channels() is a legacy function. New code should use inst.pick(...).\n",
      "NOTE: pick_channels() is a legacy function. New code should use inst.pick(...).\n",
      "NOTE: pick_channels() is a legacy function. New code should use inst.pick(...).\n",
      "NOTE: pick_channels() is a legacy function. New code should use inst.pick(...).\n",
      "NOTE: pick_channels() is a legacy function. New code should use inst.pick(...).\n",
      "NOTE: pick_channels() is a legacy function. New code should use inst.pick(...).\n",
      "Extracting EDF parameters from C:\\Users\\juhoffmann\\Desktop\\EEG_BIDS\\EEG_250Hz\\edf\\sub-051_BackwardMask_Preprocessed.edf...\n",
      "EDF file detected\n",
      "Setting channel info structure...\n",
      "Creating raw.info structure...\n",
      "Reading 0 ... 133874  =      0.000 ...   535.496 secs...\n",
      "Used Annotations descriptions: ['New Segment', 'R', 'R128', 'S 50', 'S 60', 'S 70', 'S120', 'S130', 'S140', 'S150', 'S160', 'S170', 'Time 0', 'h_h_strong', 'h_h_weak', 'h_n_strong', 'h_n_weak', 'h_s_strong', 'h_s_weak', 'n_h_strong', 'n_h_weak', 'n_n_strong', 'n_n_weak', 'n_s_strong', 'n_s_weak', 's_h_strong', 's_h_weak', 's_n_strong', 's_n_weak', 's_s_strong', 's_s_weak']\n",
      "Multiple event values for single event times found. Creating new event value to reflect simultaneous events.\n",
      "Not setting metadata\n",
      "741 matching events found\n",
      "Applying baseline correction (mode: mean)\n",
      "0 projection items activated\n",
      "Using data from preloaded Raw for 741 events and 301 original time points ...\n"
     ]
    },
    {
     "name": "stderr",
     "output_type": "stream",
     "text": [
      "C:\\Users\\juhoffmann\\AppData\\Local\\Temp\\ipykernel_9188\\58317019.py:14: RuntimeWarning: Omitted 1853 annotation(s) that were outside data range.\n",
      "  eeg = mne.io.read_raw_edf(i, preload = True)\n",
      "C:\\Users\\juhoffmann\\AppData\\Local\\Temp\\ipykernel_9188\\58317019.py:17: RuntimeWarning: Fiducial point nasion not found, assuming identity unknown to head transformation\n",
      "  eeg.set_montage(montage, match_case=False) #set montage to raw dataset\n",
      "C:\\Users\\juhoffmann\\AppData\\Local\\Temp\\ipykernel_9188\\58317019.py:17: RuntimeWarning: Not setting position of 1 ecg channel found in montage:\n",
      "['ECG']\n",
      "Consider setting the channel types to be of EEG/sEEG/ECoG/DBS/fNIRS using inst.set_channel_types before calling inst.set_montage, or omit these channels when creating your montage.\n",
      "  eeg.set_montage(montage, match_case=False) #set montage to raw dataset\n"
     ]
    },
    {
     "name": "stdout",
     "output_type": "stream",
     "text": [
      "1 bad epochs dropped\n",
      "NOTE: pick_channels() is a legacy function. New code should use inst.pick(...).\n",
      "NOTE: pick_channels() is a legacy function. New code should use inst.pick(...).\n",
      "NOTE: pick_channels() is a legacy function. New code should use inst.pick(...).\n",
      "NOTE: pick_channels() is a legacy function. New code should use inst.pick(...).\n",
      "NOTE: pick_channels() is a legacy function. New code should use inst.pick(...).\n",
      "NOTE: pick_channels() is a legacy function. New code should use inst.pick(...).\n",
      "NOTE: pick_channels() is a legacy function. New code should use inst.pick(...).\n",
      "NOTE: pick_channels() is a legacy function. New code should use inst.pick(...).\n",
      "NOTE: pick_channels() is a legacy function. New code should use inst.pick(...).\n",
      "Extracting EDF parameters from C:\\Users\\juhoffmann\\Desktop\\EEG_BIDS\\EEG_250Hz\\edf\\sub-052_BackwardMask_Preprocessed.edf...\n",
      "EDF file detected\n",
      "Setting channel info structure...\n",
      "Creating raw.info structure...\n",
      "Reading 0 ... 132749  =      0.000 ...   530.996 secs...\n",
      "Used Annotations descriptions: ['New Segment', 'R', 'R128', 'S 50', 'S 60', 'S 70', 'S120', 'S130', 'S140', 'S150', 'S160', 'S170', 'TEND', 'Time 0', 'h_h_strong', 'h_h_weak', 'h_n_strong', 'h_n_weak', 'h_s_strong', 'h_s_weak', 'n_h_strong', 'n_h_weak', 'n_n_strong', 'n_n_weak', 'n_s_strong', 'n_s_weak', 's_h_strong', 's_h_weak', 's_n_strong', 's_n_weak', 's_s_strong', 's_s_weak']\n",
      "Multiple event values for single event times found. Creating new event value to reflect simultaneous events.\n",
      "Not setting metadata\n",
      "804 matching events found\n",
      "Applying baseline correction (mode: mean)\n",
      "0 projection items activated\n",
      "Using data from preloaded Raw for 804 events and 301 original time points ...\n"
     ]
    },
    {
     "name": "stderr",
     "output_type": "stream",
     "text": [
      "C:\\Users\\juhoffmann\\AppData\\Local\\Temp\\ipykernel_9188\\58317019.py:14: RuntimeWarning: Omitted 1935 annotation(s) that were outside data range.\n",
      "  eeg = mne.io.read_raw_edf(i, preload = True)\n",
      "C:\\Users\\juhoffmann\\AppData\\Local\\Temp\\ipykernel_9188\\58317019.py:17: RuntimeWarning: Fiducial point nasion not found, assuming identity unknown to head transformation\n",
      "  eeg.set_montage(montage, match_case=False) #set montage to raw dataset\n",
      "C:\\Users\\juhoffmann\\AppData\\Local\\Temp\\ipykernel_9188\\58317019.py:17: RuntimeWarning: Not setting position of 1 ecg channel found in montage:\n",
      "['ECG']\n",
      "Consider setting the channel types to be of EEG/sEEG/ECoG/DBS/fNIRS using inst.set_channel_types before calling inst.set_montage, or omit these channels when creating your montage.\n",
      "  eeg.set_montage(montage, match_case=False) #set montage to raw dataset\n"
     ]
    },
    {
     "name": "stdout",
     "output_type": "stream",
     "text": [
      "5 bad epochs dropped\n",
      "NOTE: pick_channels() is a legacy function. New code should use inst.pick(...).\n",
      "NOTE: pick_channels() is a legacy function. New code should use inst.pick(...).\n",
      "NOTE: pick_channels() is a legacy function. New code should use inst.pick(...).\n",
      "NOTE: pick_channels() is a legacy function. New code should use inst.pick(...).\n",
      "NOTE: pick_channels() is a legacy function. New code should use inst.pick(...).\n",
      "NOTE: pick_channels() is a legacy function. New code should use inst.pick(...).\n",
      "NOTE: pick_channels() is a legacy function. New code should use inst.pick(...).\n",
      "NOTE: pick_channels() is a legacy function. New code should use inst.pick(...).\n",
      "NOTE: pick_channels() is a legacy function. New code should use inst.pick(...).\n",
      "Extracting EDF parameters from C:\\Users\\juhoffmann\\Desktop\\EEG_BIDS\\EEG_250Hz\\edf\\sub-053_BackwardMask_Preprocessed.edf...\n",
      "EDF file detected\n",
      "Setting channel info structure...\n",
      "Creating raw.info structure...\n",
      "Reading 0 ... 122999  =      0.000 ...   491.996 secs...\n",
      "Used Annotations descriptions: ['New Segment', 'R', 'R128', 'S 50', 'S 60', 'S 70', 'S120', 'S130', 'S140', 'S150', 'S160', 'S170', 'TEND', 'TPEAK', 'Time 0', 'h_h_strong', 'h_h_weak', 'h_n_strong', 'h_n_weak', 'h_s_strong', 'h_s_weak', 'n_h_strong', 'n_h_weak', 'n_n_strong', 'n_n_weak', 'n_s_strong', 'n_s_weak', 's_h_strong', 's_h_weak', 's_n_strong', 's_n_weak', 's_s_strong', 's_s_weak']\n",
      "Multiple event values for single event times found. Creating new event value to reflect simultaneous events.\n",
      "Not setting metadata\n",
      "714 matching events found\n",
      "Applying baseline correction (mode: mean)\n",
      "0 projection items activated\n",
      "Using data from preloaded Raw for 714 events and 301 original time points ...\n"
     ]
    },
    {
     "name": "stderr",
     "output_type": "stream",
     "text": [
      "C:\\Users\\juhoffmann\\AppData\\Local\\Temp\\ipykernel_9188\\58317019.py:14: RuntimeWarning: Omitted 1876 annotation(s) that were outside data range.\n",
      "  eeg = mne.io.read_raw_edf(i, preload = True)\n",
      "C:\\Users\\juhoffmann\\AppData\\Local\\Temp\\ipykernel_9188\\58317019.py:17: RuntimeWarning: Fiducial point nasion not found, assuming identity unknown to head transformation\n",
      "  eeg.set_montage(montage, match_case=False) #set montage to raw dataset\n",
      "C:\\Users\\juhoffmann\\AppData\\Local\\Temp\\ipykernel_9188\\58317019.py:17: RuntimeWarning: Not setting position of 1 ecg channel found in montage:\n",
      "['ECG']\n",
      "Consider setting the channel types to be of EEG/sEEG/ECoG/DBS/fNIRS using inst.set_channel_types before calling inst.set_montage, or omit these channels when creating your montage.\n",
      "  eeg.set_montage(montage, match_case=False) #set montage to raw dataset\n"
     ]
    },
    {
     "name": "stdout",
     "output_type": "stream",
     "text": [
      "2 bad epochs dropped\n",
      "NOTE: pick_channels() is a legacy function. New code should use inst.pick(...).\n",
      "NOTE: pick_channels() is a legacy function. New code should use inst.pick(...).\n",
      "NOTE: pick_channels() is a legacy function. New code should use inst.pick(...).\n",
      "NOTE: pick_channels() is a legacy function. New code should use inst.pick(...).\n",
      "NOTE: pick_channels() is a legacy function. New code should use inst.pick(...).\n",
      "NOTE: pick_channels() is a legacy function. New code should use inst.pick(...).\n",
      "NOTE: pick_channels() is a legacy function. New code should use inst.pick(...).\n",
      "NOTE: pick_channels() is a legacy function. New code should use inst.pick(...).\n",
      "NOTE: pick_channels() is a legacy function. New code should use inst.pick(...).\n",
      "Extracting EDF parameters from C:\\Users\\juhoffmann\\Desktop\\EEG_BIDS\\EEG_250Hz\\edf\\sub-054_BackwardMask_Preprocessed.edf...\n",
      "EDF file detected\n",
      "Setting channel info structure...\n",
      "Creating raw.info structure...\n",
      "Reading 0 ... 134624  =      0.000 ...   538.496 secs...\n",
      "Used Annotations descriptions: ['New Segment', 'R', 'R128', 'S 50', 'S 60', 'S 70', 'S120', 'S130', 'S140', 'S150', 'S160', 'S170', 'TEND', 'TPEAK', 'TSTART', 'Time 0', 'h_h_strong', 'h_h_weak', 'h_n_strong', 'h_n_weak', 'h_s_strong', 'h_s_weak', 'n_h_strong', 'n_h_weak', 'n_n_strong', 'n_n_weak', 'n_s_strong', 'n_s_weak', 's_h_strong', 's_h_weak', 's_n_strong', 's_n_weak', 's_s_strong', 's_s_weak']\n",
      "Multiple event values for single event times found. Creating new event value to reflect simultaneous events.\n",
      "Not setting metadata\n",
      "852 matching events found\n",
      "Applying baseline correction (mode: mean)\n",
      "0 projection items activated\n",
      "Using data from preloaded Raw for 852 events and 301 original time points ...\n"
     ]
    },
    {
     "name": "stderr",
     "output_type": "stream",
     "text": [
      "C:\\Users\\juhoffmann\\AppData\\Local\\Temp\\ipykernel_9188\\58317019.py:14: RuntimeWarning: Omitted 1938 annotation(s) that were outside data range.\n",
      "  eeg = mne.io.read_raw_edf(i, preload = True)\n",
      "C:\\Users\\juhoffmann\\AppData\\Local\\Temp\\ipykernel_9188\\58317019.py:17: RuntimeWarning: Fiducial point nasion not found, assuming identity unknown to head transformation\n",
      "  eeg.set_montage(montage, match_case=False) #set montage to raw dataset\n",
      "C:\\Users\\juhoffmann\\AppData\\Local\\Temp\\ipykernel_9188\\58317019.py:17: RuntimeWarning: Not setting position of 1 ecg channel found in montage:\n",
      "['ECG']\n",
      "Consider setting the channel types to be of EEG/sEEG/ECoG/DBS/fNIRS using inst.set_channel_types before calling inst.set_montage, or omit these channels when creating your montage.\n",
      "  eeg.set_montage(montage, match_case=False) #set montage to raw dataset\n"
     ]
    },
    {
     "name": "stdout",
     "output_type": "stream",
     "text": [
      "2 bad epochs dropped\n",
      "NOTE: pick_channels() is a legacy function. New code should use inst.pick(...).\n",
      "NOTE: pick_channels() is a legacy function. New code should use inst.pick(...).\n",
      "NOTE: pick_channels() is a legacy function. New code should use inst.pick(...).\n",
      "NOTE: pick_channels() is a legacy function. New code should use inst.pick(...).\n",
      "NOTE: pick_channels() is a legacy function. New code should use inst.pick(...).\n",
      "NOTE: pick_channels() is a legacy function. New code should use inst.pick(...).\n",
      "NOTE: pick_channels() is a legacy function. New code should use inst.pick(...).\n",
      "NOTE: pick_channels() is a legacy function. New code should use inst.pick(...).\n",
      "NOTE: pick_channels() is a legacy function. New code should use inst.pick(...).\n",
      "Extracting EDF parameters from C:\\Users\\juhoffmann\\Desktop\\EEG_BIDS\\EEG_250Hz\\edf\\sub-056_BackwardMask_Preprocessed.edf...\n",
      "EDF file detected\n",
      "Setting channel info structure...\n",
      "Creating raw.info structure...\n",
      "Reading 0 ... 124499  =      0.000 ...   497.996 secs...\n",
      "Used Annotations descriptions: ['New Segment', 'R', 'R128', 'S 50', 'S 60', 'S 70', 'S120', 'S130', 'S140', 'S150', 'S160', 'S170', 'Time 0', 'h_h_strong', 'h_h_weak', 'h_n_strong', 'h_n_weak', 'h_s_strong', 'h_s_weak', 'n_h_strong', 'n_h_weak', 'n_n_strong', 'n_n_weak', 'n_s_strong', 'n_s_weak', 's_h_strong', 's_h_weak', 's_n_strong', 's_n_weak', 's_s_strong', 's_s_weak']\n",
      "Multiple event values for single event times found. Creating new event value to reflect simultaneous events.\n",
      "Not setting metadata\n",
      "747 matching events found\n",
      "Applying baseline correction (mode: mean)\n",
      "0 projection items activated\n",
      "Using data from preloaded Raw for 747 events and 301 original time points ...\n"
     ]
    },
    {
     "name": "stderr",
     "output_type": "stream",
     "text": [
      "C:\\Users\\juhoffmann\\AppData\\Local\\Temp\\ipykernel_9188\\58317019.py:14: RuntimeWarning: Omitted 1775 annotation(s) that were outside data range.\n",
      "  eeg = mne.io.read_raw_edf(i, preload = True)\n",
      "C:\\Users\\juhoffmann\\AppData\\Local\\Temp\\ipykernel_9188\\58317019.py:17: RuntimeWarning: Fiducial point nasion not found, assuming identity unknown to head transformation\n",
      "  eeg.set_montage(montage, match_case=False) #set montage to raw dataset\n",
      "C:\\Users\\juhoffmann\\AppData\\Local\\Temp\\ipykernel_9188\\58317019.py:17: RuntimeWarning: Not setting position of 1 ecg channel found in montage:\n",
      "['ECG']\n",
      "Consider setting the channel types to be of EEG/sEEG/ECoG/DBS/fNIRS using inst.set_channel_types before calling inst.set_montage, or omit these channels when creating your montage.\n",
      "  eeg.set_montage(montage, match_case=False) #set montage to raw dataset\n"
     ]
    },
    {
     "name": "stdout",
     "output_type": "stream",
     "text": [
      "1 bad epochs dropped\n",
      "NOTE: pick_channels() is a legacy function. New code should use inst.pick(...).\n",
      "NOTE: pick_channels() is a legacy function. New code should use inst.pick(...).\n",
      "NOTE: pick_channels() is a legacy function. New code should use inst.pick(...).\n",
      "NOTE: pick_channels() is a legacy function. New code should use inst.pick(...).\n",
      "NOTE: pick_channels() is a legacy function. New code should use inst.pick(...).\n",
      "NOTE: pick_channels() is a legacy function. New code should use inst.pick(...).\n",
      "NOTE: pick_channels() is a legacy function. New code should use inst.pick(...).\n",
      "NOTE: pick_channels() is a legacy function. New code should use inst.pick(...).\n",
      "NOTE: pick_channels() is a legacy function. New code should use inst.pick(...).\n",
      "Extracting EDF parameters from C:\\Users\\juhoffmann\\Desktop\\EEG_BIDS\\EEG_250Hz\\edf\\sub-057_BackwardMask_Preprocessed.edf...\n",
      "EDF file detected\n",
      "Setting channel info structure...\n",
      "Creating raw.info structure...\n",
      "Reading 0 ... 133124  =      0.000 ...   532.496 secs...\n",
      "Used Annotations descriptions: ['New Segment', 'R', 'R128', 'S 50', 'S 60', 'S 70', 'S120', 'S130', 'S140', 'S150', 'S160', 'S170', 'Time 0', 'h_h_strong', 'h_h_weak', 'h_n_strong', 'h_n_weak', 'h_s_strong', 'h_s_weak', 'n_h_strong', 'n_h_weak', 'n_n_strong', 'n_n_weak', 'n_s_strong', 'n_s_weak', 's_h_strong', 's_h_weak', 's_n_strong', 's_n_weak', 's_s_strong', 's_s_weak']\n",
      "Multiple event values for single event times found. Creating new event value to reflect simultaneous events.\n",
      "Not setting metadata\n",
      "784 matching events found\n",
      "Applying baseline correction (mode: mean)\n",
      "0 projection items activated\n",
      "Using data from preloaded Raw for 784 events and 301 original time points ...\n"
     ]
    },
    {
     "name": "stderr",
     "output_type": "stream",
     "text": [
      "C:\\Users\\juhoffmann\\AppData\\Local\\Temp\\ipykernel_9188\\58317019.py:14: RuntimeWarning: Omitted 1936 annotation(s) that were outside data range.\n",
      "  eeg = mne.io.read_raw_edf(i, preload = True)\n",
      "C:\\Users\\juhoffmann\\AppData\\Local\\Temp\\ipykernel_9188\\58317019.py:17: RuntimeWarning: Fiducial point nasion not found, assuming identity unknown to head transformation\n",
      "  eeg.set_montage(montage, match_case=False) #set montage to raw dataset\n",
      "C:\\Users\\juhoffmann\\AppData\\Local\\Temp\\ipykernel_9188\\58317019.py:17: RuntimeWarning: Not setting position of 1 ecg channel found in montage:\n",
      "['ECG']\n",
      "Consider setting the channel types to be of EEG/sEEG/ECoG/DBS/fNIRS using inst.set_channel_types before calling inst.set_montage, or omit these channels when creating your montage.\n",
      "  eeg.set_montage(montage, match_case=False) #set montage to raw dataset\n"
     ]
    },
    {
     "name": "stdout",
     "output_type": "stream",
     "text": [
      "1 bad epochs dropped\n",
      "NOTE: pick_channels() is a legacy function. New code should use inst.pick(...).\n",
      "NOTE: pick_channels() is a legacy function. New code should use inst.pick(...).\n",
      "NOTE: pick_channels() is a legacy function. New code should use inst.pick(...).\n",
      "NOTE: pick_channels() is a legacy function. New code should use inst.pick(...).\n",
      "NOTE: pick_channels() is a legacy function. New code should use inst.pick(...).\n",
      "NOTE: pick_channels() is a legacy function. New code should use inst.pick(...).\n",
      "NOTE: pick_channels() is a legacy function. New code should use inst.pick(...).\n",
      "NOTE: pick_channels() is a legacy function. New code should use inst.pick(...).\n",
      "NOTE: pick_channels() is a legacy function. New code should use inst.pick(...).\n",
      "Extracting EDF parameters from C:\\Users\\juhoffmann\\Desktop\\EEG_BIDS\\EEG_250Hz\\edf\\sub-059_BackwardMask_Preprocessed.edf...\n",
      "EDF file detected\n",
      "Setting channel info structure...\n",
      "Creating raw.info structure...\n",
      "Reading 0 ... 131624  =      0.000 ...   526.496 secs...\n",
      "Used Annotations descriptions: ['New Segment', 'R', 'R128', 'S 50', 'S 60', 'S 70', 'S120', 'S130', 'S140', 'S150', 'S160', 'S170', 'TPEAK', 'TSTART', 'Time 0', 'h_h_strong', 'h_h_weak', 'h_n_strong', 'h_n_weak', 'h_s_strong', 'h_s_weak', 'n_h_strong', 'n_h_weak', 'n_n_strong', 'n_n_weak', 'n_s_strong', 'n_s_weak', 's_h_strong', 's_h_weak', 's_n_strong', 's_n_weak', 's_s_strong', 's_s_weak']\n",
      "Multiple event values for single event times found. Creating new event value to reflect simultaneous events.\n",
      "Not setting metadata\n",
      "779 matching events found\n",
      "Applying baseline correction (mode: mean)\n",
      "0 projection items activated\n",
      "Using data from preloaded Raw for 779 events and 301 original time points ...\n"
     ]
    },
    {
     "name": "stderr",
     "output_type": "stream",
     "text": [
      "C:\\Users\\juhoffmann\\AppData\\Local\\Temp\\ipykernel_9188\\58317019.py:14: RuntimeWarning: Omitted 1933 annotation(s) that were outside data range.\n",
      "  eeg = mne.io.read_raw_edf(i, preload = True)\n",
      "C:\\Users\\juhoffmann\\AppData\\Local\\Temp\\ipykernel_9188\\58317019.py:17: RuntimeWarning: Fiducial point nasion not found, assuming identity unknown to head transformation\n",
      "  eeg.set_montage(montage, match_case=False) #set montage to raw dataset\n",
      "C:\\Users\\juhoffmann\\AppData\\Local\\Temp\\ipykernel_9188\\58317019.py:17: RuntimeWarning: Not setting position of 1 ecg channel found in montage:\n",
      "['ECG']\n",
      "Consider setting the channel types to be of EEG/sEEG/ECoG/DBS/fNIRS using inst.set_channel_types before calling inst.set_montage, or omit these channels when creating your montage.\n",
      "  eeg.set_montage(montage, match_case=False) #set montage to raw dataset\n"
     ]
    },
    {
     "name": "stdout",
     "output_type": "stream",
     "text": [
      "3 bad epochs dropped\n",
      "NOTE: pick_channels() is a legacy function. New code should use inst.pick(...).\n",
      "NOTE: pick_channels() is a legacy function. New code should use inst.pick(...).\n",
      "NOTE: pick_channels() is a legacy function. New code should use inst.pick(...).\n",
      "NOTE: pick_channels() is a legacy function. New code should use inst.pick(...).\n",
      "NOTE: pick_channels() is a legacy function. New code should use inst.pick(...).\n",
      "NOTE: pick_channels() is a legacy function. New code should use inst.pick(...).\n",
      "NOTE: pick_channels() is a legacy function. New code should use inst.pick(...).\n",
      "NOTE: pick_channels() is a legacy function. New code should use inst.pick(...).\n",
      "NOTE: pick_channels() is a legacy function. New code should use inst.pick(...).\n",
      "Extracting EDF parameters from C:\\Users\\juhoffmann\\Desktop\\EEG_BIDS\\EEG_250Hz\\edf\\sub-062_BackwardMask_Preprocessed.edf...\n",
      "EDF file detected\n",
      "Setting channel info structure...\n",
      "Creating raw.info structure...\n",
      "Reading 0 ... 133124  =      0.000 ...   532.496 secs...\n",
      "Used Annotations descriptions: ['New Segment', 'R', 'R128', 'S 50', 'S 60', 'S 70', 'S120', 'S130', 'S140', 'S150', 'S160', 'S170', 'TEND', 'TPEAK', 'TSTART', 'Time 0', 'h_h_strong', 'h_h_weak', 'h_n_strong', 'h_n_weak', 'h_s_strong', 'h_s_weak', 'n_h_strong', 'n_h_weak', 'n_n_strong', 'n_n_weak', 'n_s_strong', 'n_s_weak', 's_h_strong', 's_h_weak', 's_n_strong', 's_n_weak', 's_s_strong', 's_s_weak']\n",
      "Multiple event values for single event times found. Creating new event value to reflect simultaneous events.\n",
      "Not setting metadata\n",
      "769 matching events found\n",
      "Applying baseline correction (mode: mean)\n",
      "0 projection items activated\n",
      "Using data from preloaded Raw for 769 events and 301 original time points ...\n"
     ]
    },
    {
     "name": "stderr",
     "output_type": "stream",
     "text": [
      "C:\\Users\\juhoffmann\\AppData\\Local\\Temp\\ipykernel_9188\\58317019.py:14: RuntimeWarning: Omitted 1887 annotation(s) that were outside data range.\n",
      "  eeg = mne.io.read_raw_edf(i, preload = True)\n",
      "C:\\Users\\juhoffmann\\AppData\\Local\\Temp\\ipykernel_9188\\58317019.py:17: RuntimeWarning: Fiducial point nasion not found, assuming identity unknown to head transformation\n",
      "  eeg.set_montage(montage, match_case=False) #set montage to raw dataset\n",
      "C:\\Users\\juhoffmann\\AppData\\Local\\Temp\\ipykernel_9188\\58317019.py:17: RuntimeWarning: Not setting position of 1 ecg channel found in montage:\n",
      "['ECG']\n",
      "Consider setting the channel types to be of EEG/sEEG/ECoG/DBS/fNIRS using inst.set_channel_types before calling inst.set_montage, or omit these channels when creating your montage.\n",
      "  eeg.set_montage(montage, match_case=False) #set montage to raw dataset\n"
     ]
    },
    {
     "name": "stdout",
     "output_type": "stream",
     "text": [
      "1 bad epochs dropped\n",
      "NOTE: pick_channels() is a legacy function. New code should use inst.pick(...).\n",
      "NOTE: pick_channels() is a legacy function. New code should use inst.pick(...).\n",
      "NOTE: pick_channels() is a legacy function. New code should use inst.pick(...).\n",
      "NOTE: pick_channels() is a legacy function. New code should use inst.pick(...).\n",
      "NOTE: pick_channels() is a legacy function. New code should use inst.pick(...).\n",
      "NOTE: pick_channels() is a legacy function. New code should use inst.pick(...).\n",
      "NOTE: pick_channels() is a legacy function. New code should use inst.pick(...).\n",
      "NOTE: pick_channels() is a legacy function. New code should use inst.pick(...).\n",
      "NOTE: pick_channels() is a legacy function. New code should use inst.pick(...).\n",
      "Extracting EDF parameters from C:\\Users\\juhoffmann\\Desktop\\EEG_BIDS\\EEG_250Hz\\edf\\sub-064_BackwardMask_Preprocessed.edf...\n",
      "EDF file detected\n",
      "Setting channel info structure...\n",
      "Creating raw.info structure...\n",
      "Reading 0 ... 132749  =      0.000 ...   530.996 secs...\n",
      "Used Annotations descriptions: ['New Segment', 'R', 'R128', 'S 50', 'S 60', 'S 70', 'S120', 'S130', 'S140', 'S150', 'S160', 'S170', 'TEND', 'TPEAK', 'TSTART', 'Time 0', 'h_h_strong', 'h_h_weak', 'h_n_strong', 'h_n_weak', 'h_s_strong', 'h_s_weak', 'n_h_strong', 'n_h_weak', 'n_n_strong', 'n_n_weak', 'n_s_strong', 'n_s_weak', 's_h_strong', 's_h_weak', 's_n_strong', 's_n_weak', 's_s_strong', 's_s_weak']\n",
      "Multiple event values for single event times found. Creating new event value to reflect simultaneous events.\n",
      "Not setting metadata\n",
      "793 matching events found\n",
      "Applying baseline correction (mode: mean)\n",
      "0 projection items activated\n",
      "Using data from preloaded Raw for 793 events and 301 original time points ...\n"
     ]
    },
    {
     "name": "stderr",
     "output_type": "stream",
     "text": [
      "C:\\Users\\juhoffmann\\AppData\\Local\\Temp\\ipykernel_9188\\58317019.py:14: RuntimeWarning: Omitted 1944 annotation(s) that were outside data range.\n",
      "  eeg = mne.io.read_raw_edf(i, preload = True)\n",
      "C:\\Users\\juhoffmann\\AppData\\Local\\Temp\\ipykernel_9188\\58317019.py:17: RuntimeWarning: Fiducial point nasion not found, assuming identity unknown to head transformation\n",
      "  eeg.set_montage(montage, match_case=False) #set montage to raw dataset\n",
      "C:\\Users\\juhoffmann\\AppData\\Local\\Temp\\ipykernel_9188\\58317019.py:17: RuntimeWarning: Not setting position of 1 ecg channel found in montage:\n",
      "['ECG']\n",
      "Consider setting the channel types to be of EEG/sEEG/ECoG/DBS/fNIRS using inst.set_channel_types before calling inst.set_montage, or omit these channels when creating your montage.\n",
      "  eeg.set_montage(montage, match_case=False) #set montage to raw dataset\n"
     ]
    },
    {
     "name": "stdout",
     "output_type": "stream",
     "text": [
      "1 bad epochs dropped\n",
      "NOTE: pick_channels() is a legacy function. New code should use inst.pick(...).\n",
      "NOTE: pick_channels() is a legacy function. New code should use inst.pick(...).\n",
      "NOTE: pick_channels() is a legacy function. New code should use inst.pick(...).\n",
      "NOTE: pick_channels() is a legacy function. New code should use inst.pick(...).\n",
      "NOTE: pick_channels() is a legacy function. New code should use inst.pick(...).\n",
      "NOTE: pick_channels() is a legacy function. New code should use inst.pick(...).\n",
      "NOTE: pick_channels() is a legacy function. New code should use inst.pick(...).\n",
      "NOTE: pick_channels() is a legacy function. New code should use inst.pick(...).\n",
      "NOTE: pick_channels() is a legacy function. New code should use inst.pick(...).\n",
      "Extracting EDF parameters from C:\\Users\\juhoffmann\\Desktop\\EEG_BIDS\\EEG_250Hz\\edf\\sub-065_BackwardMask_Preprocessed.edf...\n",
      "EDF file detected\n",
      "Setting channel info structure...\n",
      "Creating raw.info structure...\n",
      "Reading 0 ... 114374  =      0.000 ...   457.496 secs...\n",
      "Used Annotations descriptions: ['New Segment', 'R', 'R128', 'S 50', 'S 60', 'S 70', 'S120', 'S130', 'S140', 'S150', 'S160', 'S170', 'TEND', 'TPEAK', 'TSTART', 'Time 0', 'h_h_strong', 'h_h_weak', 'h_n_strong', 'h_n_weak', 'h_s_strong', 'h_s_weak', 'n_h_strong', 'n_h_weak', 'n_n_strong', 'n_n_weak', 'n_s_strong', 'n_s_weak', 's_h_strong', 's_h_weak', 's_n_strong', 's_n_weak', 's_s_strong', 's_s_weak']\n",
      "Multiple event values for single event times found. Creating new event value to reflect simultaneous events.\n",
      "Not setting metadata\n",
      "639 matching events found\n",
      "Applying baseline correction (mode: mean)\n",
      "0 projection items activated\n",
      "Using data from preloaded Raw for 639 events and 301 original time points ...\n"
     ]
    },
    {
     "name": "stderr",
     "output_type": "stream",
     "text": [
      "C:\\Users\\juhoffmann\\AppData\\Local\\Temp\\ipykernel_9188\\58317019.py:14: RuntimeWarning: Omitted 1585 annotation(s) that were outside data range.\n",
      "  eeg = mne.io.read_raw_edf(i, preload = True)\n",
      "C:\\Users\\juhoffmann\\AppData\\Local\\Temp\\ipykernel_9188\\58317019.py:17: RuntimeWarning: Fiducial point nasion not found, assuming identity unknown to head transformation\n",
      "  eeg.set_montage(montage, match_case=False) #set montage to raw dataset\n",
      "C:\\Users\\juhoffmann\\AppData\\Local\\Temp\\ipykernel_9188\\58317019.py:17: RuntimeWarning: Not setting position of 1 ecg channel found in montage:\n",
      "['ECG']\n",
      "Consider setting the channel types to be of EEG/sEEG/ECoG/DBS/fNIRS using inst.set_channel_types before calling inst.set_montage, or omit these channels when creating your montage.\n",
      "  eeg.set_montage(montage, match_case=False) #set montage to raw dataset\n"
     ]
    },
    {
     "name": "stdout",
     "output_type": "stream",
     "text": [
      "2 bad epochs dropped\n",
      "NOTE: pick_channels() is a legacy function. New code should use inst.pick(...).\n",
      "NOTE: pick_channels() is a legacy function. New code should use inst.pick(...).\n",
      "NOTE: pick_channels() is a legacy function. New code should use inst.pick(...).\n",
      "NOTE: pick_channels() is a legacy function. New code should use inst.pick(...).\n",
      "NOTE: pick_channels() is a legacy function. New code should use inst.pick(...).\n",
      "NOTE: pick_channels() is a legacy function. New code should use inst.pick(...).\n",
      "NOTE: pick_channels() is a legacy function. New code should use inst.pick(...).\n",
      "NOTE: pick_channels() is a legacy function. New code should use inst.pick(...).\n",
      "NOTE: pick_channels() is a legacy function. New code should use inst.pick(...).\n",
      "Extracting EDF parameters from C:\\Users\\juhoffmann\\Desktop\\EEG_BIDS\\EEG_250Hz\\edf\\sub-066_BackwardMask_Preprocessed.edf...\n",
      "EDF file detected\n",
      "Setting channel info structure...\n",
      "Creating raw.info structure...\n",
      "Reading 0 ... 118874  =      0.000 ...   475.496 secs...\n",
      "Used Annotations descriptions: ['New Segment', 'R', 'R128', 'S 50', 'S 60', 'S 70', 'S120', 'S130', 'S140', 'S150', 'S160', 'S170', 'TEND', 'Time 0', 'h_h_strong', 'h_h_weak', 'h_n_strong', 'h_n_weak', 'h_s_strong', 'h_s_weak', 'n_h_strong', 'n_h_weak', 'n_n_strong', 'n_n_weak', 'n_s_strong', 'n_s_weak', 's_h_strong', 's_h_weak', 's_n_strong', 's_n_weak', 's_s_strong', 's_s_weak']\n",
      "Multiple event values for single event times found. Creating new event value to reflect simultaneous events.\n",
      "Not setting metadata\n",
      "674 matching events found\n",
      "Applying baseline correction (mode: mean)\n",
      "0 projection items activated\n",
      "Using data from preloaded Raw for 674 events and 301 original time points ...\n",
      "4 bad epochs dropped\n"
     ]
    },
    {
     "name": "stderr",
     "output_type": "stream",
     "text": [
      "C:\\Users\\juhoffmann\\AppData\\Local\\Temp\\ipykernel_9188\\58317019.py:14: RuntimeWarning: Omitted 1717 annotation(s) that were outside data range.\n",
      "  eeg = mne.io.read_raw_edf(i, preload = True)\n",
      "C:\\Users\\juhoffmann\\AppData\\Local\\Temp\\ipykernel_9188\\58317019.py:17: RuntimeWarning: Fiducial point nasion not found, assuming identity unknown to head transformation\n",
      "  eeg.set_montage(montage, match_case=False) #set montage to raw dataset\n",
      "C:\\Users\\juhoffmann\\AppData\\Local\\Temp\\ipykernel_9188\\58317019.py:17: RuntimeWarning: Not setting position of 1 ecg channel found in montage:\n",
      "['ECG']\n",
      "Consider setting the channel types to be of EEG/sEEG/ECoG/DBS/fNIRS using inst.set_channel_types before calling inst.set_montage, or omit these channels when creating your montage.\n",
      "  eeg.set_montage(montage, match_case=False) #set montage to raw dataset\n"
     ]
    },
    {
     "name": "stdout",
     "output_type": "stream",
     "text": [
      "NOTE: pick_channels() is a legacy function. New code should use inst.pick(...).\n",
      "NOTE: pick_channels() is a legacy function. New code should use inst.pick(...).\n",
      "NOTE: pick_channels() is a legacy function. New code should use inst.pick(...).\n",
      "NOTE: pick_channels() is a legacy function. New code should use inst.pick(...).\n",
      "NOTE: pick_channels() is a legacy function. New code should use inst.pick(...).\n",
      "NOTE: pick_channels() is a legacy function. New code should use inst.pick(...).\n",
      "NOTE: pick_channels() is a legacy function. New code should use inst.pick(...).\n",
      "NOTE: pick_channels() is a legacy function. New code should use inst.pick(...).\n",
      "NOTE: pick_channels() is a legacy function. New code should use inst.pick(...).\n",
      "Extracting EDF parameters from C:\\Users\\juhoffmann\\Desktop\\EEG_BIDS\\EEG_250Hz\\edf\\sub-068_BackwardMask_Preprocessed.edf...\n",
      "EDF file detected\n",
      "Setting channel info structure...\n",
      "Creating raw.info structure...\n",
      "Reading 0 ... 117749  =      0.000 ...   470.996 secs...\n",
      "Used Annotations descriptions: ['New Segment', 'R', 'R128', 'S 50', 'S 60', 'S 70', 'S120', 'S130', 'S140', 'S150', 'S160', 'S170', 'Time 0', 'h_h_strong', 'h_h_weak', 'h_n_strong', 'h_n_weak', 'h_s_strong', 'h_s_weak', 'n_h_strong', 'n_h_weak', 'n_n_strong', 'n_n_weak', 'n_s_strong', 'n_s_weak', 's_h_strong', 's_h_weak', 's_n_strong', 's_n_weak', 's_s_strong', 's_s_weak']\n",
      "Multiple event values for single event times found. Creating new event value to reflect simultaneous events.\n",
      "Not setting metadata\n",
      "683 matching events found\n",
      "Applying baseline correction (mode: mean)\n",
      "0 projection items activated\n",
      "Using data from preloaded Raw for 683 events and 301 original time points ...\n"
     ]
    },
    {
     "name": "stderr",
     "output_type": "stream",
     "text": [
      "C:\\Users\\juhoffmann\\AppData\\Local\\Temp\\ipykernel_9188\\58317019.py:14: RuntimeWarning: Omitted 1630 annotation(s) that were outside data range.\n",
      "  eeg = mne.io.read_raw_edf(i, preload = True)\n",
      "C:\\Users\\juhoffmann\\AppData\\Local\\Temp\\ipykernel_9188\\58317019.py:17: RuntimeWarning: Fiducial point nasion not found, assuming identity unknown to head transformation\n",
      "  eeg.set_montage(montage, match_case=False) #set montage to raw dataset\n",
      "C:\\Users\\juhoffmann\\AppData\\Local\\Temp\\ipykernel_9188\\58317019.py:17: RuntimeWarning: Not setting position of 1 ecg channel found in montage:\n",
      "['ECG']\n",
      "Consider setting the channel types to be of EEG/sEEG/ECoG/DBS/fNIRS using inst.set_channel_types before calling inst.set_montage, or omit these channels when creating your montage.\n",
      "  eeg.set_montage(montage, match_case=False) #set montage to raw dataset\n"
     ]
    },
    {
     "name": "stdout",
     "output_type": "stream",
     "text": [
      "6 bad epochs dropped\n",
      "NOTE: pick_channels() is a legacy function. New code should use inst.pick(...).\n",
      "NOTE: pick_channels() is a legacy function. New code should use inst.pick(...).\n",
      "NOTE: pick_channels() is a legacy function. New code should use inst.pick(...).\n",
      "NOTE: pick_channels() is a legacy function. New code should use inst.pick(...).\n",
      "NOTE: pick_channels() is a legacy function. New code should use inst.pick(...).\n",
      "NOTE: pick_channels() is a legacy function. New code should use inst.pick(...).\n",
      "NOTE: pick_channels() is a legacy function. New code should use inst.pick(...).\n",
      "NOTE: pick_channels() is a legacy function. New code should use inst.pick(...).\n",
      "NOTE: pick_channels() is a legacy function. New code should use inst.pick(...).\n",
      "Extracting EDF parameters from C:\\Users\\juhoffmann\\Desktop\\EEG_BIDS\\EEG_250Hz\\edf\\sub-069_BackwardMask_Preprocessed.edf...\n",
      "EDF file detected\n",
      "Setting channel info structure...\n",
      "Creating raw.info structure...\n",
      "Reading 0 ... 112499  =      0.000 ...   449.996 secs...\n",
      "Used Annotations descriptions: ['New Segment', 'R', 'R128', 'S 50', 'S 60', 'S 70', 'S120', 'S130', 'S140', 'S150', 'S160', 'S170', 'Time 0', 'h_h_strong', 'h_h_weak', 'h_n_strong', 'h_n_weak', 'h_s_strong', 'h_s_weak', 'n_h_strong', 'n_h_weak', 'n_n_strong', 'n_n_weak', 'n_s_strong', 'n_s_weak', 's_h_strong', 's_h_weak', 's_n_strong', 's_n_weak', 's_s_strong', 's_s_weak']\n",
      "Multiple event values for single event times found. Creating new event value to reflect simultaneous events.\n",
      "Not setting metadata\n",
      "593 matching events found\n",
      "Applying baseline correction (mode: mean)\n",
      "0 projection items activated\n",
      "Using data from preloaded Raw for 593 events and 301 original time points ...\n",
      "2 bad epochs dropped\n"
     ]
    },
    {
     "name": "stderr",
     "output_type": "stream",
     "text": [
      "C:\\Users\\juhoffmann\\AppData\\Local\\Temp\\ipykernel_9188\\58317019.py:14: RuntimeWarning: Omitted 1724 annotation(s) that were outside data range.\n",
      "  eeg = mne.io.read_raw_edf(i, preload = True)\n",
      "C:\\Users\\juhoffmann\\AppData\\Local\\Temp\\ipykernel_9188\\58317019.py:17: RuntimeWarning: Fiducial point nasion not found, assuming identity unknown to head transformation\n",
      "  eeg.set_montage(montage, match_case=False) #set montage to raw dataset\n",
      "C:\\Users\\juhoffmann\\AppData\\Local\\Temp\\ipykernel_9188\\58317019.py:17: RuntimeWarning: Not setting position of 1 ecg channel found in montage:\n",
      "['ECG']\n",
      "Consider setting the channel types to be of EEG/sEEG/ECoG/DBS/fNIRS using inst.set_channel_types before calling inst.set_montage, or omit these channels when creating your montage.\n",
      "  eeg.set_montage(montage, match_case=False) #set montage to raw dataset\n"
     ]
    },
    {
     "name": "stdout",
     "output_type": "stream",
     "text": [
      "NOTE: pick_channels() is a legacy function. New code should use inst.pick(...).\n",
      "NOTE: pick_channels() is a legacy function. New code should use inst.pick(...).\n",
      "NOTE: pick_channels() is a legacy function. New code should use inst.pick(...).\n",
      "NOTE: pick_channels() is a legacy function. New code should use inst.pick(...).\n",
      "NOTE: pick_channels() is a legacy function. New code should use inst.pick(...).\n",
      "NOTE: pick_channels() is a legacy function. New code should use inst.pick(...).\n",
      "NOTE: pick_channels() is a legacy function. New code should use inst.pick(...).\n",
      "NOTE: pick_channels() is a legacy function. New code should use inst.pick(...).\n",
      "NOTE: pick_channels() is a legacy function. New code should use inst.pick(...).\n",
      "Extracting EDF parameters from C:\\Users\\juhoffmann\\Desktop\\EEG_BIDS\\EEG_250Hz\\edf\\sub-070_BackwardMask_Preprocessed.edf...\n",
      "EDF file detected\n",
      "Setting channel info structure...\n",
      "Creating raw.info structure...\n",
      "Reading 0 ... 134249  =      0.000 ...   536.996 secs...\n",
      "Used Annotations descriptions: ['New Segment', 'R', 'R128', 'S 50', 'S 60', 'S 70', 'S120', 'S130', 'S140', 'S150', 'S160', 'S170', 'TEND', 'TPEAK', 'TSTART', 'Time 0', 'h_h_strong', 'h_h_weak', 'h_n_strong', 'h_n_weak', 'h_s_strong', 'h_s_weak', 'n_h_strong', 'n_h_weak', 'n_n_strong', 'n_n_weak', 'n_s_strong', 'n_s_weak', 's_h_strong', 's_h_weak', 's_n_strong', 's_n_weak', 's_s_strong', 's_s_weak']\n",
      "Multiple event values for single event times found. Creating new event value to reflect simultaneous events.\n",
      "Not setting metadata\n",
      "823 matching events found\n",
      "Applying baseline correction (mode: mean)\n",
      "0 projection items activated\n",
      "Using data from preloaded Raw for 823 events and 301 original time points ...\n"
     ]
    },
    {
     "name": "stderr",
     "output_type": "stream",
     "text": [
      "C:\\Users\\juhoffmann\\AppData\\Local\\Temp\\ipykernel_9188\\58317019.py:14: RuntimeWarning: Omitted 1968 annotation(s) that were outside data range.\n",
      "  eeg = mne.io.read_raw_edf(i, preload = True)\n",
      "C:\\Users\\juhoffmann\\AppData\\Local\\Temp\\ipykernel_9188\\58317019.py:17: RuntimeWarning: Fiducial point nasion not found, assuming identity unknown to head transformation\n",
      "  eeg.set_montage(montage, match_case=False) #set montage to raw dataset\n",
      "C:\\Users\\juhoffmann\\AppData\\Local\\Temp\\ipykernel_9188\\58317019.py:17: RuntimeWarning: Not setting position of 1 ecg channel found in montage:\n",
      "['ECG']\n",
      "Consider setting the channel types to be of EEG/sEEG/ECoG/DBS/fNIRS using inst.set_channel_types before calling inst.set_montage, or omit these channels when creating your montage.\n",
      "  eeg.set_montage(montage, match_case=False) #set montage to raw dataset\n"
     ]
    },
    {
     "name": "stdout",
     "output_type": "stream",
     "text": [
      "1 bad epochs dropped\n",
      "NOTE: pick_channels() is a legacy function. New code should use inst.pick(...).\n",
      "NOTE: pick_channels() is a legacy function. New code should use inst.pick(...).\n",
      "NOTE: pick_channels() is a legacy function. New code should use inst.pick(...).\n",
      "NOTE: pick_channels() is a legacy function. New code should use inst.pick(...).\n",
      "NOTE: pick_channels() is a legacy function. New code should use inst.pick(...).\n",
      "NOTE: pick_channels() is a legacy function. New code should use inst.pick(...).\n",
      "NOTE: pick_channels() is a legacy function. New code should use inst.pick(...).\n",
      "NOTE: pick_channels() is a legacy function. New code should use inst.pick(...).\n",
      "NOTE: pick_channels() is a legacy function. New code should use inst.pick(...).\n",
      "Extracting EDF parameters from C:\\Users\\juhoffmann\\Desktop\\EEG_BIDS\\EEG_250Hz\\edf\\sub-071_BackwardMask_Preprocessed.edf...\n",
      "EDF file detected\n",
      "Setting channel info structure...\n",
      "Creating raw.info structure...\n",
      "Reading 0 ... 130499  =      0.000 ...   521.996 secs...\n",
      "Used Annotations descriptions: ['New Segment', 'R', 'R128', 'S 50', 'S 60', 'S 70', 'S120', 'S130', 'S140', 'S150', 'S160', 'S170', 'TEND', 'TPEAK', 'Time 0', 'h_h_strong', 'h_h_weak', 'h_n_strong', 'h_n_weak', 'h_s_strong', 'h_s_weak', 'n_h_strong', 'n_h_weak', 'n_n_strong', 'n_n_weak', 'n_s_strong', 'n_s_weak', 's_h_strong', 's_h_weak', 's_n_strong', 's_n_weak', 's_s_strong', 's_s_weak']\n",
      "Multiple event values for single event times found. Creating new event value to reflect simultaneous events.\n",
      "Not setting metadata\n",
      "776 matching events found\n",
      "Applying baseline correction (mode: mean)\n",
      "0 projection items activated\n",
      "Using data from preloaded Raw for 776 events and 301 original time points ...\n"
     ]
    },
    {
     "name": "stderr",
     "output_type": "stream",
     "text": [
      "C:\\Users\\juhoffmann\\AppData\\Local\\Temp\\ipykernel_9188\\58317019.py:14: RuntimeWarning: Omitted 1881 annotation(s) that were outside data range.\n",
      "  eeg = mne.io.read_raw_edf(i, preload = True)\n",
      "C:\\Users\\juhoffmann\\AppData\\Local\\Temp\\ipykernel_9188\\58317019.py:17: RuntimeWarning: Fiducial point nasion not found, assuming identity unknown to head transformation\n",
      "  eeg.set_montage(montage, match_case=False) #set montage to raw dataset\n",
      "C:\\Users\\juhoffmann\\AppData\\Local\\Temp\\ipykernel_9188\\58317019.py:17: RuntimeWarning: Not setting position of 1 ecg channel found in montage:\n",
      "['ECG']\n",
      "Consider setting the channel types to be of EEG/sEEG/ECoG/DBS/fNIRS using inst.set_channel_types before calling inst.set_montage, or omit these channels when creating your montage.\n",
      "  eeg.set_montage(montage, match_case=False) #set montage to raw dataset\n"
     ]
    },
    {
     "name": "stdout",
     "output_type": "stream",
     "text": [
      "1 bad epochs dropped\n",
      "NOTE: pick_channels() is a legacy function. New code should use inst.pick(...).\n",
      "NOTE: pick_channels() is a legacy function. New code should use inst.pick(...).\n",
      "NOTE: pick_channels() is a legacy function. New code should use inst.pick(...).\n",
      "NOTE: pick_channels() is a legacy function. New code should use inst.pick(...).\n",
      "NOTE: pick_channels() is a legacy function. New code should use inst.pick(...).\n",
      "NOTE: pick_channels() is a legacy function. New code should use inst.pick(...).\n",
      "NOTE: pick_channels() is a legacy function. New code should use inst.pick(...).\n",
      "NOTE: pick_channels() is a legacy function. New code should use inst.pick(...).\n",
      "NOTE: pick_channels() is a legacy function. New code should use inst.pick(...).\n",
      "Extracting EDF parameters from C:\\Users\\juhoffmann\\Desktop\\EEG_BIDS\\EEG_250Hz\\edf\\sub-072_BackwardMask_Preprocessed.edf...\n",
      "EDF file detected\n",
      "Setting channel info structure...\n",
      "Creating raw.info structure...\n",
      "Reading 0 ... 132374  =      0.000 ...   529.496 secs...\n",
      "Used Annotations descriptions: ['New Segment', 'R', 'R128', 'S 50', 'S 60', 'S 70', 'S120', 'S130', 'S140', 'S150', 'S160', 'S170', 'Time 0', 'h_h_strong', 'h_h_weak', 'h_n_strong', 'h_n_weak', 'h_s_strong', 'h_s_weak', 'n_h_strong', 'n_h_weak', 'n_n_strong', 'n_n_weak', 'n_s_strong', 'n_s_weak', 's_h_strong', 's_h_weak', 's_n_strong', 's_n_weak', 's_s_strong', 's_s_weak']\n",
      "Multiple event values for single event times found. Creating new event value to reflect simultaneous events.\n",
      "Not setting metadata\n",
      "880 matching events found\n",
      "Applying baseline correction (mode: mean)\n",
      "0 projection items activated\n",
      "Using data from preloaded Raw for 880 events and 301 original time points ...\n"
     ]
    },
    {
     "name": "stderr",
     "output_type": "stream",
     "text": [
      "C:\\Users\\juhoffmann\\AppData\\Local\\Temp\\ipykernel_9188\\58317019.py:14: RuntimeWarning: Omitted 2071 annotation(s) that were outside data range.\n",
      "  eeg = mne.io.read_raw_edf(i, preload = True)\n",
      "C:\\Users\\juhoffmann\\AppData\\Local\\Temp\\ipykernel_9188\\58317019.py:17: RuntimeWarning: Fiducial point nasion not found, assuming identity unknown to head transformation\n",
      "  eeg.set_montage(montage, match_case=False) #set montage to raw dataset\n",
      "C:\\Users\\juhoffmann\\AppData\\Local\\Temp\\ipykernel_9188\\58317019.py:17: RuntimeWarning: Not setting position of 1 ecg channel found in montage:\n",
      "['ECG']\n",
      "Consider setting the channel types to be of EEG/sEEG/ECoG/DBS/fNIRS using inst.set_channel_types before calling inst.set_montage, or omit these channels when creating your montage.\n",
      "  eeg.set_montage(montage, match_case=False) #set montage to raw dataset\n"
     ]
    },
    {
     "name": "stdout",
     "output_type": "stream",
     "text": [
      "2 bad epochs dropped\n",
      "NOTE: pick_channels() is a legacy function. New code should use inst.pick(...).\n",
      "NOTE: pick_channels() is a legacy function. New code should use inst.pick(...).\n",
      "NOTE: pick_channels() is a legacy function. New code should use inst.pick(...).\n",
      "NOTE: pick_channels() is a legacy function. New code should use inst.pick(...).\n",
      "NOTE: pick_channels() is a legacy function. New code should use inst.pick(...).\n",
      "NOTE: pick_channels() is a legacy function. New code should use inst.pick(...).\n",
      "NOTE: pick_channels() is a legacy function. New code should use inst.pick(...).\n",
      "NOTE: pick_channels() is a legacy function. New code should use inst.pick(...).\n",
      "NOTE: pick_channels() is a legacy function. New code should use inst.pick(...).\n",
      "Extracting EDF parameters from C:\\Users\\juhoffmann\\Desktop\\EEG_BIDS\\EEG_250Hz\\edf\\sub-073_BackwardMask_Preprocessed.edf...\n",
      "EDF file detected\n",
      "Setting channel info structure...\n",
      "Creating raw.info structure...\n",
      "Reading 0 ... 127499  =      0.000 ...   509.996 secs...\n",
      "Used Annotations descriptions: ['New Segment', 'R', 'R128', 'S 50', 'S 60', 'S 70', 'S120', 'S130', 'S140', 'S150', 'S160', 'S170', 'Time 0', 'h_h_strong', 'h_h_weak', 'h_n_strong', 'h_n_weak', 'h_s_strong', 'h_s_weak', 'n_h_strong', 'n_h_weak', 'n_n_strong', 'n_n_weak', 'n_s_strong', 'n_s_weak', 's_h_strong', 's_h_weak', 's_n_strong', 's_n_weak', 's_s_strong', 's_s_weak']\n",
      "Multiple event values for single event times found. Creating new event value to reflect simultaneous events.\n",
      "Not setting metadata\n",
      "695 matching events found\n",
      "Applying baseline correction (mode: mean)\n",
      "0 projection items activated\n",
      "Using data from preloaded Raw for 695 events and 301 original time points ...\n",
      "1 bad epochs dropped\n"
     ]
    },
    {
     "name": "stderr",
     "output_type": "stream",
     "text": [
      "C:\\Users\\juhoffmann\\AppData\\Local\\Temp\\ipykernel_9188\\58317019.py:14: RuntimeWarning: Omitted 1857 annotation(s) that were outside data range.\n",
      "  eeg = mne.io.read_raw_edf(i, preload = True)\n",
      "C:\\Users\\juhoffmann\\AppData\\Local\\Temp\\ipykernel_9188\\58317019.py:17: RuntimeWarning: Fiducial point nasion not found, assuming identity unknown to head transformation\n",
      "  eeg.set_montage(montage, match_case=False) #set montage to raw dataset\n",
      "C:\\Users\\juhoffmann\\AppData\\Local\\Temp\\ipykernel_9188\\58317019.py:17: RuntimeWarning: Not setting position of 1 ecg channel found in montage:\n",
      "['ECG']\n",
      "Consider setting the channel types to be of EEG/sEEG/ECoG/DBS/fNIRS using inst.set_channel_types before calling inst.set_montage, or omit these channels when creating your montage.\n",
      "  eeg.set_montage(montage, match_case=False) #set montage to raw dataset\n"
     ]
    },
    {
     "name": "stdout",
     "output_type": "stream",
     "text": [
      "NOTE: pick_channels() is a legacy function. New code should use inst.pick(...).\n",
      "NOTE: pick_channels() is a legacy function. New code should use inst.pick(...).\n",
      "NOTE: pick_channels() is a legacy function. New code should use inst.pick(...).\n",
      "NOTE: pick_channels() is a legacy function. New code should use inst.pick(...).\n",
      "NOTE: pick_channels() is a legacy function. New code should use inst.pick(...).\n",
      "NOTE: pick_channels() is a legacy function. New code should use inst.pick(...).\n",
      "NOTE: pick_channels() is a legacy function. New code should use inst.pick(...).\n",
      "NOTE: pick_channels() is a legacy function. New code should use inst.pick(...).\n",
      "NOTE: pick_channels() is a legacy function. New code should use inst.pick(...).\n",
      "Extracting EDF parameters from C:\\Users\\juhoffmann\\Desktop\\EEG_BIDS\\EEG_250Hz\\edf\\sub-074_BackwardMask_Preprocessed.edf...\n",
      "EDF file detected\n",
      "Setting channel info structure...\n",
      "Creating raw.info structure...\n",
      "Reading 0 ... 131999  =      0.000 ...   527.996 secs...\n",
      "Used Annotations descriptions: ['New Segment', 'R', 'R128', 'S 50', 'S 60', 'S 70', 'S120', 'S130', 'S140', 'S150', 'S160', 'S170', 'TPEAK', 'TSTART', 'Time 0', 'h_h_strong', 'h_h_weak', 'h_n_strong', 'h_n_weak', 'h_s_strong', 'h_s_weak', 'n_h_strong', 'n_h_weak', 'n_n_strong', 'n_n_weak', 'n_s_strong', 'n_s_weak', 's_h_strong', 's_h_weak', 's_n_strong', 's_n_weak', 's_s_strong', 's_s_weak']\n",
      "Multiple event values for single event times found. Creating new event value to reflect simultaneous events.\n",
      "Not setting metadata\n",
      "779 matching events found\n",
      "Applying baseline correction (mode: mean)\n",
      "0 projection items activated\n",
      "Using data from preloaded Raw for 779 events and 301 original time points ...\n"
     ]
    },
    {
     "name": "stderr",
     "output_type": "stream",
     "text": [
      "C:\\Users\\juhoffmann\\AppData\\Local\\Temp\\ipykernel_9188\\58317019.py:14: RuntimeWarning: Omitted 1941 annotation(s) that were outside data range.\n",
      "  eeg = mne.io.read_raw_edf(i, preload = True)\n",
      "C:\\Users\\juhoffmann\\AppData\\Local\\Temp\\ipykernel_9188\\58317019.py:17: RuntimeWarning: Fiducial point nasion not found, assuming identity unknown to head transformation\n",
      "  eeg.set_montage(montage, match_case=False) #set montage to raw dataset\n",
      "C:\\Users\\juhoffmann\\AppData\\Local\\Temp\\ipykernel_9188\\58317019.py:17: RuntimeWarning: Not setting position of 1 ecg channel found in montage:\n",
      "['ECG']\n",
      "Consider setting the channel types to be of EEG/sEEG/ECoG/DBS/fNIRS using inst.set_channel_types before calling inst.set_montage, or omit these channels when creating your montage.\n",
      "  eeg.set_montage(montage, match_case=False) #set montage to raw dataset\n"
     ]
    },
    {
     "name": "stdout",
     "output_type": "stream",
     "text": [
      "4 bad epochs dropped\n",
      "NOTE: pick_channels() is a legacy function. New code should use inst.pick(...).\n",
      "NOTE: pick_channels() is a legacy function. New code should use inst.pick(...).\n",
      "NOTE: pick_channels() is a legacy function. New code should use inst.pick(...).\n",
      "NOTE: pick_channels() is a legacy function. New code should use inst.pick(...).\n",
      "NOTE: pick_channels() is a legacy function. New code should use inst.pick(...).\n",
      "NOTE: pick_channels() is a legacy function. New code should use inst.pick(...).\n",
      "NOTE: pick_channels() is a legacy function. New code should use inst.pick(...).\n",
      "NOTE: pick_channels() is a legacy function. New code should use inst.pick(...).\n",
      "NOTE: pick_channels() is a legacy function. New code should use inst.pick(...).\n",
      "Extracting EDF parameters from C:\\Users\\juhoffmann\\Desktop\\EEG_BIDS\\EEG_250Hz\\edf\\sub-075_BackwardMask_Preprocessed.edf...\n",
      "EDF file detected\n",
      "Setting channel info structure...\n",
      "Creating raw.info structure...\n",
      "Reading 0 ... 134624  =      0.000 ...   538.496 secs...\n",
      "Used Annotations descriptions: ['New Segment', 'R', 'R128', 'S 50', 'S 60', 'S 70', 'S120', 'S130', 'S140', 'S150', 'S160', 'S170', 'TEND', 'Time 0', 'h_h_strong', 'h_h_weak', 'h_n_strong', 'h_n_weak', 'h_s_strong', 'h_s_weak', 'n_h_strong', 'n_h_weak', 'n_n_strong', 'n_n_weak', 'n_s_strong', 'n_s_weak', 's_h_strong', 's_h_weak', 's_n_strong', 's_n_weak', 's_s_strong', 's_s_weak']\n",
      "Multiple event values for single event times found. Creating new event value to reflect simultaneous events.\n",
      "Not setting metadata\n",
      "757 matching events found\n",
      "Applying baseline correction (mode: mean)\n",
      "0 projection items activated\n",
      "Using data from preloaded Raw for 757 events and 301 original time points ...\n"
     ]
    },
    {
     "name": "stderr",
     "output_type": "stream",
     "text": [
      "C:\\Users\\juhoffmann\\AppData\\Local\\Temp\\ipykernel_9188\\58317019.py:14: RuntimeWarning: Omitted 1928 annotation(s) that were outside data range.\n",
      "  eeg = mne.io.read_raw_edf(i, preload = True)\n",
      "C:\\Users\\juhoffmann\\AppData\\Local\\Temp\\ipykernel_9188\\58317019.py:17: RuntimeWarning: Fiducial point nasion not found, assuming identity unknown to head transformation\n",
      "  eeg.set_montage(montage, match_case=False) #set montage to raw dataset\n",
      "C:\\Users\\juhoffmann\\AppData\\Local\\Temp\\ipykernel_9188\\58317019.py:17: RuntimeWarning: Not setting position of 1 ecg channel found in montage:\n",
      "['ECG']\n",
      "Consider setting the channel types to be of EEG/sEEG/ECoG/DBS/fNIRS using inst.set_channel_types before calling inst.set_montage, or omit these channels when creating your montage.\n",
      "  eeg.set_montage(montage, match_case=False) #set montage to raw dataset\n"
     ]
    },
    {
     "name": "stdout",
     "output_type": "stream",
     "text": [
      "2 bad epochs dropped\n",
      "NOTE: pick_channels() is a legacy function. New code should use inst.pick(...).\n",
      "NOTE: pick_channels() is a legacy function. New code should use inst.pick(...).\n",
      "NOTE: pick_channels() is a legacy function. New code should use inst.pick(...).\n",
      "NOTE: pick_channels() is a legacy function. New code should use inst.pick(...).\n",
      "NOTE: pick_channels() is a legacy function. New code should use inst.pick(...).\n",
      "NOTE: pick_channels() is a legacy function. New code should use inst.pick(...).\n",
      "NOTE: pick_channels() is a legacy function. New code should use inst.pick(...).\n",
      "NOTE: pick_channels() is a legacy function. New code should use inst.pick(...).\n",
      "NOTE: pick_channels() is a legacy function. New code should use inst.pick(...).\n",
      "Extracting EDF parameters from C:\\Users\\juhoffmann\\Desktop\\EEG_BIDS\\EEG_250Hz\\edf\\sub-076_BackwardMask_Preprocessed.edf...\n",
      "EDF file detected\n",
      "Setting channel info structure...\n",
      "Creating raw.info structure...\n",
      "Reading 0 ... 131624  =      0.000 ...   526.496 secs...\n",
      "Used Annotations descriptions: ['New Segment', 'R', 'R128', 'S 50', 'S 60', 'S 70', 'S120', 'S130', 'S140', 'S150', 'S160', 'S170', 'TEND', 'Time 0', 'h_h_strong', 'h_h_weak', 'h_n_strong', 'h_n_weak', 'h_s_strong', 'h_s_weak', 'n_h_strong', 'n_h_weak', 'n_n_strong', 'n_n_weak', 'n_s_strong', 'n_s_weak', 's_h_strong', 's_h_weak', 's_n_strong', 's_n_weak', 's_s_strong', 's_s_weak']\n",
      "Multiple event values for single event times found. Creating new event value to reflect simultaneous events.\n",
      "Not setting metadata\n",
      "830 matching events found\n",
      "Applying baseline correction (mode: mean)\n",
      "0 projection items activated\n",
      "Using data from preloaded Raw for 830 events and 301 original time points ...\n"
     ]
    },
    {
     "name": "stderr",
     "output_type": "stream",
     "text": [
      "C:\\Users\\juhoffmann\\AppData\\Local\\Temp\\ipykernel_9188\\58317019.py:14: RuntimeWarning: Omitted 1893 annotation(s) that were outside data range.\n",
      "  eeg = mne.io.read_raw_edf(i, preload = True)\n",
      "C:\\Users\\juhoffmann\\AppData\\Local\\Temp\\ipykernel_9188\\58317019.py:17: RuntimeWarning: Fiducial point nasion not found, assuming identity unknown to head transformation\n",
      "  eeg.set_montage(montage, match_case=False) #set montage to raw dataset\n",
      "C:\\Users\\juhoffmann\\AppData\\Local\\Temp\\ipykernel_9188\\58317019.py:17: RuntimeWarning: Not setting position of 1 ecg channel found in montage:\n",
      "['ECG']\n",
      "Consider setting the channel types to be of EEG/sEEG/ECoG/DBS/fNIRS using inst.set_channel_types before calling inst.set_montage, or omit these channels when creating your montage.\n",
      "  eeg.set_montage(montage, match_case=False) #set montage to raw dataset\n"
     ]
    },
    {
     "name": "stdout",
     "output_type": "stream",
     "text": [
      "7 bad epochs dropped\n",
      "NOTE: pick_channels() is a legacy function. New code should use inst.pick(...).\n",
      "NOTE: pick_channels() is a legacy function. New code should use inst.pick(...).\n",
      "NOTE: pick_channels() is a legacy function. New code should use inst.pick(...).\n",
      "NOTE: pick_channels() is a legacy function. New code should use inst.pick(...).\n",
      "NOTE: pick_channels() is a legacy function. New code should use inst.pick(...).\n",
      "NOTE: pick_channels() is a legacy function. New code should use inst.pick(...).\n",
      "NOTE: pick_channels() is a legacy function. New code should use inst.pick(...).\n",
      "NOTE: pick_channels() is a legacy function. New code should use inst.pick(...).\n",
      "NOTE: pick_channels() is a legacy function. New code should use inst.pick(...).\n",
      "Extracting EDF parameters from C:\\Users\\juhoffmann\\Desktop\\EEG_BIDS\\EEG_250Hz\\edf\\sub-077_BackwardMask_Preprocessed.edf...\n",
      "EDF file detected\n",
      "Setting channel info structure...\n",
      "Creating raw.info structure...\n",
      "Reading 0 ... 133499  =      0.000 ...   533.996 secs...\n",
      "Used Annotations descriptions: ['New Segment', 'R', 'R128', 'S 50', 'S 60', 'S 70', 'S120', 'S130', 'S140', 'S150', 'S160', 'S170', 'Time 0', 'h_h_strong', 'h_h_weak', 'h_n_strong', 'h_n_weak', 'h_s_strong', 'h_s_weak', 'n_h_strong', 'n_h_weak', 'n_n_strong', 'n_n_weak', 'n_s_strong', 'n_s_weak', 's_h_strong', 's_h_weak', 's_n_strong', 's_n_weak', 's_s_strong', 's_s_weak']\n",
      "Multiple event values for single event times found. Creating new event value to reflect simultaneous events.\n",
      "Not setting metadata\n",
      "803 matching events found\n",
      "Applying baseline correction (mode: mean)\n",
      "0 projection items activated\n",
      "Using data from preloaded Raw for 803 events and 301 original time points ...\n"
     ]
    },
    {
     "name": "stderr",
     "output_type": "stream",
     "text": [
      "C:\\Users\\juhoffmann\\AppData\\Local\\Temp\\ipykernel_9188\\58317019.py:14: RuntimeWarning: Omitted 1938 annotation(s) that were outside data range.\n",
      "  eeg = mne.io.read_raw_edf(i, preload = True)\n",
      "C:\\Users\\juhoffmann\\AppData\\Local\\Temp\\ipykernel_9188\\58317019.py:17: RuntimeWarning: Fiducial point nasion not found, assuming identity unknown to head transformation\n",
      "  eeg.set_montage(montage, match_case=False) #set montage to raw dataset\n",
      "C:\\Users\\juhoffmann\\AppData\\Local\\Temp\\ipykernel_9188\\58317019.py:17: RuntimeWarning: Not setting position of 1 ecg channel found in montage:\n",
      "['ECG']\n",
      "Consider setting the channel types to be of EEG/sEEG/ECoG/DBS/fNIRS using inst.set_channel_types before calling inst.set_montage, or omit these channels when creating your montage.\n",
      "  eeg.set_montage(montage, match_case=False) #set montage to raw dataset\n"
     ]
    },
    {
     "name": "stdout",
     "output_type": "stream",
     "text": [
      "6 bad epochs dropped\n",
      "NOTE: pick_channels() is a legacy function. New code should use inst.pick(...).\n",
      "NOTE: pick_channels() is a legacy function. New code should use inst.pick(...).\n",
      "NOTE: pick_channels() is a legacy function. New code should use inst.pick(...).\n",
      "NOTE: pick_channels() is a legacy function. New code should use inst.pick(...).\n",
      "NOTE: pick_channels() is a legacy function. New code should use inst.pick(...).\n",
      "NOTE: pick_channels() is a legacy function. New code should use inst.pick(...).\n",
      "NOTE: pick_channels() is a legacy function. New code should use inst.pick(...).\n",
      "NOTE: pick_channels() is a legacy function. New code should use inst.pick(...).\n",
      "NOTE: pick_channels() is a legacy function. New code should use inst.pick(...).\n",
      "Extracting EDF parameters from C:\\Users\\juhoffmann\\Desktop\\EEG_BIDS\\EEG_250Hz\\edf\\sub-078_BackwardMask_Preprocessed.edf...\n",
      "EDF file detected\n",
      "Setting channel info structure...\n",
      "Creating raw.info structure...\n",
      "Reading 0 ... 126374  =      0.000 ...   505.496 secs...\n",
      "Used Annotations descriptions: ['New Segment', 'R', 'R128', 'S 50', 'S 60', 'S 70', 'S120', 'S130', 'S140', 'S150', 'S160', 'S170', 'Time 0', 'h_h_strong', 'h_h_weak', 'h_n_strong', 'h_n_weak', 'h_s_strong', 'h_s_weak', 'n_h_strong', 'n_h_weak', 'n_n_strong', 'n_n_weak', 'n_s_strong', 'n_s_weak', 's_h_strong', 's_h_weak', 's_n_strong', 's_n_weak', 's_s_strong', 's_s_weak']\n",
      "Multiple event values for single event times found. Creating new event value to reflect simultaneous events.\n",
      "Not setting metadata\n",
      "778 matching events found\n",
      "Applying baseline correction (mode: mean)\n",
      "0 projection items activated\n",
      "Using data from preloaded Raw for 778 events and 301 original time points ...\n"
     ]
    },
    {
     "name": "stderr",
     "output_type": "stream",
     "text": [
      "C:\\Users\\juhoffmann\\AppData\\Local\\Temp\\ipykernel_9188\\58317019.py:14: RuntimeWarning: Omitted 1830 annotation(s) that were outside data range.\n",
      "  eeg = mne.io.read_raw_edf(i, preload = True)\n",
      "C:\\Users\\juhoffmann\\AppData\\Local\\Temp\\ipykernel_9188\\58317019.py:17: RuntimeWarning: Fiducial point nasion not found, assuming identity unknown to head transformation\n",
      "  eeg.set_montage(montage, match_case=False) #set montage to raw dataset\n",
      "C:\\Users\\juhoffmann\\AppData\\Local\\Temp\\ipykernel_9188\\58317019.py:17: RuntimeWarning: Not setting position of 1 ecg channel found in montage:\n",
      "['ECG']\n",
      "Consider setting the channel types to be of EEG/sEEG/ECoG/DBS/fNIRS using inst.set_channel_types before calling inst.set_montage, or omit these channels when creating your montage.\n",
      "  eeg.set_montage(montage, match_case=False) #set montage to raw dataset\n"
     ]
    },
    {
     "name": "stdout",
     "output_type": "stream",
     "text": [
      "2 bad epochs dropped\n",
      "NOTE: pick_channels() is a legacy function. New code should use inst.pick(...).\n",
      "NOTE: pick_channels() is a legacy function. New code should use inst.pick(...).\n",
      "NOTE: pick_channels() is a legacy function. New code should use inst.pick(...).\n",
      "NOTE: pick_channels() is a legacy function. New code should use inst.pick(...).\n",
      "NOTE: pick_channels() is a legacy function. New code should use inst.pick(...).\n",
      "NOTE: pick_channels() is a legacy function. New code should use inst.pick(...).\n",
      "NOTE: pick_channels() is a legacy function. New code should use inst.pick(...).\n",
      "NOTE: pick_channels() is a legacy function. New code should use inst.pick(...).\n",
      "NOTE: pick_channels() is a legacy function. New code should use inst.pick(...).\n",
      "Extracting EDF parameters from C:\\Users\\juhoffmann\\Desktop\\EEG_BIDS\\EEG_250Hz\\edf\\sub-079_BackwardMask_Preprocessed.edf...\n",
      "EDF file detected\n",
      "Setting channel info structure...\n",
      "Creating raw.info structure...\n",
      "Reading 0 ... 132374  =      0.000 ...   529.496 secs...\n",
      "Used Annotations descriptions: ['New Segment', 'R', 'R128', 'S 50', 'S 60', 'S 70', 'S120', 'S130', 'S140', 'S150', 'S160', 'S170', 'TEND', 'TPEAK', 'TSTART', 'Time 0', 'h_h_strong', 'h_h_weak', 'h_n_strong', 'h_n_weak', 'h_s_strong', 'h_s_weak', 'n_h_strong', 'n_h_weak', 'n_n_strong', 'n_n_weak', 'n_s_strong', 'n_s_weak', 's_h_strong', 's_h_weak', 's_n_strong', 's_n_weak', 's_s_strong', 's_s_weak']\n",
      "Multiple event values for single event times found. Creating new event value to reflect simultaneous events.\n",
      "Not setting metadata\n",
      "776 matching events found\n",
      "Applying baseline correction (mode: mean)\n",
      "0 projection items activated\n",
      "Using data from preloaded Raw for 776 events and 301 original time points ...\n"
     ]
    },
    {
     "name": "stderr",
     "output_type": "stream",
     "text": [
      "C:\\Users\\juhoffmann\\AppData\\Local\\Temp\\ipykernel_9188\\58317019.py:14: RuntimeWarning: Omitted 1890 annotation(s) that were outside data range.\n",
      "  eeg = mne.io.read_raw_edf(i, preload = True)\n",
      "C:\\Users\\juhoffmann\\AppData\\Local\\Temp\\ipykernel_9188\\58317019.py:17: RuntimeWarning: Fiducial point nasion not found, assuming identity unknown to head transformation\n",
      "  eeg.set_montage(montage, match_case=False) #set montage to raw dataset\n",
      "C:\\Users\\juhoffmann\\AppData\\Local\\Temp\\ipykernel_9188\\58317019.py:17: RuntimeWarning: Not setting position of 1 ecg channel found in montage:\n",
      "['ECG']\n",
      "Consider setting the channel types to be of EEG/sEEG/ECoG/DBS/fNIRS using inst.set_channel_types before calling inst.set_montage, or omit these channels when creating your montage.\n",
      "  eeg.set_montage(montage, match_case=False) #set montage to raw dataset\n"
     ]
    },
    {
     "name": "stdout",
     "output_type": "stream",
     "text": [
      "3 bad epochs dropped\n",
      "NOTE: pick_channels() is a legacy function. New code should use inst.pick(...).\n",
      "NOTE: pick_channels() is a legacy function. New code should use inst.pick(...).\n",
      "NOTE: pick_channels() is a legacy function. New code should use inst.pick(...).\n",
      "NOTE: pick_channels() is a legacy function. New code should use inst.pick(...).\n",
      "NOTE: pick_channels() is a legacy function. New code should use inst.pick(...).\n",
      "NOTE: pick_channels() is a legacy function. New code should use inst.pick(...).\n",
      "NOTE: pick_channels() is a legacy function. New code should use inst.pick(...).\n",
      "NOTE: pick_channels() is a legacy function. New code should use inst.pick(...).\n",
      "NOTE: pick_channels() is a legacy function. New code should use inst.pick(...).\n",
      "Extracting EDF parameters from C:\\Users\\juhoffmann\\Desktop\\EEG_BIDS\\EEG_250Hz\\edf\\sub-081_BackwardMask_Preprocessed.edf...\n",
      "EDF file detected\n",
      "Setting channel info structure...\n",
      "Creating raw.info structure...\n",
      "Reading 0 ... 132749  =      0.000 ...   530.996 secs...\n",
      "Used Annotations descriptions: ['New Segment', 'R', 'R128', 'S 50', 'S 60', 'S 70', 'S120', 'S130', 'S140', 'S150', 'S160', 'S170', 'TEND', 'TPEAK', 'TSTART', 'Time 0', 'h_h_strong', 'h_h_weak', 'h_n_strong', 'h_n_weak', 'h_s_strong', 'h_s_weak', 'n_h_strong', 'n_h_weak', 'n_n_strong', 'n_n_weak', 'n_s_strong', 'n_s_weak', 's_h_strong', 's_h_weak', 's_n_strong', 's_n_weak', 's_s_strong', 's_s_weak']\n",
      "Multiple event values for single event times found. Creating new event value to reflect simultaneous events.\n",
      "Not setting metadata\n",
      "778 matching events found\n",
      "Applying baseline correction (mode: mean)\n",
      "0 projection items activated\n",
      "Using data from preloaded Raw for 778 events and 301 original time points ...\n"
     ]
    },
    {
     "name": "stderr",
     "output_type": "stream",
     "text": [
      "C:\\Users\\juhoffmann\\AppData\\Local\\Temp\\ipykernel_9188\\58317019.py:14: RuntimeWarning: Omitted 1876 annotation(s) that were outside data range.\n",
      "  eeg = mne.io.read_raw_edf(i, preload = True)\n",
      "C:\\Users\\juhoffmann\\AppData\\Local\\Temp\\ipykernel_9188\\58317019.py:17: RuntimeWarning: Fiducial point nasion not found, assuming identity unknown to head transformation\n",
      "  eeg.set_montage(montage, match_case=False) #set montage to raw dataset\n",
      "C:\\Users\\juhoffmann\\AppData\\Local\\Temp\\ipykernel_9188\\58317019.py:17: RuntimeWarning: Not setting position of 1 ecg channel found in montage:\n",
      "['ECG']\n",
      "Consider setting the channel types to be of EEG/sEEG/ECoG/DBS/fNIRS using inst.set_channel_types before calling inst.set_montage, or omit these channels when creating your montage.\n",
      "  eeg.set_montage(montage, match_case=False) #set montage to raw dataset\n"
     ]
    },
    {
     "name": "stdout",
     "output_type": "stream",
     "text": [
      "3 bad epochs dropped\n",
      "NOTE: pick_channels() is a legacy function. New code should use inst.pick(...).\n",
      "NOTE: pick_channels() is a legacy function. New code should use inst.pick(...).\n",
      "NOTE: pick_channels() is a legacy function. New code should use inst.pick(...).\n",
      "NOTE: pick_channels() is a legacy function. New code should use inst.pick(...).\n",
      "NOTE: pick_channels() is a legacy function. New code should use inst.pick(...).\n",
      "NOTE: pick_channels() is a legacy function. New code should use inst.pick(...).\n",
      "NOTE: pick_channels() is a legacy function. New code should use inst.pick(...).\n",
      "NOTE: pick_channels() is a legacy function. New code should use inst.pick(...).\n",
      "NOTE: pick_channels() is a legacy function. New code should use inst.pick(...).\n",
      "Extracting EDF parameters from C:\\Users\\juhoffmann\\Desktop\\EEG_BIDS\\EEG_250Hz\\edf\\sub-082_BackwardMask_Preprocessed.edf...\n",
      "EDF file detected\n",
      "Setting channel info structure...\n",
      "Creating raw.info structure...\n",
      "Reading 0 ... 131249  =      0.000 ...   524.996 secs...\n",
      "Used Annotations descriptions: ['New Segment', 'R', 'R128', 'S 50', 'S 60', 'S 70', 'S120', 'S130', 'S140', 'S150', 'S160', 'S170', 'TSTART', 'Time 0', 'h_h_strong', 'h_h_weak', 'h_n_strong', 'h_n_weak', 'h_s_strong', 'h_s_weak', 'n_h_strong', 'n_h_weak', 'n_n_strong', 'n_n_weak', 'n_s_strong', 'n_s_weak', 's_h_strong', 's_h_weak', 's_n_strong', 's_n_weak', 's_s_strong', 's_s_weak']\n",
      "Multiple event values for single event times found. Creating new event value to reflect simultaneous events.\n",
      "Not setting metadata\n",
      "847 matching events found\n",
      "Applying baseline correction (mode: mean)\n",
      "0 projection items activated\n",
      "Using data from preloaded Raw for 847 events and 301 original time points ...\n"
     ]
    },
    {
     "name": "stderr",
     "output_type": "stream",
     "text": [
      "C:\\Users\\juhoffmann\\AppData\\Local\\Temp\\ipykernel_9188\\58317019.py:14: RuntimeWarning: Omitted 1967 annotation(s) that were outside data range.\n",
      "  eeg = mne.io.read_raw_edf(i, preload = True)\n",
      "C:\\Users\\juhoffmann\\AppData\\Local\\Temp\\ipykernel_9188\\58317019.py:17: RuntimeWarning: Fiducial point nasion not found, assuming identity unknown to head transformation\n",
      "  eeg.set_montage(montage, match_case=False) #set montage to raw dataset\n",
      "C:\\Users\\juhoffmann\\AppData\\Local\\Temp\\ipykernel_9188\\58317019.py:17: RuntimeWarning: Not setting position of 1 ecg channel found in montage:\n",
      "['ECG']\n",
      "Consider setting the channel types to be of EEG/sEEG/ECoG/DBS/fNIRS using inst.set_channel_types before calling inst.set_montage, or omit these channels when creating your montage.\n",
      "  eeg.set_montage(montage, match_case=False) #set montage to raw dataset\n"
     ]
    },
    {
     "name": "stdout",
     "output_type": "stream",
     "text": [
      "1 bad epochs dropped\n",
      "NOTE: pick_channels() is a legacy function. New code should use inst.pick(...).\n",
      "NOTE: pick_channels() is a legacy function. New code should use inst.pick(...).\n",
      "NOTE: pick_channels() is a legacy function. New code should use inst.pick(...).\n",
      "NOTE: pick_channels() is a legacy function. New code should use inst.pick(...).\n",
      "NOTE: pick_channels() is a legacy function. New code should use inst.pick(...).\n",
      "NOTE: pick_channels() is a legacy function. New code should use inst.pick(...).\n",
      "NOTE: pick_channels() is a legacy function. New code should use inst.pick(...).\n",
      "NOTE: pick_channels() is a legacy function. New code should use inst.pick(...).\n",
      "NOTE: pick_channels() is a legacy function. New code should use inst.pick(...).\n",
      "Extracting EDF parameters from C:\\Users\\juhoffmann\\Desktop\\EEG_BIDS\\EEG_250Hz\\edf\\sub-083_BackwardMask_Preprocessed.edf...\n",
      "EDF file detected\n",
      "Setting channel info structure...\n",
      "Creating raw.info structure...\n",
      "Reading 0 ... 131249  =      0.000 ...   524.996 secs...\n",
      "Used Annotations descriptions: ['New Segment', 'R', 'R128', 'S 50', 'S 60', 'S 70', 'S120', 'S130', 'S140', 'S150', 'S160', 'S170', 'TEND', 'TPEAK', 'Time 0', 'h_h_strong', 'h_h_weak', 'h_n_strong', 'h_n_weak', 'h_s_strong', 'h_s_weak', 'n_h_strong', 'n_h_weak', 'n_n_strong', 'n_n_weak', 'n_s_strong', 'n_s_weak', 's_h_strong', 's_h_weak', 's_n_strong', 's_n_weak', 's_s_strong', 's_s_weak']\n",
      "Multiple event values for single event times found. Creating new event value to reflect simultaneous events.\n",
      "Not setting metadata\n",
      "738 matching events found\n",
      "Applying baseline correction (mode: mean)\n",
      "0 projection items activated\n",
      "Using data from preloaded Raw for 738 events and 301 original time points ...\n"
     ]
    },
    {
     "name": "stderr",
     "output_type": "stream",
     "text": [
      "C:\\Users\\juhoffmann\\AppData\\Local\\Temp\\ipykernel_9188\\58317019.py:14: RuntimeWarning: Omitted 1842 annotation(s) that were outside data range.\n",
      "  eeg = mne.io.read_raw_edf(i, preload = True)\n",
      "C:\\Users\\juhoffmann\\AppData\\Local\\Temp\\ipykernel_9188\\58317019.py:17: RuntimeWarning: Fiducial point nasion not found, assuming identity unknown to head transformation\n",
      "  eeg.set_montage(montage, match_case=False) #set montage to raw dataset\n",
      "C:\\Users\\juhoffmann\\AppData\\Local\\Temp\\ipykernel_9188\\58317019.py:17: RuntimeWarning: Not setting position of 1 ecg channel found in montage:\n",
      "['ECG']\n",
      "Consider setting the channel types to be of EEG/sEEG/ECoG/DBS/fNIRS using inst.set_channel_types before calling inst.set_montage, or omit these channels when creating your montage.\n",
      "  eeg.set_montage(montage, match_case=False) #set montage to raw dataset\n"
     ]
    },
    {
     "name": "stdout",
     "output_type": "stream",
     "text": [
      "1 bad epochs dropped\n",
      "NOTE: pick_channels() is a legacy function. New code should use inst.pick(...).\n",
      "NOTE: pick_channels() is a legacy function. New code should use inst.pick(...).\n",
      "NOTE: pick_channels() is a legacy function. New code should use inst.pick(...).\n",
      "NOTE: pick_channels() is a legacy function. New code should use inst.pick(...).\n",
      "NOTE: pick_channels() is a legacy function. New code should use inst.pick(...).\n",
      "NOTE: pick_channels() is a legacy function. New code should use inst.pick(...).\n",
      "NOTE: pick_channels() is a legacy function. New code should use inst.pick(...).\n",
      "NOTE: pick_channels() is a legacy function. New code should use inst.pick(...).\n",
      "NOTE: pick_channels() is a legacy function. New code should use inst.pick(...).\n",
      "Extracting EDF parameters from C:\\Users\\juhoffmann\\Desktop\\EEG_BIDS\\EEG_250Hz\\edf\\sub-084_BackwardMask_Preprocessed.edf...\n",
      "EDF file detected\n",
      "Setting channel info structure...\n",
      "Creating raw.info structure...\n",
      "Reading 0 ... 132749  =      0.000 ...   530.996 secs...\n",
      "Used Annotations descriptions: ['New Segment', 'R', 'R128', 'S 50', 'S 60', 'S 70', 'S120', 'S130', 'S140', 'S150', 'S160', 'S170', 'Time 0', 'h_h_strong', 'h_h_weak', 'h_n_strong', 'h_n_weak', 'h_s_strong', 'h_s_weak', 'n_h_strong', 'n_h_weak', 'n_n_strong', 'n_n_weak', 'n_s_strong', 'n_s_weak', 's_h_strong', 's_h_weak', 's_n_strong', 's_n_weak', 's_s_strong', 's_s_weak']\n",
      "Multiple event values for single event times found. Creating new event value to reflect simultaneous events.\n",
      "Not setting metadata\n",
      "764 matching events found\n",
      "Applying baseline correction (mode: mean)\n",
      "0 projection items activated\n",
      "Using data from preloaded Raw for 764 events and 301 original time points ...\n"
     ]
    },
    {
     "name": "stderr",
     "output_type": "stream",
     "text": [
      "C:\\Users\\juhoffmann\\AppData\\Local\\Temp\\ipykernel_9188\\58317019.py:14: RuntimeWarning: Omitted 1865 annotation(s) that were outside data range.\n",
      "  eeg = mne.io.read_raw_edf(i, preload = True)\n",
      "C:\\Users\\juhoffmann\\AppData\\Local\\Temp\\ipykernel_9188\\58317019.py:17: RuntimeWarning: Fiducial point nasion not found, assuming identity unknown to head transformation\n",
      "  eeg.set_montage(montage, match_case=False) #set montage to raw dataset\n",
      "C:\\Users\\juhoffmann\\AppData\\Local\\Temp\\ipykernel_9188\\58317019.py:17: RuntimeWarning: Not setting position of 1 ecg channel found in montage:\n",
      "['ECG']\n",
      "Consider setting the channel types to be of EEG/sEEG/ECoG/DBS/fNIRS using inst.set_channel_types before calling inst.set_montage, or omit these channels when creating your montage.\n",
      "  eeg.set_montage(montage, match_case=False) #set montage to raw dataset\n"
     ]
    },
    {
     "name": "stdout",
     "output_type": "stream",
     "text": [
      "2 bad epochs dropped\n",
      "NOTE: pick_channels() is a legacy function. New code should use inst.pick(...).\n",
      "NOTE: pick_channels() is a legacy function. New code should use inst.pick(...).\n",
      "NOTE: pick_channels() is a legacy function. New code should use inst.pick(...).\n",
      "NOTE: pick_channels() is a legacy function. New code should use inst.pick(...).\n",
      "NOTE: pick_channels() is a legacy function. New code should use inst.pick(...).\n",
      "NOTE: pick_channels() is a legacy function. New code should use inst.pick(...).\n",
      "NOTE: pick_channels() is a legacy function. New code should use inst.pick(...).\n",
      "NOTE: pick_channels() is a legacy function. New code should use inst.pick(...).\n",
      "NOTE: pick_channels() is a legacy function. New code should use inst.pick(...).\n",
      "Extracting EDF parameters from C:\\Users\\juhoffmann\\Desktop\\EEG_BIDS\\EEG_250Hz\\edf\\sub-085_BackwardMask_Preprocessed.edf...\n",
      "EDF file detected\n",
      "Setting channel info structure...\n",
      "Creating raw.info structure...\n",
      "Reading 0 ... 106874  =      0.000 ...   427.496 secs...\n",
      "Used Annotations descriptions: ['New Segment', 'R', 'R128', 'S 50', 'S 60', 'S 70', 'S120', 'S130', 'S140', 'S150', 'S160', 'S170', 'TSTART', 'Time 0', 'h_h_strong', 'h_h_weak', 'h_n_strong', 'h_n_weak', 'h_s_strong', 'h_s_weak', 'n_h_strong', 'n_h_weak', 'n_n_strong', 'n_n_weak', 'n_s_strong', 'n_s_weak', 's_h_strong', 's_h_weak', 's_n_strong', 's_n_weak', 's_s_strong', 's_s_weak']\n",
      "Multiple event values for single event times found. Creating new event value to reflect simultaneous events.\n",
      "Not setting metadata\n",
      "558 matching events found\n",
      "Applying baseline correction (mode: mean)\n",
      "0 projection items activated\n",
      "Using data from preloaded Raw for 558 events and 301 original time points ...\n",
      "5 bad epochs dropped\n"
     ]
    },
    {
     "name": "stderr",
     "output_type": "stream",
     "text": [
      "C:\\Users\\juhoffmann\\AppData\\Local\\Temp\\ipykernel_9188\\58317019.py:14: RuntimeWarning: Omitted 1408 annotation(s) that were outside data range.\n",
      "  eeg = mne.io.read_raw_edf(i, preload = True)\n",
      "C:\\Users\\juhoffmann\\AppData\\Local\\Temp\\ipykernel_9188\\58317019.py:17: RuntimeWarning: Fiducial point nasion not found, assuming identity unknown to head transformation\n",
      "  eeg.set_montage(montage, match_case=False) #set montage to raw dataset\n",
      "C:\\Users\\juhoffmann\\AppData\\Local\\Temp\\ipykernel_9188\\58317019.py:17: RuntimeWarning: Not setting position of 1 ecg channel found in montage:\n",
      "['ECG']\n",
      "Consider setting the channel types to be of EEG/sEEG/ECoG/DBS/fNIRS using inst.set_channel_types before calling inst.set_montage, or omit these channels when creating your montage.\n",
      "  eeg.set_montage(montage, match_case=False) #set montage to raw dataset\n"
     ]
    },
    {
     "name": "stdout",
     "output_type": "stream",
     "text": [
      "NOTE: pick_channels() is a legacy function. New code should use inst.pick(...).\n",
      "NOTE: pick_channels() is a legacy function. New code should use inst.pick(...).\n",
      "NOTE: pick_channels() is a legacy function. New code should use inst.pick(...).\n",
      "NOTE: pick_channels() is a legacy function. New code should use inst.pick(...).\n",
      "NOTE: pick_channels() is a legacy function. New code should use inst.pick(...).\n",
      "NOTE: pick_channels() is a legacy function. New code should use inst.pick(...).\n",
      "NOTE: pick_channels() is a legacy function. New code should use inst.pick(...).\n",
      "NOTE: pick_channels() is a legacy function. New code should use inst.pick(...).\n",
      "NOTE: pick_channels() is a legacy function. New code should use inst.pick(...).\n",
      "Extracting EDF parameters from C:\\Users\\juhoffmann\\Desktop\\EEG_BIDS\\EEG_250Hz\\edf\\sub-086_BackwardMask_Preprocessed.edf...\n",
      "EDF file detected\n",
      "Setting channel info structure...\n",
      "Creating raw.info structure...\n",
      "Reading 0 ... 133874  =      0.000 ...   535.496 secs...\n",
      "Used Annotations descriptions: ['New Segment', 'R', 'R128', 'S 50', 'S 60', 'S 70', 'S120', 'S130', 'S140', 'S150', 'S160', 'S170', 'Time 0', 'h_h_strong', 'h_h_weak', 'h_n_strong', 'h_n_weak', 'h_s_strong', 'h_s_weak', 'n_h_strong', 'n_h_weak', 'n_n_strong', 'n_n_weak', 'n_s_strong', 'n_s_weak', 's_h_strong', 's_h_weak', 's_n_strong', 's_n_weak', 's_s_strong', 's_s_weak']\n",
      "Multiple event values for single event times found. Creating new event value to reflect simultaneous events.\n",
      "Not setting metadata\n",
      "790 matching events found\n",
      "Applying baseline correction (mode: mean)\n",
      "0 projection items activated\n",
      "Using data from preloaded Raw for 790 events and 301 original time points ...\n"
     ]
    },
    {
     "name": "stderr",
     "output_type": "stream",
     "text": [
      "C:\\Users\\juhoffmann\\AppData\\Local\\Temp\\ipykernel_9188\\58317019.py:14: RuntimeWarning: Omitted 1890 annotation(s) that were outside data range.\n",
      "  eeg = mne.io.read_raw_edf(i, preload = True)\n",
      "C:\\Users\\juhoffmann\\AppData\\Local\\Temp\\ipykernel_9188\\58317019.py:17: RuntimeWarning: Fiducial point nasion not found, assuming identity unknown to head transformation\n",
      "  eeg.set_montage(montage, match_case=False) #set montage to raw dataset\n",
      "C:\\Users\\juhoffmann\\AppData\\Local\\Temp\\ipykernel_9188\\58317019.py:17: RuntimeWarning: Not setting position of 1 ecg channel found in montage:\n",
      "['ECG']\n",
      "Consider setting the channel types to be of EEG/sEEG/ECoG/DBS/fNIRS using inst.set_channel_types before calling inst.set_montage, or omit these channels when creating your montage.\n",
      "  eeg.set_montage(montage, match_case=False) #set montage to raw dataset\n"
     ]
    },
    {
     "name": "stdout",
     "output_type": "stream",
     "text": [
      "4 bad epochs dropped\n",
      "NOTE: pick_channels() is a legacy function. New code should use inst.pick(...).\n",
      "NOTE: pick_channels() is a legacy function. New code should use inst.pick(...).\n",
      "NOTE: pick_channels() is a legacy function. New code should use inst.pick(...).\n",
      "NOTE: pick_channels() is a legacy function. New code should use inst.pick(...).\n",
      "NOTE: pick_channels() is a legacy function. New code should use inst.pick(...).\n",
      "NOTE: pick_channels() is a legacy function. New code should use inst.pick(...).\n",
      "NOTE: pick_channels() is a legacy function. New code should use inst.pick(...).\n",
      "NOTE: pick_channels() is a legacy function. New code should use inst.pick(...).\n",
      "NOTE: pick_channels() is a legacy function. New code should use inst.pick(...).\n",
      "Extracting EDF parameters from C:\\Users\\juhoffmann\\Desktop\\EEG_BIDS\\EEG_250Hz\\edf\\sub-088_BackwardMask_Preprocessed.edf...\n",
      "EDF file detected\n",
      "Setting channel info structure...\n",
      "Creating raw.info structure...\n",
      "Reading 0 ... 89624  =      0.000 ...   358.496 secs...\n",
      "Used Annotations descriptions: ['New Segment', 'R', 'R128', 'S 50', 'S 60', 'S 70', 'S120', 'S130', 'S140', 'S150', 'S160', 'S170', 'Time 0', 'h_h_strong', 'h_h_weak', 'h_n_strong', 'h_n_weak', 'h_s_strong', 'h_s_weak', 'n_h_strong', 'n_h_weak', 'n_n_strong', 'n_n_weak', 'n_s_strong', 'n_s_weak', 's_h_strong', 's_h_weak', 's_n_strong', 's_n_weak', 's_s_strong', 's_s_weak']\n",
      "Multiple event values for single event times found. Creating new event value to reflect simultaneous events.\n",
      "Not setting metadata\n",
      "547 matching events found\n",
      "Applying baseline correction (mode: mean)\n",
      "0 projection items activated\n",
      "Using data from preloaded Raw for 547 events and 301 original time points ...\n",
      "1 bad epochs dropped\n",
      "NOTE: pick_channels() is a legacy function. New code should use inst.pick(...).\n",
      "NOTE: pick_channels() is a legacy function. New code should use inst.pick(...).\n"
     ]
    },
    {
     "name": "stderr",
     "output_type": "stream",
     "text": [
      "C:\\Users\\juhoffmann\\AppData\\Local\\Temp\\ipykernel_9188\\58317019.py:14: RuntimeWarning: Omitted 1282 annotation(s) that were outside data range.\n",
      "  eeg = mne.io.read_raw_edf(i, preload = True)\n",
      "C:\\Users\\juhoffmann\\AppData\\Local\\Temp\\ipykernel_9188\\58317019.py:17: RuntimeWarning: Fiducial point nasion not found, assuming identity unknown to head transformation\n",
      "  eeg.set_montage(montage, match_case=False) #set montage to raw dataset\n",
      "C:\\Users\\juhoffmann\\AppData\\Local\\Temp\\ipykernel_9188\\58317019.py:17: RuntimeWarning: Not setting position of 1 ecg channel found in montage:\n",
      "['ECG']\n",
      "Consider setting the channel types to be of EEG/sEEG/ECoG/DBS/fNIRS using inst.set_channel_types before calling inst.set_montage, or omit these channels when creating your montage.\n",
      "  eeg.set_montage(montage, match_case=False) #set montage to raw dataset\n"
     ]
    },
    {
     "name": "stdout",
     "output_type": "stream",
     "text": [
      "NOTE: pick_channels() is a legacy function. New code should use inst.pick(...).\n",
      "NOTE: pick_channels() is a legacy function. New code should use inst.pick(...).\n",
      "NOTE: pick_channels() is a legacy function. New code should use inst.pick(...).\n",
      "NOTE: pick_channels() is a legacy function. New code should use inst.pick(...).\n",
      "NOTE: pick_channels() is a legacy function. New code should use inst.pick(...).\n",
      "NOTE: pick_channels() is a legacy function. New code should use inst.pick(...).\n",
      "NOTE: pick_channels() is a legacy function. New code should use inst.pick(...).\n",
      "Extracting EDF parameters from C:\\Users\\juhoffmann\\Desktop\\EEG_BIDS\\EEG_250Hz\\edf\\sub-089_BackwardMask_Preprocessed.edf...\n",
      "EDF file detected\n",
      "Setting channel info structure...\n",
      "Creating raw.info structure...\n",
      "Reading 0 ... 123374  =      0.000 ...   493.496 secs...\n",
      "Used Annotations descriptions: ['New Segment', 'R', 'R128', 'S 50', 'S 60', 'S 70', 'S120', 'S130', 'S140', 'S150', 'S160', 'S170', 'Time 0', 'h_h_strong', 'h_h_weak', 'h_n_strong', 'h_n_weak', 'h_s_strong', 'h_s_weak', 'n_h_strong', 'n_h_weak', 'n_n_strong', 'n_n_weak', 'n_s_strong', 'n_s_weak', 's_h_strong', 's_h_weak', 's_n_strong', 's_n_weak', 's_s_strong', 's_s_weak']\n",
      "Multiple event values for single event times found. Creating new event value to reflect simultaneous events.\n",
      "Not setting metadata\n",
      "628 matching events found\n",
      "Applying baseline correction (mode: mean)\n",
      "0 projection items activated\n",
      "Using data from preloaded Raw for 628 events and 301 original time points ...\n",
      "5 bad epochs dropped\n"
     ]
    },
    {
     "name": "stderr",
     "output_type": "stream",
     "text": [
      "C:\\Users\\juhoffmann\\AppData\\Local\\Temp\\ipykernel_9188\\58317019.py:14: RuntimeWarning: Omitted 1778 annotation(s) that were outside data range.\n",
      "  eeg = mne.io.read_raw_edf(i, preload = True)\n",
      "C:\\Users\\juhoffmann\\AppData\\Local\\Temp\\ipykernel_9188\\58317019.py:17: RuntimeWarning: Fiducial point nasion not found, assuming identity unknown to head transformation\n",
      "  eeg.set_montage(montage, match_case=False) #set montage to raw dataset\n",
      "C:\\Users\\juhoffmann\\AppData\\Local\\Temp\\ipykernel_9188\\58317019.py:17: RuntimeWarning: Not setting position of 1 ecg channel found in montage:\n",
      "['ECG']\n",
      "Consider setting the channel types to be of EEG/sEEG/ECoG/DBS/fNIRS using inst.set_channel_types before calling inst.set_montage, or omit these channels when creating your montage.\n",
      "  eeg.set_montage(montage, match_case=False) #set montage to raw dataset\n"
     ]
    },
    {
     "name": "stdout",
     "output_type": "stream",
     "text": [
      "NOTE: pick_channels() is a legacy function. New code should use inst.pick(...).\n",
      "NOTE: pick_channels() is a legacy function. New code should use inst.pick(...).\n",
      "NOTE: pick_channels() is a legacy function. New code should use inst.pick(...).\n",
      "NOTE: pick_channels() is a legacy function. New code should use inst.pick(...).\n",
      "NOTE: pick_channels() is a legacy function. New code should use inst.pick(...).\n",
      "NOTE: pick_channels() is a legacy function. New code should use inst.pick(...).\n",
      "NOTE: pick_channels() is a legacy function. New code should use inst.pick(...).\n",
      "NOTE: pick_channels() is a legacy function. New code should use inst.pick(...).\n",
      "NOTE: pick_channels() is a legacy function. New code should use inst.pick(...).\n",
      "Extracting EDF parameters from C:\\Users\\juhoffmann\\Desktop\\EEG_BIDS\\EEG_250Hz\\edf\\sub-090_BackwardMask_Preprocessed.edf...\n",
      "EDF file detected\n",
      "Setting channel info structure...\n",
      "Creating raw.info structure...\n",
      "Reading 0 ... 133874  =      0.000 ...   535.496 secs...\n",
      "Used Annotations descriptions: ['New Segment', 'R', 'R128', 'S 50', 'S 60', 'S 70', 'S120', 'S130', 'S140', 'S150', 'S160', 'S170', 'TEND', 'TPEAK', 'TSTART', 'Time 0', 'h_h_strong', 'h_h_weak', 'h_n_strong', 'h_n_weak', 'h_s_strong', 'h_s_weak', 'n_h_strong', 'n_h_weak', 'n_n_strong', 'n_n_weak', 'n_s_strong', 'n_s_weak', 's_h_strong', 's_h_weak', 's_n_strong', 's_n_weak', 's_s_strong', 's_s_weak']\n",
      "Multiple event values for single event times found. Creating new event value to reflect simultaneous events.\n",
      "Not setting metadata\n",
      "706 matching events found\n",
      "Applying baseline correction (mode: mean)\n",
      "0 projection items activated\n",
      "Using data from preloaded Raw for 706 events and 301 original time points ...\n"
     ]
    },
    {
     "name": "stderr",
     "output_type": "stream",
     "text": [
      "C:\\Users\\juhoffmann\\AppData\\Local\\Temp\\ipykernel_9188\\58317019.py:14: RuntimeWarning: Omitted 1759 annotation(s) that were outside data range.\n",
      "  eeg = mne.io.read_raw_edf(i, preload = True)\n",
      "C:\\Users\\juhoffmann\\AppData\\Local\\Temp\\ipykernel_9188\\58317019.py:17: RuntimeWarning: Fiducial point nasion not found, assuming identity unknown to head transformation\n",
      "  eeg.set_montage(montage, match_case=False) #set montage to raw dataset\n",
      "C:\\Users\\juhoffmann\\AppData\\Local\\Temp\\ipykernel_9188\\58317019.py:17: RuntimeWarning: Not setting position of 1 ecg channel found in montage:\n",
      "['ECG']\n",
      "Consider setting the channel types to be of EEG/sEEG/ECoG/DBS/fNIRS using inst.set_channel_types before calling inst.set_montage, or omit these channels when creating your montage.\n",
      "  eeg.set_montage(montage, match_case=False) #set montage to raw dataset\n"
     ]
    },
    {
     "name": "stdout",
     "output_type": "stream",
     "text": [
      "2 bad epochs dropped\n",
      "NOTE: pick_channels() is a legacy function. New code should use inst.pick(...).\n",
      "NOTE: pick_channels() is a legacy function. New code should use inst.pick(...).\n",
      "NOTE: pick_channels() is a legacy function. New code should use inst.pick(...).\n",
      "NOTE: pick_channels() is a legacy function. New code should use inst.pick(...).\n",
      "NOTE: pick_channels() is a legacy function. New code should use inst.pick(...).\n",
      "NOTE: pick_channels() is a legacy function. New code should use inst.pick(...).\n",
      "NOTE: pick_channels() is a legacy function. New code should use inst.pick(...).\n",
      "NOTE: pick_channels() is a legacy function. New code should use inst.pick(...).\n",
      "NOTE: pick_channels() is a legacy function. New code should use inst.pick(...).\n",
      "Extracting EDF parameters from C:\\Users\\juhoffmann\\Desktop\\EEG_BIDS\\EEG_250Hz\\edf\\sub-091_BackwardMask_Preprocessed.edf...\n",
      "EDF file detected\n",
      "Setting channel info structure...\n",
      "Creating raw.info structure...\n",
      "Reading 0 ... 134999  =      0.000 ...   539.996 secs...\n",
      "Used Annotations descriptions: ['New Segment', 'R', 'R128', 'S 50', 'S 60', 'S 70', 'S120', 'S130', 'S140', 'S150', 'S160', 'S170', 'TEND', 'TPEAK', 'TSTART', 'Time 0', 'h_h_strong', 'h_h_weak', 'h_n_strong', 'h_n_weak', 'h_s_strong', 'h_s_weak', 'n_h_strong', 'n_h_weak', 'n_n_strong', 'n_n_weak', 'n_s_strong', 'n_s_weak', 's_h_strong', 's_h_weak', 's_n_strong', 's_n_weak', 's_s_strong', 's_s_weak']\n",
      "Multiple event values for single event times found. Creating new event value to reflect simultaneous events.\n",
      "Not setting metadata\n",
      "742 matching events found\n",
      "Applying baseline correction (mode: mean)\n",
      "0 projection items activated\n",
      "Using data from preloaded Raw for 742 events and 301 original time points ...\n"
     ]
    },
    {
     "name": "stderr",
     "output_type": "stream",
     "text": [
      "C:\\Users\\juhoffmann\\AppData\\Local\\Temp\\ipykernel_9188\\58317019.py:14: RuntimeWarning: Omitted 1765 annotation(s) that were outside data range.\n",
      "  eeg = mne.io.read_raw_edf(i, preload = True)\n",
      "C:\\Users\\juhoffmann\\AppData\\Local\\Temp\\ipykernel_9188\\58317019.py:17: RuntimeWarning: Fiducial point nasion not found, assuming identity unknown to head transformation\n",
      "  eeg.set_montage(montage, match_case=False) #set montage to raw dataset\n",
      "C:\\Users\\juhoffmann\\AppData\\Local\\Temp\\ipykernel_9188\\58317019.py:17: RuntimeWarning: Not setting position of 1 ecg channel found in montage:\n",
      "['ECG']\n",
      "Consider setting the channel types to be of EEG/sEEG/ECoG/DBS/fNIRS using inst.set_channel_types before calling inst.set_montage, or omit these channels when creating your montage.\n",
      "  eeg.set_montage(montage, match_case=False) #set montage to raw dataset\n"
     ]
    },
    {
     "name": "stdout",
     "output_type": "stream",
     "text": [
      "2 bad epochs dropped\n",
      "NOTE: pick_channels() is a legacy function. New code should use inst.pick(...).\n",
      "NOTE: pick_channels() is a legacy function. New code should use inst.pick(...).\n",
      "NOTE: pick_channels() is a legacy function. New code should use inst.pick(...).\n",
      "NOTE: pick_channels() is a legacy function. New code should use inst.pick(...).\n",
      "NOTE: pick_channels() is a legacy function. New code should use inst.pick(...).\n",
      "NOTE: pick_channels() is a legacy function. New code should use inst.pick(...).\n",
      "NOTE: pick_channels() is a legacy function. New code should use inst.pick(...).\n",
      "NOTE: pick_channels() is a legacy function. New code should use inst.pick(...).\n",
      "NOTE: pick_channels() is a legacy function. New code should use inst.pick(...).\n",
      "Extracting EDF parameters from C:\\Users\\juhoffmann\\Desktop\\EEG_BIDS\\EEG_250Hz\\edf\\sub-093_BackwardMask_Preprocessed.edf...\n",
      "EDF file detected\n",
      "Setting channel info structure...\n",
      "Creating raw.info structure...\n",
      "Reading 0 ... 123374  =      0.000 ...   493.496 secs...\n",
      "Used Annotations descriptions: ['New Segment', 'R', 'R128', 'S 50', 'S 60', 'S 70', 'S120', 'S130', 'S140', 'S150', 'S160', 'S170', 'TEND', 'Time 0', 'h_h_strong', 'h_h_weak', 'h_n_strong', 'h_n_weak', 'h_s_strong', 'h_s_weak', 'n_h_strong', 'n_h_weak', 'n_n_strong', 'n_n_weak', 'n_s_strong', 'n_s_weak', 's_h_strong', 's_h_weak', 's_n_strong', 's_n_weak', 's_s_strong', 's_s_weak']\n",
      "Multiple event values for single event times found. Creating new event value to reflect simultaneous events.\n",
      "Not setting metadata\n",
      "732 matching events found\n",
      "Applying baseline correction (mode: mean)\n",
      "0 projection items activated\n",
      "Using data from preloaded Raw for 732 events and 301 original time points ...\n"
     ]
    },
    {
     "name": "stderr",
     "output_type": "stream",
     "text": [
      "C:\\Users\\juhoffmann\\AppData\\Local\\Temp\\ipykernel_9188\\58317019.py:14: RuntimeWarning: Omitted 1803 annotation(s) that were outside data range.\n",
      "  eeg = mne.io.read_raw_edf(i, preload = True)\n",
      "C:\\Users\\juhoffmann\\AppData\\Local\\Temp\\ipykernel_9188\\58317019.py:17: RuntimeWarning: Fiducial point nasion not found, assuming identity unknown to head transformation\n",
      "  eeg.set_montage(montage, match_case=False) #set montage to raw dataset\n",
      "C:\\Users\\juhoffmann\\AppData\\Local\\Temp\\ipykernel_9188\\58317019.py:17: RuntimeWarning: Not setting position of 1 ecg channel found in montage:\n",
      "['ECG']\n",
      "Consider setting the channel types to be of EEG/sEEG/ECoG/DBS/fNIRS using inst.set_channel_types before calling inst.set_montage, or omit these channels when creating your montage.\n",
      "  eeg.set_montage(montage, match_case=False) #set montage to raw dataset\n"
     ]
    },
    {
     "name": "stdout",
     "output_type": "stream",
     "text": [
      "1 bad epochs dropped\n",
      "NOTE: pick_channels() is a legacy function. New code should use inst.pick(...).\n",
      "NOTE: pick_channels() is a legacy function. New code should use inst.pick(...).\n",
      "NOTE: pick_channels() is a legacy function. New code should use inst.pick(...).\n",
      "NOTE: pick_channels() is a legacy function. New code should use inst.pick(...).\n",
      "NOTE: pick_channels() is a legacy function. New code should use inst.pick(...).\n",
      "NOTE: pick_channels() is a legacy function. New code should use inst.pick(...).\n",
      "NOTE: pick_channels() is a legacy function. New code should use inst.pick(...).\n",
      "NOTE: pick_channels() is a legacy function. New code should use inst.pick(...).\n",
      "NOTE: pick_channels() is a legacy function. New code should use inst.pick(...).\n",
      "Extracting EDF parameters from C:\\Users\\juhoffmann\\Desktop\\EEG_BIDS\\EEG_250Hz\\edf\\sub-094_BackwardMask_Preprocessed.edf...\n",
      "EDF file detected\n",
      "Setting channel info structure...\n",
      "Creating raw.info structure...\n",
      "Reading 0 ... 124124  =      0.000 ...   496.496 secs...\n",
      "Used Annotations descriptions: ['New Segment', 'R', 'R128', 'S 50', 'S 60', 'S 70', 'S120', 'S130', 'S140', 'S150', 'S160', 'S170', 'TEND', 'TPEAK', 'TSTART', 'Time 0', 'h_h_strong', 'h_h_weak', 'h_n_strong', 'h_n_weak', 'h_s_strong', 'h_s_weak', 'n_h_strong', 'n_h_weak', 'n_n_strong', 'n_n_weak', 'n_s_strong', 'n_s_weak', 's_h_strong', 's_h_weak', 's_n_strong', 's_n_weak', 's_s_strong', 's_s_weak']\n",
      "Multiple event values for single event times found. Creating new event value to reflect simultaneous events.\n",
      "Not setting metadata\n",
      "682 matching events found\n",
      "Applying baseline correction (mode: mean)\n",
      "0 projection items activated\n",
      "Using data from preloaded Raw for 682 events and 301 original time points ...\n",
      "2 bad epochs dropped\n"
     ]
    },
    {
     "name": "stderr",
     "output_type": "stream",
     "text": [
      "C:\\Users\\juhoffmann\\AppData\\Local\\Temp\\ipykernel_9188\\58317019.py:14: RuntimeWarning: Omitted 1784 annotation(s) that were outside data range.\n",
      "  eeg = mne.io.read_raw_edf(i, preload = True)\n",
      "C:\\Users\\juhoffmann\\AppData\\Local\\Temp\\ipykernel_9188\\58317019.py:17: RuntimeWarning: Fiducial point nasion not found, assuming identity unknown to head transformation\n",
      "  eeg.set_montage(montage, match_case=False) #set montage to raw dataset\n",
      "C:\\Users\\juhoffmann\\AppData\\Local\\Temp\\ipykernel_9188\\58317019.py:17: RuntimeWarning: Not setting position of 1 ecg channel found in montage:\n",
      "['ECG']\n",
      "Consider setting the channel types to be of EEG/sEEG/ECoG/DBS/fNIRS using inst.set_channel_types before calling inst.set_montage, or omit these channels when creating your montage.\n",
      "  eeg.set_montage(montage, match_case=False) #set montage to raw dataset\n"
     ]
    },
    {
     "name": "stdout",
     "output_type": "stream",
     "text": [
      "NOTE: pick_channels() is a legacy function. New code should use inst.pick(...).\n",
      "NOTE: pick_channels() is a legacy function. New code should use inst.pick(...).\n",
      "NOTE: pick_channels() is a legacy function. New code should use inst.pick(...).\n",
      "NOTE: pick_channels() is a legacy function. New code should use inst.pick(...).\n",
      "NOTE: pick_channels() is a legacy function. New code should use inst.pick(...).\n",
      "NOTE: pick_channels() is a legacy function. New code should use inst.pick(...).\n",
      "NOTE: pick_channels() is a legacy function. New code should use inst.pick(...).\n",
      "NOTE: pick_channels() is a legacy function. New code should use inst.pick(...).\n",
      "NOTE: pick_channels() is a legacy function. New code should use inst.pick(...).\n",
      "Extracting EDF parameters from C:\\Users\\juhoffmann\\Desktop\\EEG_BIDS\\EEG_250Hz\\edf\\sub-096_BackwardMask_Preprocessed.edf...\n",
      "EDF file detected\n",
      "Setting channel info structure...\n",
      "Creating raw.info structure...\n",
      "Reading 0 ... 134249  =      0.000 ...   536.996 secs...\n",
      "Used Annotations descriptions: ['New Segment', 'R', 'R128', 'S 50', 'S 60', 'S 70', 'S120', 'S130', 'S140', 'S150', 'S160', 'S170', 'TEND', 'TPEAK', 'TSTART', 'Time 0', 'h_h_strong', 'h_h_weak', 'h_n_strong', 'h_n_weak', 'h_s_strong', 'h_s_weak', 'n_h_strong', 'n_h_weak', 'n_n_strong', 'n_n_weak', 'n_s_strong', 'n_s_weak', 's_h_strong', 's_h_weak', 's_n_strong', 's_n_weak', 's_s_strong', 's_s_weak']\n",
      "Multiple event values for single event times found. Creating new event value to reflect simultaneous events.\n",
      "Not setting metadata\n",
      "789 matching events found\n",
      "Applying baseline correction (mode: mean)\n",
      "0 projection items activated\n",
      "Using data from preloaded Raw for 789 events and 301 original time points ...\n"
     ]
    },
    {
     "name": "stderr",
     "output_type": "stream",
     "text": [
      "C:\\Users\\juhoffmann\\AppData\\Local\\Temp\\ipykernel_9188\\58317019.py:14: RuntimeWarning: Omitted 1866 annotation(s) that were outside data range.\n",
      "  eeg = mne.io.read_raw_edf(i, preload = True)\n",
      "C:\\Users\\juhoffmann\\AppData\\Local\\Temp\\ipykernel_9188\\58317019.py:17: RuntimeWarning: Fiducial point nasion not found, assuming identity unknown to head transformation\n",
      "  eeg.set_montage(montage, match_case=False) #set montage to raw dataset\n",
      "C:\\Users\\juhoffmann\\AppData\\Local\\Temp\\ipykernel_9188\\58317019.py:17: RuntimeWarning: Not setting position of 1 ecg channel found in montage:\n",
      "['ECG']\n",
      "Consider setting the channel types to be of EEG/sEEG/ECoG/DBS/fNIRS using inst.set_channel_types before calling inst.set_montage, or omit these channels when creating your montage.\n",
      "  eeg.set_montage(montage, match_case=False) #set montage to raw dataset\n"
     ]
    },
    {
     "name": "stdout",
     "output_type": "stream",
     "text": [
      "4 bad epochs dropped\n",
      "NOTE: pick_channels() is a legacy function. New code should use inst.pick(...).\n",
      "NOTE: pick_channels() is a legacy function. New code should use inst.pick(...).\n",
      "NOTE: pick_channels() is a legacy function. New code should use inst.pick(...).\n",
      "NOTE: pick_channels() is a legacy function. New code should use inst.pick(...).\n",
      "NOTE: pick_channels() is a legacy function. New code should use inst.pick(...).\n",
      "NOTE: pick_channels() is a legacy function. New code should use inst.pick(...).\n",
      "NOTE: pick_channels() is a legacy function. New code should use inst.pick(...).\n",
      "NOTE: pick_channels() is a legacy function. New code should use inst.pick(...).\n",
      "NOTE: pick_channels() is a legacy function. New code should use inst.pick(...).\n",
      "Extracting EDF parameters from C:\\Users\\juhoffmann\\Desktop\\EEG_BIDS\\EEG_250Hz\\edf\\sub-097_BackwardMask_Preprocessed.edf...\n",
      "EDF file detected\n",
      "Setting channel info structure...\n",
      "Creating raw.info structure...\n",
      "Reading 0 ... 126749  =      0.000 ...   506.996 secs...\n",
      "Used Annotations descriptions: ['New Segment', 'R', 'R128', 'S 50', 'S 60', 'S 70', 'S120', 'S130', 'S140', 'S150', 'S160', 'S170', 'Time 0', 'h_h_strong', 'h_h_weak', 'h_n_strong', 'h_n_weak', 'h_s_strong', 'h_s_weak', 'n_h_strong', 'n_h_weak', 'n_n_strong', 'n_n_weak', 'n_s_strong', 'n_s_weak', 's_h_strong', 's_h_weak', 's_n_strong', 's_n_weak', 's_s_strong', 's_s_weak']\n",
      "Multiple event values for single event times found. Creating new event value to reflect simultaneous events.\n",
      "Not setting metadata\n",
      "670 matching events found\n",
      "Applying baseline correction (mode: mean)\n",
      "0 projection items activated\n",
      "Using data from preloaded Raw for 670 events and 301 original time points ...\n"
     ]
    },
    {
     "name": "stderr",
     "output_type": "stream",
     "text": [
      "C:\\Users\\juhoffmann\\AppData\\Local\\Temp\\ipykernel_9188\\58317019.py:14: RuntimeWarning: Omitted 2006 annotation(s) that were outside data range.\n",
      "  eeg = mne.io.read_raw_edf(i, preload = True)\n",
      "C:\\Users\\juhoffmann\\AppData\\Local\\Temp\\ipykernel_9188\\58317019.py:17: RuntimeWarning: Fiducial point nasion not found, assuming identity unknown to head transformation\n",
      "  eeg.set_montage(montage, match_case=False) #set montage to raw dataset\n",
      "C:\\Users\\juhoffmann\\AppData\\Local\\Temp\\ipykernel_9188\\58317019.py:17: RuntimeWarning: Not setting position of 1 ecg channel found in montage:\n",
      "['ECG']\n",
      "Consider setting the channel types to be of EEG/sEEG/ECoG/DBS/fNIRS using inst.set_channel_types before calling inst.set_montage, or omit these channels when creating your montage.\n",
      "  eeg.set_montage(montage, match_case=False) #set montage to raw dataset\n"
     ]
    },
    {
     "name": "stdout",
     "output_type": "stream",
     "text": [
      "5 bad epochs dropped\n",
      "NOTE: pick_channels() is a legacy function. New code should use inst.pick(...).\n",
      "NOTE: pick_channels() is a legacy function. New code should use inst.pick(...).\n",
      "NOTE: pick_channels() is a legacy function. New code should use inst.pick(...).\n",
      "NOTE: pick_channels() is a legacy function. New code should use inst.pick(...).\n",
      "NOTE: pick_channels() is a legacy function. New code should use inst.pick(...).\n",
      "NOTE: pick_channels() is a legacy function. New code should use inst.pick(...).\n",
      "NOTE: pick_channels() is a legacy function. New code should use inst.pick(...).\n",
      "NOTE: pick_channels() is a legacy function. New code should use inst.pick(...).\n",
      "NOTE: pick_channels() is a legacy function. New code should use inst.pick(...).\n",
      "Extracting EDF parameters from C:\\Users\\juhoffmann\\Desktop\\EEG_BIDS\\EEG_250Hz\\edf\\sub-098_BackwardMask_Preprocessed.edf...\n",
      "EDF file detected\n",
      "Setting channel info structure...\n",
      "Creating raw.info structure...\n",
      "Reading 0 ... 120374  =      0.000 ...   481.496 secs...\n",
      "Used Annotations descriptions: ['New Segment', 'R', 'R128', 'S 50', 'S 60', 'S 70', 'S120', 'S130', 'S140', 'S150', 'S160', 'S170', 'TSTART', 'Time 0', 'h_h_strong', 'h_h_weak', 'h_n_strong', 'h_n_weak', 'h_s_strong', 'h_s_weak', 'n_h_strong', 'n_h_weak', 'n_n_strong', 'n_n_weak', 'n_s_strong', 'n_s_weak', 's_h_strong', 's_h_weak', 's_n_strong', 's_n_weak', 's_s_strong', 's_s_weak']\n",
      "Multiple event values for single event times found. Creating new event value to reflect simultaneous events.\n",
      "Not setting metadata\n",
      "751 matching events found\n",
      "Applying baseline correction (mode: mean)\n",
      "0 projection items activated\n",
      "Using data from preloaded Raw for 751 events and 301 original time points ...\n"
     ]
    },
    {
     "name": "stderr",
     "output_type": "stream",
     "text": [
      "C:\\Users\\juhoffmann\\AppData\\Local\\Temp\\ipykernel_9188\\58317019.py:14: RuntimeWarning: Omitted 1713 annotation(s) that were outside data range.\n",
      "  eeg = mne.io.read_raw_edf(i, preload = True)\n",
      "C:\\Users\\juhoffmann\\AppData\\Local\\Temp\\ipykernel_9188\\58317019.py:17: RuntimeWarning: Fiducial point nasion not found, assuming identity unknown to head transformation\n",
      "  eeg.set_montage(montage, match_case=False) #set montage to raw dataset\n",
      "C:\\Users\\juhoffmann\\AppData\\Local\\Temp\\ipykernel_9188\\58317019.py:17: RuntimeWarning: Not setting position of 1 ecg channel found in montage:\n",
      "['ECG']\n",
      "Consider setting the channel types to be of EEG/sEEG/ECoG/DBS/fNIRS using inst.set_channel_types before calling inst.set_montage, or omit these channels when creating your montage.\n",
      "  eeg.set_montage(montage, match_case=False) #set montage to raw dataset\n"
     ]
    },
    {
     "name": "stdout",
     "output_type": "stream",
     "text": [
      "6 bad epochs dropped\n",
      "NOTE: pick_channels() is a legacy function. New code should use inst.pick(...).\n",
      "NOTE: pick_channels() is a legacy function. New code should use inst.pick(...).\n",
      "NOTE: pick_channels() is a legacy function. New code should use inst.pick(...).\n",
      "NOTE: pick_channels() is a legacy function. New code should use inst.pick(...).\n",
      "NOTE: pick_channels() is a legacy function. New code should use inst.pick(...).\n",
      "NOTE: pick_channels() is a legacy function. New code should use inst.pick(...).\n",
      "NOTE: pick_channels() is a legacy function. New code should use inst.pick(...).\n",
      "NOTE: pick_channels() is a legacy function. New code should use inst.pick(...).\n",
      "NOTE: pick_channels() is a legacy function. New code should use inst.pick(...).\n",
      "Extracting EDF parameters from C:\\Users\\juhoffmann\\Desktop\\EEG_BIDS\\EEG_250Hz\\edf\\sub-099_BackwardMask_Preprocessed.edf...\n",
      "EDF file detected\n",
      "Setting channel info structure...\n",
      "Creating raw.info structure...\n",
      "Reading 0 ... 134249  =      0.000 ...   536.996 secs...\n",
      "Used Annotations descriptions: ['New Segment', 'R', 'R128', 'S 50', 'S 60', 'S 70', 'S120', 'S130', 'S140', 'S150', 'S160', 'S170', 'Time 0', 'h_h_strong', 'h_h_weak', 'h_n_strong', 'h_n_weak', 'h_s_strong', 'h_s_weak', 'n_h_strong', 'n_h_weak', 'n_n_strong', 'n_n_weak', 'n_s_strong', 'n_s_weak', 's_h_strong', 's_h_weak', 's_n_strong', 's_n_weak', 's_s_strong', 's_s_weak']\n",
      "Multiple event values for single event times found. Creating new event value to reflect simultaneous events.\n",
      "Not setting metadata\n",
      "761 matching events found\n",
      "Applying baseline correction (mode: mean)\n",
      "0 projection items activated\n",
      "Using data from preloaded Raw for 761 events and 301 original time points ...\n"
     ]
    },
    {
     "name": "stderr",
     "output_type": "stream",
     "text": [
      "C:\\Users\\juhoffmann\\AppData\\Local\\Temp\\ipykernel_9188\\58317019.py:14: RuntimeWarning: Omitted 1801 annotation(s) that were outside data range.\n",
      "  eeg = mne.io.read_raw_edf(i, preload = True)\n",
      "C:\\Users\\juhoffmann\\AppData\\Local\\Temp\\ipykernel_9188\\58317019.py:17: RuntimeWarning: Fiducial point nasion not found, assuming identity unknown to head transformation\n",
      "  eeg.set_montage(montage, match_case=False) #set montage to raw dataset\n",
      "C:\\Users\\juhoffmann\\AppData\\Local\\Temp\\ipykernel_9188\\58317019.py:17: RuntimeWarning: Not setting position of 1 ecg channel found in montage:\n",
      "['ECG']\n",
      "Consider setting the channel types to be of EEG/sEEG/ECoG/DBS/fNIRS using inst.set_channel_types before calling inst.set_montage, or omit these channels when creating your montage.\n",
      "  eeg.set_montage(montage, match_case=False) #set montage to raw dataset\n"
     ]
    },
    {
     "name": "stdout",
     "output_type": "stream",
     "text": [
      "2 bad epochs dropped\n",
      "NOTE: pick_channels() is a legacy function. New code should use inst.pick(...).\n",
      "NOTE: pick_channels() is a legacy function. New code should use inst.pick(...).\n",
      "NOTE: pick_channels() is a legacy function. New code should use inst.pick(...).\n",
      "NOTE: pick_channels() is a legacy function. New code should use inst.pick(...).\n",
      "NOTE: pick_channels() is a legacy function. New code should use inst.pick(...).\n",
      "NOTE: pick_channels() is a legacy function. New code should use inst.pick(...).\n",
      "NOTE: pick_channels() is a legacy function. New code should use inst.pick(...).\n",
      "NOTE: pick_channels() is a legacy function. New code should use inst.pick(...).\n",
      "NOTE: pick_channels() is a legacy function. New code should use inst.pick(...).\n",
      "Extracting EDF parameters from C:\\Users\\juhoffmann\\Desktop\\EEG_BIDS\\EEG_250Hz\\edf\\sub-100_BackwardMask_Preprocessed.edf...\n",
      "EDF file detected\n",
      "Setting channel info structure...\n",
      "Creating raw.info structure...\n",
      "Reading 0 ... 133124  =      0.000 ...   532.496 secs...\n",
      "Used Annotations descriptions: ['New Segment', 'R', 'R128', 'S 50', 'S 60', 'S 70', 'S120', 'S130', 'S140', 'S150', 'S160', 'S170', 'TEND', 'TPEAK', 'TSTART', 'Time 0', 'h_h_strong', 'h_h_weak', 'h_n_strong', 'h_n_weak', 'h_s_strong', 'h_s_weak', 'n_h_strong', 'n_h_weak', 'n_n_strong', 'n_n_weak', 'n_s_strong', 'n_s_weak', 's_h_strong', 's_h_weak', 's_n_strong', 's_n_weak', 's_s_strong', 's_s_weak']\n",
      "Multiple event values for single event times found. Creating new event value to reflect simultaneous events.\n",
      "Not setting metadata\n",
      "810 matching events found\n",
      "Applying baseline correction (mode: mean)\n",
      "0 projection items activated\n",
      "Using data from preloaded Raw for 810 events and 301 original time points ...\n"
     ]
    },
    {
     "name": "stderr",
     "output_type": "stream",
     "text": [
      "C:\\Users\\juhoffmann\\AppData\\Local\\Temp\\ipykernel_9188\\58317019.py:14: RuntimeWarning: Omitted 1961 annotation(s) that were outside data range.\n",
      "  eeg = mne.io.read_raw_edf(i, preload = True)\n",
      "C:\\Users\\juhoffmann\\AppData\\Local\\Temp\\ipykernel_9188\\58317019.py:17: RuntimeWarning: Fiducial point nasion not found, assuming identity unknown to head transformation\n",
      "  eeg.set_montage(montage, match_case=False) #set montage to raw dataset\n",
      "C:\\Users\\juhoffmann\\AppData\\Local\\Temp\\ipykernel_9188\\58317019.py:17: RuntimeWarning: Not setting position of 1 ecg channel found in montage:\n",
      "['ECG']\n",
      "Consider setting the channel types to be of EEG/sEEG/ECoG/DBS/fNIRS using inst.set_channel_types before calling inst.set_montage, or omit these channels when creating your montage.\n",
      "  eeg.set_montage(montage, match_case=False) #set montage to raw dataset\n"
     ]
    },
    {
     "name": "stdout",
     "output_type": "stream",
     "text": [
      "2 bad epochs dropped\n",
      "NOTE: pick_channels() is a legacy function. New code should use inst.pick(...).\n",
      "NOTE: pick_channels() is a legacy function. New code should use inst.pick(...).\n",
      "NOTE: pick_channels() is a legacy function. New code should use inst.pick(...).\n",
      "NOTE: pick_channels() is a legacy function. New code should use inst.pick(...).\n",
      "NOTE: pick_channels() is a legacy function. New code should use inst.pick(...).\n",
      "NOTE: pick_channels() is a legacy function. New code should use inst.pick(...).\n",
      "NOTE: pick_channels() is a legacy function. New code should use inst.pick(...).\n",
      "NOTE: pick_channels() is a legacy function. New code should use inst.pick(...).\n",
      "NOTE: pick_channels() is a legacy function. New code should use inst.pick(...).\n",
      "Extracting EDF parameters from C:\\Users\\juhoffmann\\Desktop\\EEG_BIDS\\EEG_250Hz\\edf\\sub-101_BackwardMask_Preprocessed.edf...\n",
      "EDF file detected\n",
      "Setting channel info structure...\n",
      "Creating raw.info structure...\n",
      "Reading 0 ... 130499  =      0.000 ...   521.996 secs...\n",
      "Used Annotations descriptions: ['New Segment', 'R', 'R128', 'S 50', 'S 60', 'S 70', 'S120', 'S130', 'S140', 'S150', 'S160', 'S170', 'Time 0', 'h_h_strong', 'h_h_weak', 'h_n_strong', 'h_n_weak', 'h_s_strong', 'h_s_weak', 'n_h_strong', 'n_h_weak', 'n_n_strong', 'n_n_weak', 'n_s_strong', 'n_s_weak', 's_h_strong', 's_h_weak', 's_n_strong', 's_n_weak', 's_s_strong', 's_s_weak']\n",
      "Multiple event values for single event times found. Creating new event value to reflect simultaneous events.\n",
      "Not setting metadata\n",
      "773 matching events found\n",
      "Applying baseline correction (mode: mean)\n",
      "0 projection items activated\n",
      "Using data from preloaded Raw for 773 events and 301 original time points ...\n"
     ]
    },
    {
     "name": "stderr",
     "output_type": "stream",
     "text": [
      "C:\\Users\\juhoffmann\\AppData\\Local\\Temp\\ipykernel_9188\\58317019.py:14: RuntimeWarning: Omitted 1976 annotation(s) that were outside data range.\n",
      "  eeg = mne.io.read_raw_edf(i, preload = True)\n",
      "C:\\Users\\juhoffmann\\AppData\\Local\\Temp\\ipykernel_9188\\58317019.py:17: RuntimeWarning: Fiducial point nasion not found, assuming identity unknown to head transformation\n",
      "  eeg.set_montage(montage, match_case=False) #set montage to raw dataset\n",
      "C:\\Users\\juhoffmann\\AppData\\Local\\Temp\\ipykernel_9188\\58317019.py:17: RuntimeWarning: Not setting position of 1 ecg channel found in montage:\n",
      "['ECG']\n",
      "Consider setting the channel types to be of EEG/sEEG/ECoG/DBS/fNIRS using inst.set_channel_types before calling inst.set_montage, or omit these channels when creating your montage.\n",
      "  eeg.set_montage(montage, match_case=False) #set montage to raw dataset\n"
     ]
    },
    {
     "name": "stdout",
     "output_type": "stream",
     "text": [
      "4 bad epochs dropped\n",
      "NOTE: pick_channels() is a legacy function. New code should use inst.pick(...).\n",
      "NOTE: pick_channels() is a legacy function. New code should use inst.pick(...).\n",
      "NOTE: pick_channels() is a legacy function. New code should use inst.pick(...).\n",
      "NOTE: pick_channels() is a legacy function. New code should use inst.pick(...).\n",
      "NOTE: pick_channels() is a legacy function. New code should use inst.pick(...).\n",
      "NOTE: pick_channels() is a legacy function. New code should use inst.pick(...).\n",
      "NOTE: pick_channels() is a legacy function. New code should use inst.pick(...).\n",
      "NOTE: pick_channels() is a legacy function. New code should use inst.pick(...).\n",
      "NOTE: pick_channels() is a legacy function. New code should use inst.pick(...).\n",
      "Extracting EDF parameters from C:\\Users\\juhoffmann\\Desktop\\EEG_BIDS\\EEG_250Hz\\edf\\sub-102_BackwardMask_Preprocessed.edf...\n",
      "EDF file detected\n",
      "Setting channel info structure...\n",
      "Creating raw.info structure...\n",
      "Reading 0 ... 132374  =      0.000 ...   529.496 secs...\n",
      "Used Annotations descriptions: ['New Segment', 'R', 'R128', 'S 50', 'S 60', 'S 70', 'S120', 'S130', 'S140', 'S150', 'S160', 'S170', 'TEND', 'TPEAK', 'TSTART', 'Time 0', 'h_h_strong', 'h_h_weak', 'h_n_strong', 'h_n_weak', 'h_s_strong', 'h_s_weak', 'n_h_strong', 'n_h_weak', 'n_n_strong', 'n_n_weak', 'n_s_strong', 'n_s_weak', 's_h_strong', 's_h_weak', 's_n_strong', 's_n_weak', 's_s_strong', 's_s_weak']\n",
      "Multiple event values for single event times found. Creating new event value to reflect simultaneous events.\n",
      "Not setting metadata\n",
      "800 matching events found\n",
      "Applying baseline correction (mode: mean)\n",
      "0 projection items activated\n",
      "Using data from preloaded Raw for 800 events and 301 original time points ...\n"
     ]
    },
    {
     "name": "stderr",
     "output_type": "stream",
     "text": [
      "C:\\Users\\juhoffmann\\AppData\\Local\\Temp\\ipykernel_9188\\58317019.py:14: RuntimeWarning: Omitted 1893 annotation(s) that were outside data range.\n",
      "  eeg = mne.io.read_raw_edf(i, preload = True)\n",
      "C:\\Users\\juhoffmann\\AppData\\Local\\Temp\\ipykernel_9188\\58317019.py:17: RuntimeWarning: Fiducial point nasion not found, assuming identity unknown to head transformation\n",
      "  eeg.set_montage(montage, match_case=False) #set montage to raw dataset\n",
      "C:\\Users\\juhoffmann\\AppData\\Local\\Temp\\ipykernel_9188\\58317019.py:17: RuntimeWarning: Not setting position of 1 ecg channel found in montage:\n",
      "['ECG']\n",
      "Consider setting the channel types to be of EEG/sEEG/ECoG/DBS/fNIRS using inst.set_channel_types before calling inst.set_montage, or omit these channels when creating your montage.\n",
      "  eeg.set_montage(montage, match_case=False) #set montage to raw dataset\n"
     ]
    },
    {
     "name": "stdout",
     "output_type": "stream",
     "text": [
      "1 bad epochs dropped\n",
      "NOTE: pick_channels() is a legacy function. New code should use inst.pick(...).\n",
      "NOTE: pick_channels() is a legacy function. New code should use inst.pick(...).\n",
      "NOTE: pick_channels() is a legacy function. New code should use inst.pick(...).\n",
      "NOTE: pick_channels() is a legacy function. New code should use inst.pick(...).\n",
      "NOTE: pick_channels() is a legacy function. New code should use inst.pick(...).\n",
      "NOTE: pick_channels() is a legacy function. New code should use inst.pick(...).\n",
      "NOTE: pick_channels() is a legacy function. New code should use inst.pick(...).\n",
      "NOTE: pick_channels() is a legacy function. New code should use inst.pick(...).\n",
      "NOTE: pick_channels() is a legacy function. New code should use inst.pick(...).\n",
      "Extracting EDF parameters from C:\\Users\\juhoffmann\\Desktop\\EEG_BIDS\\EEG_250Hz\\edf\\sub-103_BackwardMask_Preprocessed.edf...\n",
      "EDF file detected\n",
      "Setting channel info structure...\n",
      "Creating raw.info structure...\n",
      "Reading 0 ... 134999  =      0.000 ...   539.996 secs...\n",
      "Used Annotations descriptions: ['New Segment', 'R', 'R128', 'S 50', 'S 60', 'S 70', 'S120', 'S130', 'S140', 'S150', 'S160', 'S170', 'Time 0', 'h_h_strong', 'h_h_weak', 'h_n_strong', 'h_n_weak', 'h_s_strong', 'h_s_weak', 'n_h_strong', 'n_h_weak', 'n_n_strong', 'n_n_weak', 'n_s_strong', 'n_s_weak', 's_h_strong', 's_h_weak', 's_n_strong', 's_n_weak', 's_s_strong', 's_s_weak']\n",
      "Multiple event values for single event times found. Creating new event value to reflect simultaneous events.\n",
      "Not setting metadata\n",
      "727 matching events found\n",
      "Applying baseline correction (mode: mean)\n",
      "0 projection items activated\n",
      "Using data from preloaded Raw for 727 events and 301 original time points ...\n"
     ]
    },
    {
     "name": "stderr",
     "output_type": "stream",
     "text": [
      "C:\\Users\\juhoffmann\\AppData\\Local\\Temp\\ipykernel_9188\\58317019.py:14: RuntimeWarning: Omitted 1811 annotation(s) that were outside data range.\n",
      "  eeg = mne.io.read_raw_edf(i, preload = True)\n",
      "C:\\Users\\juhoffmann\\AppData\\Local\\Temp\\ipykernel_9188\\58317019.py:17: RuntimeWarning: Fiducial point nasion not found, assuming identity unknown to head transformation\n",
      "  eeg.set_montage(montage, match_case=False) #set montage to raw dataset\n",
      "C:\\Users\\juhoffmann\\AppData\\Local\\Temp\\ipykernel_9188\\58317019.py:17: RuntimeWarning: Not setting position of 1 ecg channel found in montage:\n",
      "['ECG']\n",
      "Consider setting the channel types to be of EEG/sEEG/ECoG/DBS/fNIRS using inst.set_channel_types before calling inst.set_montage, or omit these channels when creating your montage.\n",
      "  eeg.set_montage(montage, match_case=False) #set montage to raw dataset\n"
     ]
    },
    {
     "name": "stdout",
     "output_type": "stream",
     "text": [
      "5 bad epochs dropped\n",
      "NOTE: pick_channels() is a legacy function. New code should use inst.pick(...).\n",
      "NOTE: pick_channels() is a legacy function. New code should use inst.pick(...).\n",
      "NOTE: pick_channels() is a legacy function. New code should use inst.pick(...).\n",
      "NOTE: pick_channels() is a legacy function. New code should use inst.pick(...).\n",
      "NOTE: pick_channels() is a legacy function. New code should use inst.pick(...).\n",
      "NOTE: pick_channels() is a legacy function. New code should use inst.pick(...).\n",
      "NOTE: pick_channels() is a legacy function. New code should use inst.pick(...).\n",
      "NOTE: pick_channels() is a legacy function. New code should use inst.pick(...).\n",
      "NOTE: pick_channels() is a legacy function. New code should use inst.pick(...).\n",
      "Extracting EDF parameters from C:\\Users\\juhoffmann\\Desktop\\EEG_BIDS\\EEG_250Hz\\edf\\sub-104_BackwardMask_Preprocessed.edf...\n",
      "EDF file detected\n",
      "Setting channel info structure...\n",
      "Creating raw.info structure...\n",
      "Reading 0 ... 119624  =      0.000 ...   478.496 secs...\n",
      "Used Annotations descriptions: ['New Segment', 'R', 'R128', 'S 50', 'S 60', 'S 70', 'S120', 'S130', 'S140', 'S150', 'S160', 'S170', 'TEND', 'TPEAK', 'TSTART', 'Time 0', 'h_h_strong', 'h_h_weak', 'h_n_strong', 'h_n_weak', 'h_s_strong', 'h_s_weak', 'n_h_strong', 'n_h_weak', 'n_n_strong', 'n_n_weak', 'n_s_strong', 'n_s_weak', 's_h_strong', 's_h_weak', 's_n_strong', 's_n_weak', 's_s_strong', 's_s_weak']\n",
      "Multiple event values for single event times found. Creating new event value to reflect simultaneous events.\n",
      "Not setting metadata\n",
      "607 matching events found\n",
      "Applying baseline correction (mode: mean)\n",
      "0 projection items activated\n",
      "Using data from preloaded Raw for 607 events and 301 original time points ...\n",
      "1 bad epochs dropped\n"
     ]
    },
    {
     "name": "stderr",
     "output_type": "stream",
     "text": [
      "C:\\Users\\juhoffmann\\AppData\\Local\\Temp\\ipykernel_9188\\58317019.py:14: RuntimeWarning: Omitted 1701 annotation(s) that were outside data range.\n",
      "  eeg = mne.io.read_raw_edf(i, preload = True)\n",
      "C:\\Users\\juhoffmann\\AppData\\Local\\Temp\\ipykernel_9188\\58317019.py:17: RuntimeWarning: Fiducial point nasion not found, assuming identity unknown to head transformation\n",
      "  eeg.set_montage(montage, match_case=False) #set montage to raw dataset\n",
      "C:\\Users\\juhoffmann\\AppData\\Local\\Temp\\ipykernel_9188\\58317019.py:17: RuntimeWarning: Not setting position of 1 ecg channel found in montage:\n",
      "['ECG']\n",
      "Consider setting the channel types to be of EEG/sEEG/ECoG/DBS/fNIRS using inst.set_channel_types before calling inst.set_montage, or omit these channels when creating your montage.\n",
      "  eeg.set_montage(montage, match_case=False) #set montage to raw dataset\n"
     ]
    },
    {
     "name": "stdout",
     "output_type": "stream",
     "text": [
      "NOTE: pick_channels() is a legacy function. New code should use inst.pick(...).\n",
      "NOTE: pick_channels() is a legacy function. New code should use inst.pick(...).\n",
      "NOTE: pick_channels() is a legacy function. New code should use inst.pick(...).\n",
      "NOTE: pick_channels() is a legacy function. New code should use inst.pick(...).\n",
      "NOTE: pick_channels() is a legacy function. New code should use inst.pick(...).\n",
      "NOTE: pick_channels() is a legacy function. New code should use inst.pick(...).\n",
      "NOTE: pick_channels() is a legacy function. New code should use inst.pick(...).\n",
      "NOTE: pick_channels() is a legacy function. New code should use inst.pick(...).\n",
      "NOTE: pick_channels() is a legacy function. New code should use inst.pick(...).\n",
      "Extracting EDF parameters from C:\\Users\\juhoffmann\\Desktop\\EEG_BIDS\\EEG_250Hz\\edf\\sub-105_BackwardMask_Preprocessed.edf...\n",
      "EDF file detected\n",
      "Setting channel info structure...\n",
      "Creating raw.info structure...\n",
      "Reading 0 ... 131624  =      0.000 ...   526.496 secs...\n",
      "Used Annotations descriptions: ['New Segment', 'R', 'R128', 'S 50', 'S 60', 'S 70', 'S120', 'S130', 'S140', 'S150', 'S160', 'S170', 'TSTART', 'Time 0', 'h_h_strong', 'h_h_weak', 'h_n_strong', 'h_n_weak', 'h_s_strong', 'h_s_weak', 'n_h_strong', 'n_h_weak', 'n_n_strong', 'n_n_weak', 'n_s_strong', 'n_s_weak', 's_h_strong', 's_h_weak', 's_n_strong', 's_n_weak', 's_s_strong', 's_s_weak']\n",
      "Multiple event values for single event times found. Creating new event value to reflect simultaneous events.\n",
      "Not setting metadata\n",
      "791 matching events found\n",
      "Applying baseline correction (mode: mean)\n",
      "0 projection items activated\n",
      "Using data from preloaded Raw for 791 events and 301 original time points ...\n"
     ]
    },
    {
     "name": "stderr",
     "output_type": "stream",
     "text": [
      "C:\\Users\\juhoffmann\\AppData\\Local\\Temp\\ipykernel_9188\\58317019.py:14: RuntimeWarning: Omitted 2000 annotation(s) that were outside data range.\n",
      "  eeg = mne.io.read_raw_edf(i, preload = True)\n",
      "C:\\Users\\juhoffmann\\AppData\\Local\\Temp\\ipykernel_9188\\58317019.py:17: RuntimeWarning: Fiducial point nasion not found, assuming identity unknown to head transformation\n",
      "  eeg.set_montage(montage, match_case=False) #set montage to raw dataset\n",
      "C:\\Users\\juhoffmann\\AppData\\Local\\Temp\\ipykernel_9188\\58317019.py:17: RuntimeWarning: Not setting position of 1 ecg channel found in montage:\n",
      "['ECG']\n",
      "Consider setting the channel types to be of EEG/sEEG/ECoG/DBS/fNIRS using inst.set_channel_types before calling inst.set_montage, or omit these channels when creating your montage.\n",
      "  eeg.set_montage(montage, match_case=False) #set montage to raw dataset\n"
     ]
    },
    {
     "name": "stdout",
     "output_type": "stream",
     "text": [
      "1 bad epochs dropped\n",
      "NOTE: pick_channels() is a legacy function. New code should use inst.pick(...).\n",
      "NOTE: pick_channels() is a legacy function. New code should use inst.pick(...).\n",
      "NOTE: pick_channels() is a legacy function. New code should use inst.pick(...).\n",
      "NOTE: pick_channels() is a legacy function. New code should use inst.pick(...).\n",
      "NOTE: pick_channels() is a legacy function. New code should use inst.pick(...).\n",
      "NOTE: pick_channels() is a legacy function. New code should use inst.pick(...).\n",
      "NOTE: pick_channels() is a legacy function. New code should use inst.pick(...).\n",
      "NOTE: pick_channels() is a legacy function. New code should use inst.pick(...).\n",
      "NOTE: pick_channels() is a legacy function. New code should use inst.pick(...).\n",
      "Extracting EDF parameters from C:\\Users\\juhoffmann\\Desktop\\EEG_BIDS\\EEG_250Hz\\edf\\Sub-106_BackwardMask_Preprocessed.edf...\n",
      "EDF file detected\n",
      "Setting channel info structure...\n",
      "Creating raw.info structure...\n",
      "Reading 0 ... 123749  =      0.000 ...   494.996 secs...\n",
      "Used Annotations descriptions: ['New Segment', 'R', 'R128', 'S 50', 'S 60', 'S 70', 'S120', 'S130', 'S140', 'S150', 'S160', 'S170', 'TPEAK', 'TSTART', 'Time 0', 'h_h_strong', 'h_h_weak', 'h_n_strong', 'h_n_weak', 'h_s_strong', 'h_s_weak', 'n_h_strong', 'n_h_weak', 'n_n_strong', 'n_n_weak', 'n_s_strong', 'n_s_weak', 's_h_strong', 's_h_weak', 's_n_strong', 's_n_weak', 's_s_strong', 's_s_weak']\n",
      "Multiple event values for single event times found. Creating new event value to reflect simultaneous events.\n",
      "Not setting metadata\n",
      "757 matching events found\n",
      "Applying baseline correction (mode: mean)\n",
      "0 projection items activated\n",
      "Using data from preloaded Raw for 757 events and 301 original time points ...\n"
     ]
    },
    {
     "name": "stderr",
     "output_type": "stream",
     "text": [
      "C:\\Users\\juhoffmann\\AppData\\Local\\Temp\\ipykernel_9188\\58317019.py:14: RuntimeWarning: Omitted 1777 annotation(s) that were outside data range.\n",
      "  eeg = mne.io.read_raw_edf(i, preload = True)\n",
      "C:\\Users\\juhoffmann\\AppData\\Local\\Temp\\ipykernel_9188\\58317019.py:17: RuntimeWarning: Fiducial point nasion not found, assuming identity unknown to head transformation\n",
      "  eeg.set_montage(montage, match_case=False) #set montage to raw dataset\n",
      "C:\\Users\\juhoffmann\\AppData\\Local\\Temp\\ipykernel_9188\\58317019.py:17: RuntimeWarning: Not setting position of 1 ecg channel found in montage:\n",
      "['ECG']\n",
      "Consider setting the channel types to be of EEG/sEEG/ECoG/DBS/fNIRS using inst.set_channel_types before calling inst.set_montage, or omit these channels when creating your montage.\n",
      "  eeg.set_montage(montage, match_case=False) #set montage to raw dataset\n"
     ]
    },
    {
     "name": "stdout",
     "output_type": "stream",
     "text": [
      "2 bad epochs dropped\n",
      "NOTE: pick_channels() is a legacy function. New code should use inst.pick(...).\n",
      "NOTE: pick_channels() is a legacy function. New code should use inst.pick(...).\n",
      "NOTE: pick_channels() is a legacy function. New code should use inst.pick(...).\n",
      "NOTE: pick_channels() is a legacy function. New code should use inst.pick(...).\n",
      "NOTE: pick_channels() is a legacy function. New code should use inst.pick(...).\n",
      "NOTE: pick_channels() is a legacy function. New code should use inst.pick(...).\n",
      "NOTE: pick_channels() is a legacy function. New code should use inst.pick(...).\n",
      "NOTE: pick_channels() is a legacy function. New code should use inst.pick(...).\n",
      "NOTE: pick_channels() is a legacy function. New code should use inst.pick(...).\n",
      "Extracting EDF parameters from C:\\Users\\juhoffmann\\Desktop\\EEG_BIDS\\EEG_250Hz\\edf\\Sub-107_BackwardMask_Preprocessed.edf...\n",
      "EDF file detected\n",
      "Setting channel info structure...\n",
      "Creating raw.info structure...\n",
      "Reading 0 ... 125999  =      0.000 ...   503.996 secs...\n",
      "Used Annotations descriptions: ['New Segment', 'R', 'R128', 'S 50', 'S 60', 'S 70', 'S120', 'S130', 'S140', 'S150', 'S160', 'S170', 'TEND', 'TPEAK', 'Time 0', 'h_h_strong', 'h_h_weak', 'h_n_strong', 'h_n_weak', 'h_s_strong', 'h_s_weak', 'n_h_strong', 'n_h_weak', 'n_n_strong', 'n_n_weak', 'n_s_strong', 'n_s_weak', 's_h_strong', 's_h_weak', 's_n_strong', 's_n_weak', 's_s_strong', 's_s_weak']\n",
      "Multiple event values for single event times found. Creating new event value to reflect simultaneous events.\n",
      "Not setting metadata\n",
      "742 matching events found\n",
      "Applying baseline correction (mode: mean)\n",
      "0 projection items activated\n",
      "Using data from preloaded Raw for 742 events and 301 original time points ...\n"
     ]
    },
    {
     "name": "stderr",
     "output_type": "stream",
     "text": [
      "C:\\Users\\juhoffmann\\AppData\\Local\\Temp\\ipykernel_9188\\58317019.py:14: RuntimeWarning: Omitted 1869 annotation(s) that were outside data range.\n",
      "  eeg = mne.io.read_raw_edf(i, preload = True)\n",
      "C:\\Users\\juhoffmann\\AppData\\Local\\Temp\\ipykernel_9188\\58317019.py:17: RuntimeWarning: Fiducial point nasion not found, assuming identity unknown to head transformation\n",
      "  eeg.set_montage(montage, match_case=False) #set montage to raw dataset\n",
      "C:\\Users\\juhoffmann\\AppData\\Local\\Temp\\ipykernel_9188\\58317019.py:17: RuntimeWarning: Not setting position of 1 ecg channel found in montage:\n",
      "['ECG']\n",
      "Consider setting the channel types to be of EEG/sEEG/ECoG/DBS/fNIRS using inst.set_channel_types before calling inst.set_montage, or omit these channels when creating your montage.\n",
      "  eeg.set_montage(montage, match_case=False) #set montage to raw dataset\n"
     ]
    },
    {
     "name": "stdout",
     "output_type": "stream",
     "text": [
      "3 bad epochs dropped\n",
      "NOTE: pick_channels() is a legacy function. New code should use inst.pick(...).\n",
      "NOTE: pick_channels() is a legacy function. New code should use inst.pick(...).\n",
      "NOTE: pick_channels() is a legacy function. New code should use inst.pick(...).\n",
      "NOTE: pick_channels() is a legacy function. New code should use inst.pick(...).\n",
      "NOTE: pick_channels() is a legacy function. New code should use inst.pick(...).\n",
      "NOTE: pick_channels() is a legacy function. New code should use inst.pick(...).\n",
      "NOTE: pick_channels() is a legacy function. New code should use inst.pick(...).\n",
      "NOTE: pick_channels() is a legacy function. New code should use inst.pick(...).\n",
      "NOTE: pick_channels() is a legacy function. New code should use inst.pick(...).\n",
      "Extracting EDF parameters from C:\\Users\\juhoffmann\\Desktop\\EEG_BIDS\\EEG_250Hz\\edf\\Sub-108_BackwardMask_Preprocessed.edf...\n",
      "EDF file detected\n",
      "Setting channel info structure...\n",
      "Creating raw.info structure...\n",
      "Reading 0 ... 130874  =      0.000 ...   523.496 secs...\n",
      "Used Annotations descriptions: ['New Segment', 'R', 'R128', 'S 50', 'S 60', 'S 70', 'S120', 'S130', 'S140', 'S150', 'S160', 'S170', 'TEND', 'Time 0', 'h_h_strong', 'h_h_weak', 'h_n_strong', 'h_n_weak', 'h_s_strong', 'h_s_weak', 'n_h_strong', 'n_h_weak', 'n_n_strong', 'n_n_weak', 'n_s_strong', 'n_s_weak', 's_h_strong', 's_h_weak', 's_n_strong', 's_n_weak', 's_s_strong', 's_s_weak']\n",
      "Multiple event values for single event times found. Creating new event value to reflect simultaneous events.\n",
      "Not setting metadata\n",
      "790 matching events found\n",
      "Applying baseline correction (mode: mean)\n",
      "0 projection items activated\n",
      "Using data from preloaded Raw for 790 events and 301 original time points ...\n"
     ]
    },
    {
     "name": "stderr",
     "output_type": "stream",
     "text": [
      "C:\\Users\\juhoffmann\\AppData\\Local\\Temp\\ipykernel_9188\\58317019.py:14: RuntimeWarning: Omitted 1933 annotation(s) that were outside data range.\n",
      "  eeg = mne.io.read_raw_edf(i, preload = True)\n",
      "C:\\Users\\juhoffmann\\AppData\\Local\\Temp\\ipykernel_9188\\58317019.py:17: RuntimeWarning: Fiducial point nasion not found, assuming identity unknown to head transformation\n",
      "  eeg.set_montage(montage, match_case=False) #set montage to raw dataset\n",
      "C:\\Users\\juhoffmann\\AppData\\Local\\Temp\\ipykernel_9188\\58317019.py:17: RuntimeWarning: Not setting position of 1 ecg channel found in montage:\n",
      "['ECG']\n",
      "Consider setting the channel types to be of EEG/sEEG/ECoG/DBS/fNIRS using inst.set_channel_types before calling inst.set_montage, or omit these channels when creating your montage.\n",
      "  eeg.set_montage(montage, match_case=False) #set montage to raw dataset\n"
     ]
    },
    {
     "name": "stdout",
     "output_type": "stream",
     "text": [
      "2 bad epochs dropped\n",
      "NOTE: pick_channels() is a legacy function. New code should use inst.pick(...).\n",
      "NOTE: pick_channels() is a legacy function. New code should use inst.pick(...).\n",
      "NOTE: pick_channels() is a legacy function. New code should use inst.pick(...).\n",
      "NOTE: pick_channels() is a legacy function. New code should use inst.pick(...).\n",
      "NOTE: pick_channels() is a legacy function. New code should use inst.pick(...).\n",
      "NOTE: pick_channels() is a legacy function. New code should use inst.pick(...).\n",
      "NOTE: pick_channels() is a legacy function. New code should use inst.pick(...).\n",
      "NOTE: pick_channels() is a legacy function. New code should use inst.pick(...).\n",
      "NOTE: pick_channels() is a legacy function. New code should use inst.pick(...).\n",
      "Extracting EDF parameters from C:\\Users\\juhoffmann\\Desktop\\EEG_BIDS\\EEG_250Hz\\edf\\Sub-109_BackwardMask_Preprocessed.edf...\n",
      "EDF file detected\n",
      "Setting channel info structure...\n",
      "Creating raw.info structure...\n",
      "Reading 0 ... 131999  =      0.000 ...   527.996 secs...\n",
      "Used Annotations descriptions: ['New Segment', 'R', 'R128', 'S 50', 'S 60', 'S 70', 'S120', 'S130', 'S140', 'S150', 'S160', 'S170', 'Time 0', 'h_h_strong', 'h_h_weak', 'h_n_strong', 'h_n_weak', 'h_s_strong', 'h_s_weak', 'n_h_strong', 'n_h_weak', 'n_n_strong', 'n_n_weak', 'n_s_strong', 'n_s_weak', 's_h_strong', 's_h_weak', 's_n_strong', 's_n_weak', 's_s_strong', 's_s_weak']\n",
      "Multiple event values for single event times found. Creating new event value to reflect simultaneous events.\n",
      "Not setting metadata\n",
      "828 matching events found\n",
      "Applying baseline correction (mode: mean)\n",
      "0 projection items activated\n",
      "Using data from preloaded Raw for 828 events and 301 original time points ...\n"
     ]
    },
    {
     "name": "stderr",
     "output_type": "stream",
     "text": [
      "C:\\Users\\juhoffmann\\AppData\\Local\\Temp\\ipykernel_9188\\58317019.py:14: RuntimeWarning: Omitted 1964 annotation(s) that were outside data range.\n",
      "  eeg = mne.io.read_raw_edf(i, preload = True)\n",
      "C:\\Users\\juhoffmann\\AppData\\Local\\Temp\\ipykernel_9188\\58317019.py:17: RuntimeWarning: Fiducial point nasion not found, assuming identity unknown to head transformation\n",
      "  eeg.set_montage(montage, match_case=False) #set montage to raw dataset\n",
      "C:\\Users\\juhoffmann\\AppData\\Local\\Temp\\ipykernel_9188\\58317019.py:17: RuntimeWarning: Not setting position of 1 ecg channel found in montage:\n",
      "['ECG']\n",
      "Consider setting the channel types to be of EEG/sEEG/ECoG/DBS/fNIRS using inst.set_channel_types before calling inst.set_montage, or omit these channels when creating your montage.\n",
      "  eeg.set_montage(montage, match_case=False) #set montage to raw dataset\n"
     ]
    },
    {
     "name": "stdout",
     "output_type": "stream",
     "text": [
      "5 bad epochs dropped\n",
      "NOTE: pick_channels() is a legacy function. New code should use inst.pick(...).\n",
      "NOTE: pick_channels() is a legacy function. New code should use inst.pick(...).\n",
      "NOTE: pick_channels() is a legacy function. New code should use inst.pick(...).\n",
      "NOTE: pick_channels() is a legacy function. New code should use inst.pick(...).\n",
      "NOTE: pick_channels() is a legacy function. New code should use inst.pick(...).\n",
      "NOTE: pick_channels() is a legacy function. New code should use inst.pick(...).\n",
      "NOTE: pick_channels() is a legacy function. New code should use inst.pick(...).\n",
      "NOTE: pick_channels() is a legacy function. New code should use inst.pick(...).\n",
      "NOTE: pick_channels() is a legacy function. New code should use inst.pick(...).\n",
      "Extracting EDF parameters from C:\\Users\\juhoffmann\\Desktop\\EEG_BIDS\\EEG_250Hz\\edf\\Sub-110_BackwardMask_Preprocessed.edf...\n",
      "EDF file detected\n",
      "Setting channel info structure...\n",
      "Creating raw.info structure...\n",
      "Reading 0 ... 134249  =      0.000 ...   536.996 secs...\n",
      "Used Annotations descriptions: ['New Segment', 'R', 'R128', 'S 50', 'S 60', 'S 70', 'S120', 'S130', 'S140', 'S150', 'S160', 'S170', 'TEND', 'TPEAK', 'TSTART', 'Time 0', 'h_h_strong', 'h_h_weak', 'h_n_strong', 'h_n_weak', 'h_s_strong', 'h_s_weak', 'n_h_strong', 'n_h_weak', 'n_n_strong', 'n_n_weak', 'n_s_strong', 'n_s_weak', 's_h_strong', 's_h_weak', 's_n_strong', 's_n_weak', 's_s_strong', 's_s_weak']\n",
      "Multiple event values for single event times found. Creating new event value to reflect simultaneous events.\n",
      "Not setting metadata\n",
      "807 matching events found\n",
      "Applying baseline correction (mode: mean)\n",
      "0 projection items activated\n",
      "Using data from preloaded Raw for 807 events and 301 original time points ...\n"
     ]
    },
    {
     "name": "stderr",
     "output_type": "stream",
     "text": [
      "C:\\Users\\juhoffmann\\AppData\\Local\\Temp\\ipykernel_9188\\58317019.py:14: RuntimeWarning: Omitted 1849 annotation(s) that were outside data range.\n",
      "  eeg = mne.io.read_raw_edf(i, preload = True)\n",
      "C:\\Users\\juhoffmann\\AppData\\Local\\Temp\\ipykernel_9188\\58317019.py:17: RuntimeWarning: Fiducial point nasion not found, assuming identity unknown to head transformation\n",
      "  eeg.set_montage(montage, match_case=False) #set montage to raw dataset\n",
      "C:\\Users\\juhoffmann\\AppData\\Local\\Temp\\ipykernel_9188\\58317019.py:17: RuntimeWarning: Not setting position of 1 ecg channel found in montage:\n",
      "['ECG']\n",
      "Consider setting the channel types to be of EEG/sEEG/ECoG/DBS/fNIRS using inst.set_channel_types before calling inst.set_montage, or omit these channels when creating your montage.\n",
      "  eeg.set_montage(montage, match_case=False) #set montage to raw dataset\n"
     ]
    },
    {
     "name": "stdout",
     "output_type": "stream",
     "text": [
      "2 bad epochs dropped\n",
      "NOTE: pick_channels() is a legacy function. New code should use inst.pick(...).\n",
      "NOTE: pick_channels() is a legacy function. New code should use inst.pick(...).\n",
      "NOTE: pick_channels() is a legacy function. New code should use inst.pick(...).\n",
      "NOTE: pick_channels() is a legacy function. New code should use inst.pick(...).\n",
      "NOTE: pick_channels() is a legacy function. New code should use inst.pick(...).\n",
      "NOTE: pick_channels() is a legacy function. New code should use inst.pick(...).\n",
      "NOTE: pick_channels() is a legacy function. New code should use inst.pick(...).\n",
      "NOTE: pick_channels() is a legacy function. New code should use inst.pick(...).\n",
      "NOTE: pick_channels() is a legacy function. New code should use inst.pick(...).\n",
      "Extracting EDF parameters from C:\\Users\\juhoffmann\\Desktop\\EEG_BIDS\\EEG_250Hz\\edf\\Sub-111_BackwardMask_Preprocessed.edf...\n",
      "EDF file detected\n",
      "Setting channel info structure...\n",
      "Creating raw.info structure...\n",
      "Reading 0 ... 133874  =      0.000 ...   535.496 secs...\n",
      "Used Annotations descriptions: ['New Segment', 'R', 'R128', 'S 50', 'S 60', 'S 70', 'S120', 'S130', 'S140', 'S150', 'S160', 'S170', 'TEND', 'Time 0', 'h_h_strong', 'h_h_weak', 'h_n_strong', 'h_n_weak', 'h_s_strong', 'h_s_weak', 'n_h_strong', 'n_h_weak', 'n_n_strong', 'n_n_weak', 'n_s_strong', 'n_s_weak', 's_h_strong', 's_h_weak', 's_n_strong', 's_n_weak', 's_s_strong', 's_s_weak']\n",
      "Multiple event values for single event times found. Creating new event value to reflect simultaneous events.\n",
      "Not setting metadata\n",
      "793 matching events found\n",
      "Applying baseline correction (mode: mean)\n",
      "0 projection items activated\n",
      "Using data from preloaded Raw for 793 events and 301 original time points ...\n"
     ]
    },
    {
     "name": "stderr",
     "output_type": "stream",
     "text": [
      "C:\\Users\\juhoffmann\\AppData\\Local\\Temp\\ipykernel_9188\\58317019.py:14: RuntimeWarning: Omitted 1833 annotation(s) that were outside data range.\n",
      "  eeg = mne.io.read_raw_edf(i, preload = True)\n",
      "C:\\Users\\juhoffmann\\AppData\\Local\\Temp\\ipykernel_9188\\58317019.py:17: RuntimeWarning: Fiducial point nasion not found, assuming identity unknown to head transformation\n",
      "  eeg.set_montage(montage, match_case=False) #set montage to raw dataset\n",
      "C:\\Users\\juhoffmann\\AppData\\Local\\Temp\\ipykernel_9188\\58317019.py:17: RuntimeWarning: Not setting position of 1 ecg channel found in montage:\n",
      "['ECG']\n",
      "Consider setting the channel types to be of EEG/sEEG/ECoG/DBS/fNIRS using inst.set_channel_types before calling inst.set_montage, or omit these channels when creating your montage.\n",
      "  eeg.set_montage(montage, match_case=False) #set montage to raw dataset\n"
     ]
    },
    {
     "name": "stdout",
     "output_type": "stream",
     "text": [
      "4 bad epochs dropped\n",
      "NOTE: pick_channels() is a legacy function. New code should use inst.pick(...).\n",
      "NOTE: pick_channels() is a legacy function. New code should use inst.pick(...).\n",
      "NOTE: pick_channels() is a legacy function. New code should use inst.pick(...).\n",
      "NOTE: pick_channels() is a legacy function. New code should use inst.pick(...).\n",
      "NOTE: pick_channels() is a legacy function. New code should use inst.pick(...).\n",
      "NOTE: pick_channels() is a legacy function. New code should use inst.pick(...).\n",
      "NOTE: pick_channels() is a legacy function. New code should use inst.pick(...).\n",
      "NOTE: pick_channels() is a legacy function. New code should use inst.pick(...).\n",
      "NOTE: pick_channels() is a legacy function. New code should use inst.pick(...).\n",
      "Extracting EDF parameters from C:\\Users\\juhoffmann\\Desktop\\EEG_BIDS\\EEG_250Hz\\edf\\Sub-112_BackwardMask_Preprocessed.edf...\n",
      "EDF file detected\n",
      "Setting channel info structure...\n",
      "Creating raw.info structure...\n",
      "Reading 0 ... 125624  =      0.000 ...   502.496 secs...\n",
      "Used Annotations descriptions: ['New Segment', 'R', 'R128', 'S 50', 'S 60', 'S 70', 'S120', 'S130', 'S140', 'S150', 'S160', 'S170', 'Time 0', 'h_h_strong', 'h_h_weak', 'h_n_strong', 'h_n_weak', 'h_s_strong', 'h_s_weak', 'n_h_strong', 'n_h_weak', 'n_n_strong', 'n_n_weak', 'n_s_strong', 'n_s_weak', 's_h_strong', 's_h_weak', 's_n_strong', 's_n_weak', 's_s_strong', 's_s_weak']\n",
      "Multiple event values for single event times found. Creating new event value to reflect simultaneous events.\n",
      "Not setting metadata\n",
      "709 matching events found\n",
      "Applying baseline correction (mode: mean)\n",
      "0 projection items activated\n",
      "Using data from preloaded Raw for 709 events and 301 original time points ...\n"
     ]
    },
    {
     "name": "stderr",
     "output_type": "stream",
     "text": [
      "C:\\Users\\juhoffmann\\AppData\\Local\\Temp\\ipykernel_9188\\58317019.py:14: RuntimeWarning: Omitted 1964 annotation(s) that were outside data range.\n",
      "  eeg = mne.io.read_raw_edf(i, preload = True)\n",
      "C:\\Users\\juhoffmann\\AppData\\Local\\Temp\\ipykernel_9188\\58317019.py:17: RuntimeWarning: Fiducial point nasion not found, assuming identity unknown to head transformation\n",
      "  eeg.set_montage(montage, match_case=False) #set montage to raw dataset\n",
      "C:\\Users\\juhoffmann\\AppData\\Local\\Temp\\ipykernel_9188\\58317019.py:17: RuntimeWarning: Not setting position of 1 ecg channel found in montage:\n",
      "['ECG']\n",
      "Consider setting the channel types to be of EEG/sEEG/ECoG/DBS/fNIRS using inst.set_channel_types before calling inst.set_montage, or omit these channels when creating your montage.\n",
      "  eeg.set_montage(montage, match_case=False) #set montage to raw dataset\n"
     ]
    },
    {
     "name": "stdout",
     "output_type": "stream",
     "text": [
      "3 bad epochs dropped\n",
      "NOTE: pick_channels() is a legacy function. New code should use inst.pick(...).\n",
      "NOTE: pick_channels() is a legacy function. New code should use inst.pick(...).\n",
      "NOTE: pick_channels() is a legacy function. New code should use inst.pick(...).\n",
      "NOTE: pick_channels() is a legacy function. New code should use inst.pick(...).\n",
      "NOTE: pick_channels() is a legacy function. New code should use inst.pick(...).\n",
      "NOTE: pick_channels() is a legacy function. New code should use inst.pick(...).\n",
      "NOTE: pick_channels() is a legacy function. New code should use inst.pick(...).\n",
      "NOTE: pick_channels() is a legacy function. New code should use inst.pick(...).\n",
      "NOTE: pick_channels() is a legacy function. New code should use inst.pick(...).\n",
      "Extracting EDF parameters from C:\\Users\\juhoffmann\\Desktop\\EEG_BIDS\\EEG_250Hz\\edf\\Sub-113_BackwardMask_Preprocessed.edf...\n",
      "EDF file detected\n",
      "Setting channel info structure...\n",
      "Creating raw.info structure...\n",
      "Reading 0 ... 123749  =      0.000 ...   494.996 secs...\n",
      "Used Annotations descriptions: ['New Segment', 'R', 'R128', 'S 50', 'S 60', 'S 70', 'S120', 'S130', 'S140', 'S150', 'S160', 'S170', 'TPEAK', 'TSTART', 'Time 0', 'h_h_strong', 'h_h_weak', 'h_n_strong', 'h_n_weak', 'h_s_strong', 'h_s_weak', 'n_h_strong', 'n_h_weak', 'n_n_strong', 'n_n_weak', 'n_s_strong', 'n_s_weak', 's_h_strong', 's_h_weak', 's_n_strong', 's_n_weak', 's_s_strong', 's_s_weak']\n",
      "Multiple event values for single event times found. Creating new event value to reflect simultaneous events.\n",
      "Not setting metadata\n",
      "711 matching events found\n",
      "Applying baseline correction (mode: mean)\n",
      "0 projection items activated\n",
      "Using data from preloaded Raw for 711 events and 301 original time points ...\n"
     ]
    },
    {
     "name": "stderr",
     "output_type": "stream",
     "text": [
      "C:\\Users\\juhoffmann\\AppData\\Local\\Temp\\ipykernel_9188\\58317019.py:14: RuntimeWarning: Omitted 1801 annotation(s) that were outside data range.\n",
      "  eeg = mne.io.read_raw_edf(i, preload = True)\n",
      "C:\\Users\\juhoffmann\\AppData\\Local\\Temp\\ipykernel_9188\\58317019.py:17: RuntimeWarning: Fiducial point nasion not found, assuming identity unknown to head transformation\n",
      "  eeg.set_montage(montage, match_case=False) #set montage to raw dataset\n",
      "C:\\Users\\juhoffmann\\AppData\\Local\\Temp\\ipykernel_9188\\58317019.py:17: RuntimeWarning: Not setting position of 1 ecg channel found in montage:\n",
      "['ECG']\n",
      "Consider setting the channel types to be of EEG/sEEG/ECoG/DBS/fNIRS using inst.set_channel_types before calling inst.set_montage, or omit these channels when creating your montage.\n",
      "  eeg.set_montage(montage, match_case=False) #set montage to raw dataset\n"
     ]
    },
    {
     "name": "stdout",
     "output_type": "stream",
     "text": [
      "1 bad epochs dropped\n",
      "NOTE: pick_channels() is a legacy function. New code should use inst.pick(...).\n",
      "NOTE: pick_channels() is a legacy function. New code should use inst.pick(...).\n",
      "NOTE: pick_channels() is a legacy function. New code should use inst.pick(...).\n",
      "NOTE: pick_channels() is a legacy function. New code should use inst.pick(...).\n",
      "NOTE: pick_channels() is a legacy function. New code should use inst.pick(...).\n",
      "NOTE: pick_channels() is a legacy function. New code should use inst.pick(...).\n",
      "NOTE: pick_channels() is a legacy function. New code should use inst.pick(...).\n",
      "NOTE: pick_channels() is a legacy function. New code should use inst.pick(...).\n",
      "NOTE: pick_channels() is a legacy function. New code should use inst.pick(...).\n",
      "Extracting EDF parameters from C:\\Users\\juhoffmann\\Desktop\\EEG_BIDS\\EEG_250Hz\\edf\\Sub-114_BackwardMask_Preprocessed.edf...\n",
      "EDF file detected\n",
      "Setting channel info structure...\n",
      "Creating raw.info structure...\n",
      "Reading 0 ... 132374  =      0.000 ...   529.496 secs...\n",
      "Used Annotations descriptions: ['New Segment', 'R', 'R128', 'S 50', 'S 60', 'S 70', 'S120', 'S130', 'S140', 'S150', 'S160', 'S170', 'Time 0', 'h_h_strong', 'h_h_weak', 'h_n_strong', 'h_n_weak', 'h_s_strong', 'h_s_weak', 'n_h_strong', 'n_h_weak', 'n_n_strong', 'n_n_weak', 'n_s_strong', 'n_s_weak', 's_h_strong', 's_h_weak', 's_n_strong', 's_n_weak', 's_s_strong', 's_s_weak']\n",
      "Multiple event values for single event times found. Creating new event value to reflect simultaneous events.\n",
      "Not setting metadata\n",
      "771 matching events found\n",
      "Applying baseline correction (mode: mean)\n",
      "0 projection items activated\n",
      "Using data from preloaded Raw for 771 events and 301 original time points ...\n"
     ]
    },
    {
     "name": "stderr",
     "output_type": "stream",
     "text": [
      "C:\\Users\\juhoffmann\\AppData\\Local\\Temp\\ipykernel_9188\\58317019.py:14: RuntimeWarning: Omitted 1822 annotation(s) that were outside data range.\n",
      "  eeg = mne.io.read_raw_edf(i, preload = True)\n",
      "C:\\Users\\juhoffmann\\AppData\\Local\\Temp\\ipykernel_9188\\58317019.py:17: RuntimeWarning: Fiducial point nasion not found, assuming identity unknown to head transformation\n",
      "  eeg.set_montage(montage, match_case=False) #set montage to raw dataset\n",
      "C:\\Users\\juhoffmann\\AppData\\Local\\Temp\\ipykernel_9188\\58317019.py:17: RuntimeWarning: Not setting position of 1 ecg channel found in montage:\n",
      "['ECG']\n",
      "Consider setting the channel types to be of EEG/sEEG/ECoG/DBS/fNIRS using inst.set_channel_types before calling inst.set_montage, or omit these channels when creating your montage.\n",
      "  eeg.set_montage(montage, match_case=False) #set montage to raw dataset\n"
     ]
    },
    {
     "name": "stdout",
     "output_type": "stream",
     "text": [
      "5 bad epochs dropped\n",
      "NOTE: pick_channels() is a legacy function. New code should use inst.pick(...).\n",
      "NOTE: pick_channels() is a legacy function. New code should use inst.pick(...).\n",
      "NOTE: pick_channels() is a legacy function. New code should use inst.pick(...).\n",
      "NOTE: pick_channels() is a legacy function. New code should use inst.pick(...).\n",
      "NOTE: pick_channels() is a legacy function. New code should use inst.pick(...).\n",
      "NOTE: pick_channels() is a legacy function. New code should use inst.pick(...).\n",
      "NOTE: pick_channels() is a legacy function. New code should use inst.pick(...).\n",
      "NOTE: pick_channels() is a legacy function. New code should use inst.pick(...).\n",
      "NOTE: pick_channels() is a legacy function. New code should use inst.pick(...).\n",
      "Extracting EDF parameters from C:\\Users\\juhoffmann\\Desktop\\EEG_BIDS\\EEG_250Hz\\edf\\Sub-115_BackwardMask_Preprocessed.edf...\n",
      "EDF file detected\n",
      "Setting channel info structure...\n",
      "Creating raw.info structure...\n",
      "Reading 0 ... 120749  =      0.000 ...   482.996 secs...\n",
      "Used Annotations descriptions: ['New Segment', 'R', 'R128', 'S 50', 'S 60', 'S 70', 'S120', 'S130', 'S140', 'S150', 'S160', 'S170', 'TEND', 'TPEAK', 'Time 0', 'h_h_strong', 'h_h_weak', 'h_n_strong', 'h_n_weak', 'h_s_strong', 'h_s_weak', 'n_h_strong', 'n_h_weak', 'n_n_strong', 'n_n_weak', 'n_s_strong', 'n_s_weak', 's_h_strong', 's_h_weak', 's_n_strong', 's_n_weak', 's_s_strong', 's_s_weak']\n",
      "Multiple event values for single event times found. Creating new event value to reflect simultaneous events.\n",
      "Not setting metadata\n",
      "588 matching events found\n",
      "Applying baseline correction (mode: mean)\n",
      "0 projection items activated\n",
      "Using data from preloaded Raw for 588 events and 301 original time points ...\n",
      "1 bad epochs dropped\n"
     ]
    },
    {
     "name": "stderr",
     "output_type": "stream",
     "text": [
      "C:\\Users\\juhoffmann\\AppData\\Local\\Temp\\ipykernel_9188\\58317019.py:14: RuntimeWarning: Omitted 1851 annotation(s) that were outside data range.\n",
      "  eeg = mne.io.read_raw_edf(i, preload = True)\n",
      "C:\\Users\\juhoffmann\\AppData\\Local\\Temp\\ipykernel_9188\\58317019.py:17: RuntimeWarning: Fiducial point nasion not found, assuming identity unknown to head transformation\n",
      "  eeg.set_montage(montage, match_case=False) #set montage to raw dataset\n",
      "C:\\Users\\juhoffmann\\AppData\\Local\\Temp\\ipykernel_9188\\58317019.py:17: RuntimeWarning: Not setting position of 1 ecg channel found in montage:\n",
      "['ECG']\n",
      "Consider setting the channel types to be of EEG/sEEG/ECoG/DBS/fNIRS using inst.set_channel_types before calling inst.set_montage, or omit these channels when creating your montage.\n",
      "  eeg.set_montage(montage, match_case=False) #set montage to raw dataset\n"
     ]
    },
    {
     "name": "stdout",
     "output_type": "stream",
     "text": [
      "NOTE: pick_channels() is a legacy function. New code should use inst.pick(...).\n",
      "NOTE: pick_channels() is a legacy function. New code should use inst.pick(...).\n",
      "NOTE: pick_channels() is a legacy function. New code should use inst.pick(...).\n",
      "NOTE: pick_channels() is a legacy function. New code should use inst.pick(...).\n",
      "NOTE: pick_channels() is a legacy function. New code should use inst.pick(...).\n",
      "NOTE: pick_channels() is a legacy function. New code should use inst.pick(...).\n",
      "NOTE: pick_channels() is a legacy function. New code should use inst.pick(...).\n",
      "NOTE: pick_channels() is a legacy function. New code should use inst.pick(...).\n",
      "NOTE: pick_channels() is a legacy function. New code should use inst.pick(...).\n",
      "Extracting EDF parameters from C:\\Users\\juhoffmann\\Desktop\\EEG_BIDS\\EEG_250Hz\\edf\\Sub-116_BackwardMask_Preprocessed.edf...\n",
      "EDF file detected\n",
      "Setting channel info structure...\n",
      "Creating raw.info structure...\n",
      "Reading 0 ... 129749  =      0.000 ...   518.996 secs...\n",
      "Used Annotations descriptions: ['New Segment', 'R', 'R128', 'S 50', 'S 60', 'S 70', 'S120', 'S130', 'S140', 'S150', 'S160', 'S170', 'TPEAK', 'TSTART', 'Time 0', 'h_h_strong', 'h_h_weak', 'h_n_strong', 'h_n_weak', 'h_s_strong', 'h_s_weak', 'n_h_strong', 'n_h_weak', 'n_n_strong', 'n_n_weak', 'n_s_strong', 'n_s_weak', 's_h_strong', 's_h_weak', 's_n_strong', 's_n_weak', 's_s_strong', 's_s_weak']\n",
      "Multiple event values for single event times found. Creating new event value to reflect simultaneous events.\n",
      "Not setting metadata\n",
      "738 matching events found\n",
      "Applying baseline correction (mode: mean)\n",
      "0 projection items activated\n",
      "Using data from preloaded Raw for 738 events and 301 original time points ...\n"
     ]
    },
    {
     "name": "stderr",
     "output_type": "stream",
     "text": [
      "C:\\Users\\juhoffmann\\AppData\\Local\\Temp\\ipykernel_9188\\58317019.py:14: RuntimeWarning: Omitted 1865 annotation(s) that were outside data range.\n",
      "  eeg = mne.io.read_raw_edf(i, preload = True)\n",
      "C:\\Users\\juhoffmann\\AppData\\Local\\Temp\\ipykernel_9188\\58317019.py:17: RuntimeWarning: Fiducial point nasion not found, assuming identity unknown to head transformation\n",
      "  eeg.set_montage(montage, match_case=False) #set montage to raw dataset\n",
      "C:\\Users\\juhoffmann\\AppData\\Local\\Temp\\ipykernel_9188\\58317019.py:17: RuntimeWarning: Not setting position of 1 ecg channel found in montage:\n",
      "['ECG']\n",
      "Consider setting the channel types to be of EEG/sEEG/ECoG/DBS/fNIRS using inst.set_channel_types before calling inst.set_montage, or omit these channels when creating your montage.\n",
      "  eeg.set_montage(montage, match_case=False) #set montage to raw dataset\n"
     ]
    },
    {
     "name": "stdout",
     "output_type": "stream",
     "text": [
      "1 bad epochs dropped\n",
      "NOTE: pick_channels() is a legacy function. New code should use inst.pick(...).\n",
      "NOTE: pick_channels() is a legacy function. New code should use inst.pick(...).\n",
      "NOTE: pick_channels() is a legacy function. New code should use inst.pick(...).\n",
      "NOTE: pick_channels() is a legacy function. New code should use inst.pick(...).\n",
      "NOTE: pick_channels() is a legacy function. New code should use inst.pick(...).\n",
      "NOTE: pick_channels() is a legacy function. New code should use inst.pick(...).\n",
      "NOTE: pick_channels() is a legacy function. New code should use inst.pick(...).\n",
      "NOTE: pick_channels() is a legacy function. New code should use inst.pick(...).\n",
      "NOTE: pick_channels() is a legacy function. New code should use inst.pick(...).\n",
      "Extracting EDF parameters from C:\\Users\\juhoffmann\\Desktop\\EEG_BIDS\\EEG_250Hz\\edf\\Sub-117_BackwardMask_Preprocessed.edf...\n",
      "EDF file detected\n",
      "Setting channel info structure...\n",
      "Creating raw.info structure...\n",
      "Reading 0 ... 134249  =      0.000 ...   536.996 secs...\n",
      "Used Annotations descriptions: ['New Segment', 'R', 'R128', 'S 50', 'S 60', 'S 70', 'S120', 'S130', 'S140', 'S150', 'S160', 'S170', 'Time 0', 'h_h_strong', 'h_h_weak', 'h_n_strong', 'h_n_weak', 'h_s_strong', 'h_s_weak', 'n_h_strong', 'n_h_weak', 'n_n_strong', 'n_n_weak', 'n_s_strong', 'n_s_weak', 's_h_strong', 's_h_weak', 's_n_strong', 's_n_weak', 's_s_strong', 's_s_weak']\n",
      "Multiple event values for single event times found. Creating new event value to reflect simultaneous events.\n",
      "Not setting metadata\n",
      "728 matching events found\n",
      "Applying baseline correction (mode: mean)\n",
      "0 projection items activated\n",
      "Using data from preloaded Raw for 728 events and 301 original time points ...\n"
     ]
    },
    {
     "name": "stderr",
     "output_type": "stream",
     "text": [
      "C:\\Users\\juhoffmann\\AppData\\Local\\Temp\\ipykernel_9188\\58317019.py:14: RuntimeWarning: Omitted 1816 annotation(s) that were outside data range.\n",
      "  eeg = mne.io.read_raw_edf(i, preload = True)\n",
      "C:\\Users\\juhoffmann\\AppData\\Local\\Temp\\ipykernel_9188\\58317019.py:17: RuntimeWarning: Fiducial point nasion not found, assuming identity unknown to head transformation\n",
      "  eeg.set_montage(montage, match_case=False) #set montage to raw dataset\n",
      "C:\\Users\\juhoffmann\\AppData\\Local\\Temp\\ipykernel_9188\\58317019.py:17: RuntimeWarning: Not setting position of 1 ecg channel found in montage:\n",
      "['ECG']\n",
      "Consider setting the channel types to be of EEG/sEEG/ECoG/DBS/fNIRS using inst.set_channel_types before calling inst.set_montage, or omit these channels when creating your montage.\n",
      "  eeg.set_montage(montage, match_case=False) #set montage to raw dataset\n"
     ]
    },
    {
     "name": "stdout",
     "output_type": "stream",
     "text": [
      "2 bad epochs dropped\n",
      "NOTE: pick_channels() is a legacy function. New code should use inst.pick(...).\n",
      "NOTE: pick_channels() is a legacy function. New code should use inst.pick(...).\n",
      "NOTE: pick_channels() is a legacy function. New code should use inst.pick(...).\n",
      "NOTE: pick_channels() is a legacy function. New code should use inst.pick(...).\n",
      "NOTE: pick_channels() is a legacy function. New code should use inst.pick(...).\n",
      "NOTE: pick_channels() is a legacy function. New code should use inst.pick(...).\n",
      "NOTE: pick_channels() is a legacy function. New code should use inst.pick(...).\n",
      "NOTE: pick_channels() is a legacy function. New code should use inst.pick(...).\n",
      "NOTE: pick_channels() is a legacy function. New code should use inst.pick(...).\n",
      "Extracting EDF parameters from C:\\Users\\juhoffmann\\Desktop\\EEG_BIDS\\EEG_250Hz\\edf\\Sub-118_BackwardMask_Preprocessed.edf...\n",
      "EDF file detected\n",
      "Setting channel info structure...\n",
      "Creating raw.info structure...\n",
      "Reading 0 ... 134999  =      0.000 ...   539.996 secs...\n",
      "Used Annotations descriptions: ['New Segment', 'R', 'R128', 'S 50', 'S 60', 'S 70', 'S120', 'S130', 'S140', 'S150', 'S160', 'S170', 'Time 0', 'h_h_strong', 'h_h_weak', 'h_n_strong', 'h_n_weak', 'h_s_strong', 'h_s_weak', 'n_h_strong', 'n_h_weak', 'n_n_strong', 'n_n_weak', 'n_s_strong', 'n_s_weak', 's_h_strong', 's_h_weak', 's_n_strong', 's_n_weak', 's_s_strong', 's_s_weak']\n",
      "Multiple event values for single event times found. Creating new event value to reflect simultaneous events.\n",
      "Not setting metadata\n",
      "801 matching events found\n",
      "Applying baseline correction (mode: mean)\n",
      "0 projection items activated\n",
      "Using data from preloaded Raw for 801 events and 301 original time points ...\n"
     ]
    },
    {
     "name": "stderr",
     "output_type": "stream",
     "text": [
      "C:\\Users\\juhoffmann\\AppData\\Local\\Temp\\ipykernel_9188\\58317019.py:14: RuntimeWarning: Omitted 1902 annotation(s) that were outside data range.\n",
      "  eeg = mne.io.read_raw_edf(i, preload = True)\n",
      "C:\\Users\\juhoffmann\\AppData\\Local\\Temp\\ipykernel_9188\\58317019.py:17: RuntimeWarning: Fiducial point nasion not found, assuming identity unknown to head transformation\n",
      "  eeg.set_montage(montage, match_case=False) #set montage to raw dataset\n",
      "C:\\Users\\juhoffmann\\AppData\\Local\\Temp\\ipykernel_9188\\58317019.py:17: RuntimeWarning: Not setting position of 1 ecg channel found in montage:\n",
      "['ECG']\n",
      "Consider setting the channel types to be of EEG/sEEG/ECoG/DBS/fNIRS using inst.set_channel_types before calling inst.set_montage, or omit these channels when creating your montage.\n",
      "  eeg.set_montage(montage, match_case=False) #set montage to raw dataset\n"
     ]
    },
    {
     "name": "stdout",
     "output_type": "stream",
     "text": [
      "3 bad epochs dropped\n",
      "NOTE: pick_channels() is a legacy function. New code should use inst.pick(...).\n",
      "NOTE: pick_channels() is a legacy function. New code should use inst.pick(...).\n",
      "NOTE: pick_channels() is a legacy function. New code should use inst.pick(...).\n",
      "NOTE: pick_channels() is a legacy function. New code should use inst.pick(...).\n",
      "NOTE: pick_channels() is a legacy function. New code should use inst.pick(...).\n",
      "NOTE: pick_channels() is a legacy function. New code should use inst.pick(...).\n",
      "NOTE: pick_channels() is a legacy function. New code should use inst.pick(...).\n",
      "NOTE: pick_channels() is a legacy function. New code should use inst.pick(...).\n",
      "NOTE: pick_channels() is a legacy function. New code should use inst.pick(...).\n",
      "Extracting EDF parameters from C:\\Users\\juhoffmann\\Desktop\\EEG_BIDS\\EEG_250Hz\\edf\\sub-120_BackwardMask_Preprocessed.edf...\n",
      "EDF file detected\n",
      "Setting channel info structure...\n",
      "Creating raw.info structure...\n",
      "Reading 0 ... 132374  =      0.000 ...   529.496 secs...\n",
      "Used Annotations descriptions: ['New Segment', 'R', 'R128', 'S 50', 'S 60', 'S 70', 'S120', 'S130', 'S140', 'S150', 'S160', 'S170', 'TEND', 'TPEAK', 'Time 0', 'h_h_strong', 'h_h_weak', 'h_n_strong', 'h_n_weak', 'h_s_strong', 'h_s_weak', 'n_h_strong', 'n_h_weak', 'n_n_strong', 'n_n_weak', 'n_s_strong', 'n_s_weak', 's_h_strong', 's_h_weak', 's_n_strong', 's_n_weak', 's_s_strong', 's_s_weak']\n",
      "Multiple event values for single event times found. Creating new event value to reflect simultaneous events.\n",
      "Not setting metadata\n",
      "881 matching events found\n",
      "Applying baseline correction (mode: mean)\n",
      "0 projection items activated\n",
      "Using data from preloaded Raw for 881 events and 301 original time points ...\n"
     ]
    },
    {
     "name": "stderr",
     "output_type": "stream",
     "text": [
      "C:\\Users\\juhoffmann\\AppData\\Local\\Temp\\ipykernel_9188\\58317019.py:14: RuntimeWarning: Omitted 2160 annotation(s) that were outside data range.\n",
      "  eeg = mne.io.read_raw_edf(i, preload = True)\n",
      "C:\\Users\\juhoffmann\\AppData\\Local\\Temp\\ipykernel_9188\\58317019.py:17: RuntimeWarning: Fiducial point nasion not found, assuming identity unknown to head transformation\n",
      "  eeg.set_montage(montage, match_case=False) #set montage to raw dataset\n",
      "C:\\Users\\juhoffmann\\AppData\\Local\\Temp\\ipykernel_9188\\58317019.py:17: RuntimeWarning: Not setting position of 1 ecg channel found in montage:\n",
      "['ECG']\n",
      "Consider setting the channel types to be of EEG/sEEG/ECoG/DBS/fNIRS using inst.set_channel_types before calling inst.set_montage, or omit these channels when creating your montage.\n",
      "  eeg.set_montage(montage, match_case=False) #set montage to raw dataset\n"
     ]
    },
    {
     "name": "stdout",
     "output_type": "stream",
     "text": [
      "2 bad epochs dropped\n",
      "NOTE: pick_channels() is a legacy function. New code should use inst.pick(...).\n",
      "NOTE: pick_channels() is a legacy function. New code should use inst.pick(...).\n",
      "NOTE: pick_channels() is a legacy function. New code should use inst.pick(...).\n",
      "NOTE: pick_channels() is a legacy function. New code should use inst.pick(...).\n",
      "NOTE: pick_channels() is a legacy function. New code should use inst.pick(...).\n",
      "NOTE: pick_channels() is a legacy function. New code should use inst.pick(...).\n",
      "NOTE: pick_channels() is a legacy function. New code should use inst.pick(...).\n",
      "NOTE: pick_channels() is a legacy function. New code should use inst.pick(...).\n",
      "NOTE: pick_channels() is a legacy function. New code should use inst.pick(...).\n",
      "Extracting EDF parameters from C:\\Users\\juhoffmann\\Desktop\\EEG_BIDS\\EEG_250Hz\\edf\\sub-122_BackwardMask_Preprocessed.edf...\n",
      "EDF file detected\n",
      "Setting channel info structure...\n",
      "Creating raw.info structure...\n",
      "Reading 0 ... 121124  =      0.000 ...   484.496 secs...\n",
      "Used Annotations descriptions: ['New Segment', 'R', 'R128', 'S 50', 'S 60', 'S 70', 'S120', 'S130', 'S140', 'S150', 'S160', 'S170', 'TEND', 'Time 0', 'h_h_strong', 'h_h_weak', 'h_n_strong', 'h_n_weak', 'h_s_strong', 'h_s_weak', 'n_h_strong', 'n_h_weak', 'n_n_strong', 'n_n_weak', 'n_s_strong', 'n_s_weak', 's_h_strong', 's_h_weak', 's_n_strong', 's_n_weak', 's_s_strong', 's_s_weak']\n",
      "Multiple event values for single event times found. Creating new event value to reflect simultaneous events.\n",
      "Not setting metadata\n",
      "644 matching events found\n",
      "Applying baseline correction (mode: mean)\n",
      "0 projection items activated\n",
      "Using data from preloaded Raw for 644 events and 301 original time points ...\n",
      "3 bad epochs dropped\n"
     ]
    },
    {
     "name": "stderr",
     "output_type": "stream",
     "text": [
      "C:\\Users\\juhoffmann\\AppData\\Local\\Temp\\ipykernel_9188\\58317019.py:14: RuntimeWarning: Omitted 1725 annotation(s) that were outside data range.\n",
      "  eeg = mne.io.read_raw_edf(i, preload = True)\n",
      "C:\\Users\\juhoffmann\\AppData\\Local\\Temp\\ipykernel_9188\\58317019.py:17: RuntimeWarning: Fiducial point nasion not found, assuming identity unknown to head transformation\n",
      "  eeg.set_montage(montage, match_case=False) #set montage to raw dataset\n",
      "C:\\Users\\juhoffmann\\AppData\\Local\\Temp\\ipykernel_9188\\58317019.py:17: RuntimeWarning: Not setting position of 1 ecg channel found in montage:\n",
      "['ECG']\n",
      "Consider setting the channel types to be of EEG/sEEG/ECoG/DBS/fNIRS using inst.set_channel_types before calling inst.set_montage, or omit these channels when creating your montage.\n",
      "  eeg.set_montage(montage, match_case=False) #set montage to raw dataset\n"
     ]
    },
    {
     "name": "stdout",
     "output_type": "stream",
     "text": [
      "NOTE: pick_channels() is a legacy function. New code should use inst.pick(...).\n",
      "NOTE: pick_channels() is a legacy function. New code should use inst.pick(...).\n",
      "NOTE: pick_channels() is a legacy function. New code should use inst.pick(...).\n",
      "NOTE: pick_channels() is a legacy function. New code should use inst.pick(...).\n",
      "NOTE: pick_channels() is a legacy function. New code should use inst.pick(...).\n",
      "NOTE: pick_channels() is a legacy function. New code should use inst.pick(...).\n",
      "NOTE: pick_channels() is a legacy function. New code should use inst.pick(...).\n",
      "NOTE: pick_channels() is a legacy function. New code should use inst.pick(...).\n",
      "NOTE: pick_channels() is a legacy function. New code should use inst.pick(...).\n",
      "Extracting EDF parameters from C:\\Users\\juhoffmann\\Desktop\\EEG_BIDS\\EEG_250Hz\\edf\\sub-123_BackwardMask_Preprocessed.edf...\n",
      "EDF file detected\n",
      "Setting channel info structure...\n",
      "Creating raw.info structure...\n",
      "Reading 0 ... 129374  =      0.000 ...   517.496 secs...\n",
      "Used Annotations descriptions: ['New Segment', 'R', 'R128', 'S 50', 'S 60', 'S 70', 'S120', 'S130', 'S140', 'S150', 'S160', 'S170', 'TEND', 'TPEAK', 'TSTART', 'Time 0', 'h_h_strong', 'h_h_weak', 'h_n_strong', 'h_n_weak', 'h_s_strong', 'h_s_weak', 'n_h_strong', 'n_h_weak', 'n_n_strong', 'n_n_weak', 'n_s_strong', 'n_s_weak', 's_h_strong', 's_h_weak', 's_n_strong', 's_n_weak', 's_s_strong', 's_s_weak']\n",
      "Multiple event values for single event times found. Creating new event value to reflect simultaneous events.\n",
      "Not setting metadata\n",
      "795 matching events found\n",
      "Applying baseline correction (mode: mean)\n",
      "0 projection items activated\n",
      "Using data from preloaded Raw for 795 events and 301 original time points ...\n"
     ]
    },
    {
     "name": "stderr",
     "output_type": "stream",
     "text": [
      "C:\\Users\\juhoffmann\\AppData\\Local\\Temp\\ipykernel_9188\\58317019.py:14: RuntimeWarning: Omitted 2108 annotation(s) that were outside data range.\n",
      "  eeg = mne.io.read_raw_edf(i, preload = True)\n",
      "C:\\Users\\juhoffmann\\AppData\\Local\\Temp\\ipykernel_9188\\58317019.py:17: RuntimeWarning: Fiducial point nasion not found, assuming identity unknown to head transformation\n",
      "  eeg.set_montage(montage, match_case=False) #set montage to raw dataset\n",
      "C:\\Users\\juhoffmann\\AppData\\Local\\Temp\\ipykernel_9188\\58317019.py:17: RuntimeWarning: Not setting position of 1 ecg channel found in montage:\n",
      "['ECG']\n",
      "Consider setting the channel types to be of EEG/sEEG/ECoG/DBS/fNIRS using inst.set_channel_types before calling inst.set_montage, or omit these channels when creating your montage.\n",
      "  eeg.set_montage(montage, match_case=False) #set montage to raw dataset\n"
     ]
    },
    {
     "name": "stdout",
     "output_type": "stream",
     "text": [
      "2 bad epochs dropped\n",
      "NOTE: pick_channels() is a legacy function. New code should use inst.pick(...).\n",
      "NOTE: pick_channels() is a legacy function. New code should use inst.pick(...).\n",
      "NOTE: pick_channels() is a legacy function. New code should use inst.pick(...).\n",
      "NOTE: pick_channels() is a legacy function. New code should use inst.pick(...).\n",
      "NOTE: pick_channels() is a legacy function. New code should use inst.pick(...).\n",
      "NOTE: pick_channels() is a legacy function. New code should use inst.pick(...).\n",
      "NOTE: pick_channels() is a legacy function. New code should use inst.pick(...).\n",
      "NOTE: pick_channels() is a legacy function. New code should use inst.pick(...).\n",
      "NOTE: pick_channels() is a legacy function. New code should use inst.pick(...).\n",
      "Extracting EDF parameters from C:\\Users\\juhoffmann\\Desktop\\EEG_BIDS\\EEG_250Hz\\edf\\sub-124_BackwardMask_Preprocessed.edf...\n",
      "EDF file detected\n",
      "Setting channel info structure...\n",
      "Creating raw.info structure...\n",
      "Reading 0 ... 131999  =      0.000 ...   527.996 secs...\n",
      "Used Annotations descriptions: ['New Segment', 'R', 'R128', 'S 50', 'S 60', 'S 70', 'S120', 'S130', 'S140', 'S150', 'S160', 'S170', 'TEND', 'TPEAK', 'TSTART', 'Time 0', 'h_h_strong', 'h_h_weak', 'h_n_strong', 'h_n_weak', 'h_s_strong', 'h_s_weak', 'n_h_strong', 'n_h_weak', 'n_n_strong', 'n_n_weak', 'n_s_strong', 'n_s_weak', 's_h_strong', 's_h_weak', 's_n_strong', 's_n_weak', 's_s_strong', 's_s_weak']\n",
      "Multiple event values for single event times found. Creating new event value to reflect simultaneous events.\n",
      "Not setting metadata\n",
      "783 matching events found\n",
      "Applying baseline correction (mode: mean)\n",
      "0 projection items activated\n",
      "Using data from preloaded Raw for 783 events and 301 original time points ...\n"
     ]
    },
    {
     "name": "stderr",
     "output_type": "stream",
     "text": [
      "C:\\Users\\juhoffmann\\AppData\\Local\\Temp\\ipykernel_9188\\58317019.py:14: RuntimeWarning: Omitted 1926 annotation(s) that were outside data range.\n",
      "  eeg = mne.io.read_raw_edf(i, preload = True)\n",
      "C:\\Users\\juhoffmann\\AppData\\Local\\Temp\\ipykernel_9188\\58317019.py:17: RuntimeWarning: Fiducial point nasion not found, assuming identity unknown to head transformation\n",
      "  eeg.set_montage(montage, match_case=False) #set montage to raw dataset\n",
      "C:\\Users\\juhoffmann\\AppData\\Local\\Temp\\ipykernel_9188\\58317019.py:17: RuntimeWarning: Not setting position of 1 ecg channel found in montage:\n",
      "['ECG']\n",
      "Consider setting the channel types to be of EEG/sEEG/ECoG/DBS/fNIRS using inst.set_channel_types before calling inst.set_montage, or omit these channels when creating your montage.\n",
      "  eeg.set_montage(montage, match_case=False) #set montage to raw dataset\n"
     ]
    },
    {
     "name": "stdout",
     "output_type": "stream",
     "text": [
      "1 bad epochs dropped\n",
      "NOTE: pick_channels() is a legacy function. New code should use inst.pick(...).\n",
      "NOTE: pick_channels() is a legacy function. New code should use inst.pick(...).\n",
      "NOTE: pick_channels() is a legacy function. New code should use inst.pick(...).\n",
      "NOTE: pick_channels() is a legacy function. New code should use inst.pick(...).\n",
      "NOTE: pick_channels() is a legacy function. New code should use inst.pick(...).\n",
      "NOTE: pick_channels() is a legacy function. New code should use inst.pick(...).\n",
      "NOTE: pick_channels() is a legacy function. New code should use inst.pick(...).\n",
      "NOTE: pick_channels() is a legacy function. New code should use inst.pick(...).\n",
      "NOTE: pick_channels() is a legacy function. New code should use inst.pick(...).\n",
      "Extracting EDF parameters from C:\\Users\\juhoffmann\\Desktop\\EEG_BIDS\\EEG_250Hz\\edf\\sub-125_BackwardMask_Preprocessed.edf...\n",
      "EDF file detected\n",
      "Setting channel info structure...\n",
      "Creating raw.info structure...\n",
      "Reading 0 ... 131999  =      0.000 ...   527.996 secs...\n",
      "Used Annotations descriptions: ['New Segment', 'R', 'R128', 'S 50', 'S 60', 'S 70', 'S120', 'S130', 'S140', 'S150', 'S160', 'S170', 'Time 0', 'h_h_strong', 'h_h_weak', 'h_n_strong', 'h_n_weak', 'h_s_strong', 'h_s_weak', 'n_h_strong', 'n_h_weak', 'n_n_strong', 'n_n_weak', 'n_s_strong', 'n_s_weak', 's_h_strong', 's_h_weak', 's_n_strong', 's_n_weak', 's_s_strong', 's_s_weak']\n",
      "Multiple event values for single event times found. Creating new event value to reflect simultaneous events.\n",
      "Not setting metadata\n",
      "802 matching events found\n",
      "Applying baseline correction (mode: mean)\n",
      "0 projection items activated\n",
      "Using data from preloaded Raw for 802 events and 301 original time points ...\n"
     ]
    },
    {
     "name": "stderr",
     "output_type": "stream",
     "text": [
      "C:\\Users\\juhoffmann\\AppData\\Local\\Temp\\ipykernel_9188\\58317019.py:14: RuntimeWarning: Omitted 1922 annotation(s) that were outside data range.\n",
      "  eeg = mne.io.read_raw_edf(i, preload = True)\n",
      "C:\\Users\\juhoffmann\\AppData\\Local\\Temp\\ipykernel_9188\\58317019.py:17: RuntimeWarning: Fiducial point nasion not found, assuming identity unknown to head transformation\n",
      "  eeg.set_montage(montage, match_case=False) #set montage to raw dataset\n",
      "C:\\Users\\juhoffmann\\AppData\\Local\\Temp\\ipykernel_9188\\58317019.py:17: RuntimeWarning: Not setting position of 1 ecg channel found in montage:\n",
      "['ECG']\n",
      "Consider setting the channel types to be of EEG/sEEG/ECoG/DBS/fNIRS using inst.set_channel_types before calling inst.set_montage, or omit these channels when creating your montage.\n",
      "  eeg.set_montage(montage, match_case=False) #set montage to raw dataset\n"
     ]
    },
    {
     "name": "stdout",
     "output_type": "stream",
     "text": [
      "2 bad epochs dropped\n",
      "NOTE: pick_channels() is a legacy function. New code should use inst.pick(...).\n",
      "NOTE: pick_channels() is a legacy function. New code should use inst.pick(...).\n",
      "NOTE: pick_channels() is a legacy function. New code should use inst.pick(...).\n",
      "NOTE: pick_channels() is a legacy function. New code should use inst.pick(...).\n",
      "NOTE: pick_channels() is a legacy function. New code should use inst.pick(...).\n",
      "NOTE: pick_channels() is a legacy function. New code should use inst.pick(...).\n",
      "NOTE: pick_channels() is a legacy function. New code should use inst.pick(...).\n",
      "NOTE: pick_channels() is a legacy function. New code should use inst.pick(...).\n",
      "NOTE: pick_channels() is a legacy function. New code should use inst.pick(...).\n",
      "Extracting EDF parameters from C:\\Users\\juhoffmann\\Desktop\\EEG_BIDS\\EEG_250Hz\\edf\\sub-126_BackwardMask_Preprocessed.edf...\n",
      "EDF file detected\n",
      "Setting channel info structure...\n",
      "Creating raw.info structure...\n",
      "Reading 0 ... 133874  =      0.000 ...   535.496 secs...\n",
      "Used Annotations descriptions: ['New Segment', 'R', 'R128', 'S 50', 'S 60', 'S 70', 'S120', 'S130', 'S140', 'S150', 'S160', 'S170', 'TEND', 'TPEAK', 'TSTART', 'Time 0', 'h_h_strong', 'h_h_weak', 'h_n_strong', 'h_n_weak', 'h_s_strong', 'h_s_weak', 'n_h_strong', 'n_h_weak', 'n_n_strong', 'n_n_weak', 'n_s_strong', 'n_s_weak', 's_h_strong', 's_h_weak', 's_n_strong', 's_n_weak', 's_s_strong', 's_s_weak']\n",
      "Multiple event values for single event times found. Creating new event value to reflect simultaneous events.\n",
      "Not setting metadata\n",
      "816 matching events found\n",
      "Applying baseline correction (mode: mean)\n",
      "0 projection items activated\n",
      "Using data from preloaded Raw for 816 events and 301 original time points ...\n"
     ]
    },
    {
     "name": "stderr",
     "output_type": "stream",
     "text": [
      "C:\\Users\\juhoffmann\\AppData\\Local\\Temp\\ipykernel_9188\\58317019.py:14: RuntimeWarning: Omitted 1885 annotation(s) that were outside data range.\n",
      "  eeg = mne.io.read_raw_edf(i, preload = True)\n",
      "C:\\Users\\juhoffmann\\AppData\\Local\\Temp\\ipykernel_9188\\58317019.py:17: RuntimeWarning: Fiducial point nasion not found, assuming identity unknown to head transformation\n",
      "  eeg.set_montage(montage, match_case=False) #set montage to raw dataset\n",
      "C:\\Users\\juhoffmann\\AppData\\Local\\Temp\\ipykernel_9188\\58317019.py:17: RuntimeWarning: Not setting position of 1 ecg channel found in montage:\n",
      "['ECG']\n",
      "Consider setting the channel types to be of EEG/sEEG/ECoG/DBS/fNIRS using inst.set_channel_types before calling inst.set_montage, or omit these channels when creating your montage.\n",
      "  eeg.set_montage(montage, match_case=False) #set montage to raw dataset\n"
     ]
    },
    {
     "name": "stdout",
     "output_type": "stream",
     "text": [
      "2 bad epochs dropped\n",
      "NOTE: pick_channels() is a legacy function. New code should use inst.pick(...).\n",
      "NOTE: pick_channels() is a legacy function. New code should use inst.pick(...).\n",
      "NOTE: pick_channels() is a legacy function. New code should use inst.pick(...).\n",
      "NOTE: pick_channels() is a legacy function. New code should use inst.pick(...).\n",
      "NOTE: pick_channels() is a legacy function. New code should use inst.pick(...).\n",
      "NOTE: pick_channels() is a legacy function. New code should use inst.pick(...).\n",
      "NOTE: pick_channels() is a legacy function. New code should use inst.pick(...).\n",
      "NOTE: pick_channels() is a legacy function. New code should use inst.pick(...).\n",
      "NOTE: pick_channels() is a legacy function. New code should use inst.pick(...).\n",
      "Extracting EDF parameters from C:\\Users\\juhoffmann\\Desktop\\EEG_BIDS\\EEG_250Hz\\edf\\sub-127_BackwardMask_Preprocessed.edf...\n",
      "EDF file detected\n",
      "Setting channel info structure...\n",
      "Creating raw.info structure...\n",
      "Reading 0 ... 134624  =      0.000 ...   538.496 secs...\n",
      "Used Annotations descriptions: ['New Segment', 'R', 'R128', 'S 50', 'S 60', 'S 70', 'S120', 'S130', 'S140', 'S150', 'S160', 'S170', 'TPEAK', 'TSTART', 'Time 0', 'h_h_strong', 'h_h_weak', 'h_n_strong', 'h_n_weak', 'h_s_strong', 'h_s_weak', 'n_h_strong', 'n_h_weak', 'n_n_strong', 'n_n_weak', 'n_s_strong', 'n_s_weak', 's_h_strong', 's_h_weak', 's_n_strong', 's_n_weak', 's_s_strong', 's_s_weak']\n",
      "Multiple event values for single event times found. Creating new event value to reflect simultaneous events.\n",
      "Not setting metadata\n",
      "836 matching events found\n",
      "Applying baseline correction (mode: mean)\n",
      "0 projection items activated\n",
      "Using data from preloaded Raw for 836 events and 301 original time points ...\n"
     ]
    },
    {
     "name": "stderr",
     "output_type": "stream",
     "text": [
      "C:\\Users\\juhoffmann\\AppData\\Local\\Temp\\ipykernel_9188\\58317019.py:14: RuntimeWarning: Omitted 1968 annotation(s) that were outside data range.\n",
      "  eeg = mne.io.read_raw_edf(i, preload = True)\n",
      "C:\\Users\\juhoffmann\\AppData\\Local\\Temp\\ipykernel_9188\\58317019.py:17: RuntimeWarning: Fiducial point nasion not found, assuming identity unknown to head transformation\n",
      "  eeg.set_montage(montage, match_case=False) #set montage to raw dataset\n",
      "C:\\Users\\juhoffmann\\AppData\\Local\\Temp\\ipykernel_9188\\58317019.py:17: RuntimeWarning: Not setting position of 1 ecg channel found in montage:\n",
      "['ECG']\n",
      "Consider setting the channel types to be of EEG/sEEG/ECoG/DBS/fNIRS using inst.set_channel_types before calling inst.set_montage, or omit these channels when creating your montage.\n",
      "  eeg.set_montage(montage, match_case=False) #set montage to raw dataset\n"
     ]
    },
    {
     "name": "stdout",
     "output_type": "stream",
     "text": [
      "2 bad epochs dropped\n",
      "NOTE: pick_channels() is a legacy function. New code should use inst.pick(...).\n",
      "NOTE: pick_channels() is a legacy function. New code should use inst.pick(...).\n",
      "NOTE: pick_channels() is a legacy function. New code should use inst.pick(...).\n",
      "NOTE: pick_channels() is a legacy function. New code should use inst.pick(...).\n",
      "NOTE: pick_channels() is a legacy function. New code should use inst.pick(...).\n",
      "NOTE: pick_channels() is a legacy function. New code should use inst.pick(...).\n",
      "NOTE: pick_channels() is a legacy function. New code should use inst.pick(...).\n",
      "NOTE: pick_channels() is a legacy function. New code should use inst.pick(...).\n",
      "NOTE: pick_channels() is a legacy function. New code should use inst.pick(...).\n",
      "Extracting EDF parameters from C:\\Users\\juhoffmann\\Desktop\\EEG_BIDS\\EEG_250Hz\\edf\\sub-128_BackwardMask_Preprocessed.edf...\n",
      "EDF file detected\n",
      "Setting channel info structure...\n",
      "Creating raw.info structure...\n",
      "Reading 0 ... 117374  =      0.000 ...   469.496 secs...\n",
      "Used Annotations descriptions: ['New Segment', 'R', 'R128', 'S 50', 'S 60', 'S 70', 'S120', 'S130', 'S140', 'S150', 'S160', 'S170', 'Time 0', 'h_h_strong', 'h_h_weak', 'h_n_strong', 'h_n_weak', 'h_s_strong', 'h_s_weak', 'n_h_strong', 'n_h_weak', 'n_n_strong', 'n_n_weak', 'n_s_strong', 'n_s_weak', 's_h_strong', 's_h_weak', 's_n_strong', 's_n_weak', 's_s_strong', 's_s_weak']\n",
      "Multiple event values for single event times found. Creating new event value to reflect simultaneous events.\n",
      "Not setting metadata\n",
      "651 matching events found\n",
      "Applying baseline correction (mode: mean)\n",
      "0 projection items activated\n",
      "Using data from preloaded Raw for 651 events and 301 original time points ...\n",
      "2 bad epochs dropped\n"
     ]
    },
    {
     "name": "stderr",
     "output_type": "stream",
     "text": [
      "C:\\Users\\juhoffmann\\AppData\\Local\\Temp\\ipykernel_9188\\58317019.py:14: RuntimeWarning: Omitted 1677 annotation(s) that were outside data range.\n",
      "  eeg = mne.io.read_raw_edf(i, preload = True)\n",
      "C:\\Users\\juhoffmann\\AppData\\Local\\Temp\\ipykernel_9188\\58317019.py:17: RuntimeWarning: Fiducial point nasion not found, assuming identity unknown to head transformation\n",
      "  eeg.set_montage(montage, match_case=False) #set montage to raw dataset\n",
      "C:\\Users\\juhoffmann\\AppData\\Local\\Temp\\ipykernel_9188\\58317019.py:17: RuntimeWarning: Not setting position of 1 ecg channel found in montage:\n",
      "['ECG']\n",
      "Consider setting the channel types to be of EEG/sEEG/ECoG/DBS/fNIRS using inst.set_channel_types before calling inst.set_montage, or omit these channels when creating your montage.\n",
      "  eeg.set_montage(montage, match_case=False) #set montage to raw dataset\n"
     ]
    },
    {
     "name": "stdout",
     "output_type": "stream",
     "text": [
      "NOTE: pick_channels() is a legacy function. New code should use inst.pick(...).\n",
      "NOTE: pick_channels() is a legacy function. New code should use inst.pick(...).\n",
      "NOTE: pick_channels() is a legacy function. New code should use inst.pick(...).\n",
      "NOTE: pick_channels() is a legacy function. New code should use inst.pick(...).\n",
      "NOTE: pick_channels() is a legacy function. New code should use inst.pick(...).\n",
      "NOTE: pick_channels() is a legacy function. New code should use inst.pick(...).\n",
      "NOTE: pick_channels() is a legacy function. New code should use inst.pick(...).\n",
      "NOTE: pick_channels() is a legacy function. New code should use inst.pick(...).\n",
      "NOTE: pick_channels() is a legacy function. New code should use inst.pick(...).\n",
      "Extracting EDF parameters from C:\\Users\\juhoffmann\\Desktop\\EEG_BIDS\\EEG_250Hz\\edf\\sub-129_BackwardMask_Preprocessed.edf...\n",
      "EDF file detected\n",
      "Setting channel info structure...\n",
      "Creating raw.info structure...\n",
      "Reading 0 ... 130124  =      0.000 ...   520.496 secs...\n",
      "Used Annotations descriptions: ['New Segment', 'R', 'R128', 'S 50', 'S 60', 'S 70', 'S120', 'S130', 'S140', 'S150', 'S160', 'S170', 'Time 0', 'h_h_strong', 'h_h_weak', 'h_n_strong', 'h_n_weak', 'h_s_strong', 'h_s_weak', 'n_h_strong', 'n_h_weak', 'n_n_strong', 'n_n_weak', 'n_s_strong', 'n_s_weak', 's_h_strong', 's_h_weak', 's_n_strong', 's_n_weak', 's_s_strong', 's_s_weak']\n",
      "Multiple event values for single event times found. Creating new event value to reflect simultaneous events.\n",
      "Not setting metadata\n",
      "746 matching events found\n",
      "Applying baseline correction (mode: mean)\n",
      "0 projection items activated\n",
      "Using data from preloaded Raw for 746 events and 301 original time points ...\n"
     ]
    },
    {
     "name": "stderr",
     "output_type": "stream",
     "text": [
      "C:\\Users\\juhoffmann\\AppData\\Local\\Temp\\ipykernel_9188\\58317019.py:14: RuntimeWarning: Omitted 1976 annotation(s) that were outside data range.\n",
      "  eeg = mne.io.read_raw_edf(i, preload = True)\n",
      "C:\\Users\\juhoffmann\\AppData\\Local\\Temp\\ipykernel_9188\\58317019.py:17: RuntimeWarning: Fiducial point nasion not found, assuming identity unknown to head transformation\n",
      "  eeg.set_montage(montage, match_case=False) #set montage to raw dataset\n",
      "C:\\Users\\juhoffmann\\AppData\\Local\\Temp\\ipykernel_9188\\58317019.py:17: RuntimeWarning: Not setting position of 1 ecg channel found in montage:\n",
      "['ECG']\n",
      "Consider setting the channel types to be of EEG/sEEG/ECoG/DBS/fNIRS using inst.set_channel_types before calling inst.set_montage, or omit these channels when creating your montage.\n",
      "  eeg.set_montage(montage, match_case=False) #set montage to raw dataset\n"
     ]
    },
    {
     "name": "stdout",
     "output_type": "stream",
     "text": [
      "3 bad epochs dropped\n",
      "NOTE: pick_channels() is a legacy function. New code should use inst.pick(...).\n",
      "NOTE: pick_channels() is a legacy function. New code should use inst.pick(...).\n",
      "NOTE: pick_channels() is a legacy function. New code should use inst.pick(...).\n",
      "NOTE: pick_channels() is a legacy function. New code should use inst.pick(...).\n",
      "NOTE: pick_channels() is a legacy function. New code should use inst.pick(...).\n",
      "NOTE: pick_channels() is a legacy function. New code should use inst.pick(...).\n",
      "NOTE: pick_channels() is a legacy function. New code should use inst.pick(...).\n",
      "NOTE: pick_channels() is a legacy function. New code should use inst.pick(...).\n",
      "NOTE: pick_channels() is a legacy function. New code should use inst.pick(...).\n",
      "Extracting EDF parameters from C:\\Users\\juhoffmann\\Desktop\\EEG_BIDS\\EEG_250Hz\\edf\\sub-130_BackwardMask_Preprocessed.edf...\n",
      "EDF file detected\n",
      "Setting channel info structure...\n",
      "Creating raw.info structure...\n",
      "Reading 0 ... 133124  =      0.000 ...   532.496 secs...\n",
      "Used Annotations descriptions: ['New Segment', 'R', 'R128', 'S 50', 'S 60', 'S 70', 'S120', 'S130', 'S140', 'S150', 'S160', 'S170', 'TEND', 'Time 0', 'h_h_strong', 'h_h_weak', 'h_n_strong', 'h_n_weak', 'h_s_strong', 'h_s_weak', 'n_h_strong', 'n_h_weak', 'n_n_strong', 'n_n_weak', 'n_s_strong', 'n_s_weak', 's_h_strong', 's_h_weak', 's_n_strong', 's_n_weak', 's_s_strong', 's_s_weak']\n",
      "Multiple event values for single event times found. Creating new event value to reflect simultaneous events.\n",
      "Not setting metadata\n",
      "781 matching events found\n",
      "Applying baseline correction (mode: mean)\n",
      "0 projection items activated\n",
      "Using data from preloaded Raw for 781 events and 301 original time points ...\n"
     ]
    },
    {
     "name": "stderr",
     "output_type": "stream",
     "text": [
      "C:\\Users\\juhoffmann\\AppData\\Local\\Temp\\ipykernel_9188\\58317019.py:14: RuntimeWarning: Omitted 1809 annotation(s) that were outside data range.\n",
      "  eeg = mne.io.read_raw_edf(i, preload = True)\n",
      "C:\\Users\\juhoffmann\\AppData\\Local\\Temp\\ipykernel_9188\\58317019.py:17: RuntimeWarning: Fiducial point nasion not found, assuming identity unknown to head transformation\n",
      "  eeg.set_montage(montage, match_case=False) #set montage to raw dataset\n",
      "C:\\Users\\juhoffmann\\AppData\\Local\\Temp\\ipykernel_9188\\58317019.py:17: RuntimeWarning: Not setting position of 1 ecg channel found in montage:\n",
      "['ECG']\n",
      "Consider setting the channel types to be of EEG/sEEG/ECoG/DBS/fNIRS using inst.set_channel_types before calling inst.set_montage, or omit these channels when creating your montage.\n",
      "  eeg.set_montage(montage, match_case=False) #set montage to raw dataset\n"
     ]
    },
    {
     "name": "stdout",
     "output_type": "stream",
     "text": [
      "1 bad epochs dropped\n",
      "NOTE: pick_channels() is a legacy function. New code should use inst.pick(...).\n",
      "NOTE: pick_channels() is a legacy function. New code should use inst.pick(...).\n",
      "NOTE: pick_channels() is a legacy function. New code should use inst.pick(...).\n",
      "NOTE: pick_channels() is a legacy function. New code should use inst.pick(...).\n",
      "NOTE: pick_channels() is a legacy function. New code should use inst.pick(...).\n",
      "NOTE: pick_channels() is a legacy function. New code should use inst.pick(...).\n",
      "NOTE: pick_channels() is a legacy function. New code should use inst.pick(...).\n",
      "NOTE: pick_channels() is a legacy function. New code should use inst.pick(...).\n",
      "NOTE: pick_channels() is a legacy function. New code should use inst.pick(...).\n",
      "Extracting EDF parameters from C:\\Users\\juhoffmann\\Desktop\\EEG_BIDS\\EEG_250Hz\\edf\\sub-131_BackwardMask_Preprocessed.edf...\n",
      "EDF file detected\n",
      "Setting channel info structure...\n",
      "Creating raw.info structure...\n",
      "Reading 0 ... 126749  =      0.000 ...   506.996 secs...\n",
      "Used Annotations descriptions: ['New Segment', 'R', 'R128', 'S 50', 'S 60', 'S 70', 'S120', 'S130', 'S140', 'S150', 'S160', 'S170', 'TEND', 'TPEAK', 'Time 0', 'h_h_strong', 'h_h_weak', 'h_n_strong', 'h_n_weak', 'h_s_strong', 'h_s_weak', 'n_h_strong', 'n_h_weak', 'n_n_strong', 'n_n_weak', 'n_s_strong', 'n_s_weak', 's_h_strong', 's_h_weak', 's_n_strong', 's_n_weak', 's_s_strong', 's_s_weak']\n",
      "Multiple event values for single event times found. Creating new event value to reflect simultaneous events.\n",
      "Not setting metadata\n",
      "799 matching events found\n",
      "Applying baseline correction (mode: mean)\n",
      "0 projection items activated\n",
      "Using data from preloaded Raw for 799 events and 301 original time points ...\n"
     ]
    },
    {
     "name": "stderr",
     "output_type": "stream",
     "text": [
      "C:\\Users\\juhoffmann\\AppData\\Local\\Temp\\ipykernel_9188\\58317019.py:14: RuntimeWarning: Omitted 1943 annotation(s) that were outside data range.\n",
      "  eeg = mne.io.read_raw_edf(i, preload = True)\n",
      "C:\\Users\\juhoffmann\\AppData\\Local\\Temp\\ipykernel_9188\\58317019.py:17: RuntimeWarning: Fiducial point nasion not found, assuming identity unknown to head transformation\n",
      "  eeg.set_montage(montage, match_case=False) #set montage to raw dataset\n",
      "C:\\Users\\juhoffmann\\AppData\\Local\\Temp\\ipykernel_9188\\58317019.py:17: RuntimeWarning: Not setting position of 1 ecg channel found in montage:\n",
      "['ECG']\n",
      "Consider setting the channel types to be of EEG/sEEG/ECoG/DBS/fNIRS using inst.set_channel_types before calling inst.set_montage, or omit these channels when creating your montage.\n",
      "  eeg.set_montage(montage, match_case=False) #set montage to raw dataset\n"
     ]
    },
    {
     "name": "stdout",
     "output_type": "stream",
     "text": [
      "7 bad epochs dropped\n",
      "NOTE: pick_channels() is a legacy function. New code should use inst.pick(...).\n",
      "NOTE: pick_channels() is a legacy function. New code should use inst.pick(...).\n",
      "NOTE: pick_channels() is a legacy function. New code should use inst.pick(...).\n",
      "NOTE: pick_channels() is a legacy function. New code should use inst.pick(...).\n",
      "NOTE: pick_channels() is a legacy function. New code should use inst.pick(...).\n",
      "NOTE: pick_channels() is a legacy function. New code should use inst.pick(...).\n",
      "NOTE: pick_channels() is a legacy function. New code should use inst.pick(...).\n",
      "NOTE: pick_channels() is a legacy function. New code should use inst.pick(...).\n",
      "NOTE: pick_channels() is a legacy function. New code should use inst.pick(...).\n"
     ]
    }
   ],
   "source": [
    "primer_happy_strong = []\n",
    "primer_happy_weak = []\n",
    "primer_sad_strong = []\n",
    "primer_sad_weak = []\n",
    "primer_neutral_strong = []\n",
    "primer_neutral_weak = []\n",
    "primer = []\n",
    "primer_unconscious = []\n",
    "primer_conscious = []\n",
    "\n",
    "for i in subjects:\n",
    "\n",
    "    # Load Dataset\n",
    "    eeg = mne.io.read_raw_edf(i, preload = True)\n",
    "    eeg.set_channel_types(mapping={'ECG': 'ecg'}) #define ECG channel \n",
    "    #montage.plot() \n",
    "    eeg.set_montage(montage, match_case=False) #set montage to raw dataset\n",
    "    \n",
    "    #Find events\n",
    "    events, event_id = mne.events_from_annotations(eeg)\n",
    "    \n",
    "    #Define epochs\n",
    "    epochs = mne.Epochs(eeg, events,\n",
    "                        event_id = event_id,\n",
    "                        preload = True,\n",
    "                        tmin= tmin, \n",
    "                        tmax= tmax, \n",
    "                        event_repeated='merge',\n",
    "                        baseline = baseline) #set baseline from -0.2s to - 0 seconds\n",
    "    \n",
    "    evoked_primer_happy_strong = epochs['h_h_strong','h_n_strong','h_s_strong'].average()\n",
    "    evoked_primer_happy_weak = epochs['h_h_weak','h_n_weak','h_s_weak'].average()\n",
    "    evoked_primer_sad_strong = epochs['s_h_strong','s_n_strong','s_s_strong'].average()\n",
    "    evoked_primer_sad_weak = epochs['s_h_weak','s_n_weak','s_s_weak'].average()\n",
    "    evoked_primer_neutral_strong = epochs['n_h_strong','n_n_strong','n_s_strong'].average()\n",
    "    evoked_primer_neutral_weak = epochs['n_h_weak','n_n_weak','n_s_weak'].average()\n",
    "    \n",
    "    evoked_primer = epochs['h_h_strong','h_n_strong','h_s_strong','h_h_weak','h_n_weak','h_s_weak','s_h_strong','s_n_strong','s_s_strong','s_h_weak','s_n_weak','s_s_weak','n_h_strong','n_n_strong','n_s_strong','n_h_weak','n_n_weak','n_s_weak'].average()\n",
    "    evoked_primer_unconscious = epochs['h_h_strong','h_n_strong','h_s_strong','s_h_strong','s_n_strong','s_s_strong','n_h_strong','n_n_strong','n_s_strong'].average()\n",
    "    evoked_primer_conscious = epochs['h_h_weak','h_n_weak','h_s_weak','s_h_weak','s_n_weak','s_s_weak','n_h_weak','n_n_weak','n_s_weak'].average()\n",
    "    \n",
    "    #append all evokeds\n",
    "    primer_happy_strong.append(evoked_primer_happy_strong)\n",
    "    primer_happy_weak.append(evoked_primer_happy_weak)\n",
    "    primer_sad_strong.append(evoked_primer_sad_strong)\n",
    "    primer_sad_weak.append(evoked_primer_sad_weak)    \n",
    "    primer_neutral_strong.append(evoked_primer_neutral_strong)\n",
    "    primer_neutral_weak.append(evoked_primer_neutral_weak)   \n",
    "    primer.append(evoked_primer)\n",
    "    primer_unconscious.append(evoked_primer_unconscious)\n",
    "    primer_conscious.append(evoked_primer_conscious)\n",
    "    \n",
    "    del eeg  # reduce memory usage"
   ]
  },
  {
   "cell_type": "code",
   "execution_count": 75,
   "metadata": {},
   "outputs": [
    {
     "data": {
      "text/plain": [
       "'C:/Users/juhoffmann/Desktop/EEG_BIDS/EEG_250Hz/edf\\\\sub-131_BackwardMask_Preprocessed.edf'"
      ]
     },
     "execution_count": 75,
     "metadata": {},
     "output_type": "execute_result"
    }
   ],
   "source": [
    "i"
   ]
  },
  {
   "cell_type": "markdown",
   "metadata": {},
   "source": [
    "## Plot topomap"
   ]
  },
  {
   "cell_type": "code",
   "execution_count": 76,
   "metadata": {},
   "outputs": [],
   "source": [
    "average_primer = mne.combine_evoked(primer, weights='equal')\n",
    "average_primer_unconscious = mne.combine_evoked(primer_unconscious, weights='equal')\n",
    "average_primer_conscious = mne.combine_evoked(primer_conscious, weights='equal')"
   ]
  },
  {
   "cell_type": "code",
   "execution_count": 78,
   "metadata": {},
   "outputs": [
    {
     "data": {
      "image/png": "[encoded data removed]",
      "text/plain": [
       "<MNEFigure size 300x220 with 2 Axes>"
      ]
     },
     "metadata": {},
     "output_type": "display_data"
    }
   ],
   "source": [
    "fig = average_primer.plot_topomap(0.170,extrapolate=\"head\",show_names=True)\n",
    "fig.set_size_inches(7, 5, forward=True) \n",
    "fig.savefig('TopoMap_primer.png', dpi=300)"
   ]
  },
  {
   "cell_type": "code",
   "execution_count": 79,
   "metadata": {},
   "outputs": [
    {
     "data": {
      "image/png": "[encoded data removed]",
      "text/plain": [
       "<MNEFigure size 300x220 with 2 Axes>"
      ]
     },
     "metadata": {},
     "output_type": "display_data"
    }
   ],
   "source": [
    "fig2 = average_primer_unconscious.plot_topomap(0.170,extrapolate=\"head\",show_names=True)\n",
    "fig2.set_size_inches(7, 5, forward=True) \n",
    "fig2.savefig('TopoMap_uncon_primer.png', dpi=300)"
   ]
  },
  {
   "cell_type": "code",
   "execution_count": 81,
   "metadata": {},
   "outputs": [
    {
     "data": {
      "image/png": "[encoded data removed]",
      "text/plain": [
       "<MNEFigure size 300x220 with 2 Axes>"
      ]
     },
     "metadata": {},
     "output_type": "display_data"
    }
   ],
   "source": [
    "fig3 = average_primer_conscious.plot_topomap(0.170,extrapolate=\"head\",show_names=True)\n",
    "fig3.set_size_inches(7, 5, forward=True) \n",
    "fig3.savefig('TopoMap_con_primer.png', dpi=300)"
   ]
  },
  {
   "cell_type": "code",
   "execution_count": null,
   "metadata": {},
   "outputs": [],
   "source": []
  }
 ],
 "metadata": {
  "kernelspec": {
   "display_name": "EEG_analysis",
   "language": "python",
   "name": "eeg_analysis"
  },
  "language_info": {
   "codemirror_mode": {
    "name": "ipython",
    "version": 3
   },
   "file_extension": ".py",
   "mimetype": "text/x-python",
   "name": "python",
   "nbconvert_exporter": "python",
   "pygments_lexer": "ipython3",
   "version": "3.12.0"
  }
 },
 "nbformat": 4,
 "nbformat_minor": 4
}
